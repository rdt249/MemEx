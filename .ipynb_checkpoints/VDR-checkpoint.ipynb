{
 "cells": [
  {
   "cell_type": "code",
   "execution_count": null,
   "id": "cb460433",
   "metadata": {
    "scrolled": true
   },
   "outputs": [],
   "source": [
    "from memex import *\n",
    "rollcall()\n",
    "print(read_outs())\n",
    "print(read_currents())"
   ]
  },
  {
   "cell_type": "code",
   "execution_count": 3,
   "id": "006bf179",
   "metadata": {},
   "outputs": [
    {
     "name": "stdout",
     "output_type": "stream",
     "text": [
      "(3.266849696340831, 3.3003507187108982, 3.3008507339701527, 3.3003507187108982)\n",
      "A1:\tstatus=65\tmode=sequential\thold=disabled\tr/w=pass\taddr=16bit\n",
      "A2:\tstatus=65\tmode=sequential\thold=disabled\tr/w=pass\taddr=16bit\n",
      "A3:\tstatus=65\tmode=sequential\thold=disabled\tr/w=pass\taddr=16bit\n",
      "B1:\tstatus=255\tmode=unknown\thold=disabled\tr/w=fail\taddr=unknown\n",
      "B2:\tstatus=255\tmode=unknown\thold=disabled\tr/w=fail\taddr=unknown\n",
      "B3:\tstatus=255\tmode=unknown\thold=disabled\tr/w=fail\taddr=unknown\n",
      "C1:\tstatus=65\tmode=sequential\thold=disabled\tr/w=pass\taddr=24bit\n",
      "C2:\tstatus=65\tmode=sequential\thold=disabled\tr/w=pass\taddr=24bit\n",
      "C3:\tstatus=65\tmode=sequential\thold=disabled\tr/w=pass\taddr=24bit\n",
      "D1:\tstatus=255\tmode=unknown\thold=disabled\tr/w=fail\taddr=unknown\n",
      "D2:\tstatus=255\tmode=unknown\thold=disabled\tr/w=fail\taddr=unknown\n",
      "D3:\tstatus=255\tmode=unknown\thold=disabled\tr/w=fail\taddr=unknown\n",
      "(0.5005152745139928, 0.5006402783288064, 0.4996402478102969, 0.49976525162511065)\n",
      "(3.266724692526017, 3.3003507187108982, 3.300475722525712, 3.3002257148960843)\n",
      "A1:\tstatus=65\tmode=sequential\thold=disabled\tr/w=pass\taddr=16bit\n",
      "A2:\tstatus=65\tmode=sequential\thold=disabled\tr/w=pass\taddr=16bit\n",
      "A3:\tstatus=65\tmode=sequential\thold=disabled\tr/w=pass\taddr=16bit\n",
      "B1:\tstatus=255\tmode=unknown\thold=disabled\tr/w=fail\taddr=unknown\n",
      "B2:\tstatus=255\tmode=unknown\thold=disabled\tr/w=fail\taddr=unknown\n",
      "B3:\tstatus=255\tmode=unknown\thold=disabled\tr/w=fail\taddr=unknown\n",
      "C1:\tstatus=65\tmode=sequential\thold=disabled\tr/w=pass\taddr=24bit\n",
      "C2:\tstatus=65\tmode=sequential\thold=disabled\tr/w=pass\taddr=24bit\n",
      "C3:\tstatus=65\tmode=sequential\thold=disabled\tr/w=pass\taddr=24bit\n",
      "D1:\tstatus=255\tmode=unknown\thold=disabled\tr/w=fail\taddr=unknown\n",
      "D2:\tstatus=255\tmode=unknown\thold=disabled\tr/w=fail\taddr=unknown\n",
      "D3:\tstatus=255\tmode=unknown\thold=disabled\tr/w=fail\taddr=unknown\n"
     ]
    },
    {
     "data": {
      "text/plain": [
       "(['A1', 'A2', 'A3', 'C1', 'C2', 'C3'],\n",
       " [True,\n",
       "  True,\n",
       "  True,\n",
       "  False,\n",
       "  False,\n",
       "  False,\n",
       "  True,\n",
       "  True,\n",
       "  True,\n",
       "  False,\n",
       "  False,\n",
       "  False],\n",
       " [2, 2, 2, 3, 3, 3, 3, 3, 3, 3, 3, 3])"
      ]
     },
     "execution_count": 3,
     "metadata": {},
     "output_type": "execute_result"
    }
   ],
   "source": [
    "from memex import *\n",
    "import time\n",
    "print(set_outs(3.3,3.3,3.3,3.3))\n",
    "rollcall()\n",
    "print(set_outs(0.5,0.5,0.5,0.5))\n",
    "time.sleep(1)\n",
    "print(set_outs(3.3,3.3,3.3,3.3))\n",
    "rollcall()"
   ]
  },
  {
   "cell_type": "markdown",
   "id": "3a618705",
   "metadata": {},
   "source": [
    "# Generate data\n",
    "\n",
    "Generates 2 pandas dataframes, `vdr` and `loss`.\n",
    "`vdr` contains the data retention voltage for each memory cell as a function of address.\n",
    "`loss` contains the percentage data loss of each memory as a function of voltage."
   ]
  },
  {
   "cell_type": "code",
   "execution_count": 1,
   "id": "4bd2e459",
   "metadata": {
    "scrolled": false
   },
   "outputs": [
    {
     "name": "stdout",
     "output_type": "stream",
     "text": [
      "A1:\tmode=sequential\thold=disabled\tr/w=pass\taddr=16bit\n",
      "A2:\tmode=sequential\thold=disabled\tr/w=pass\taddr=16bit\n",
      "A3:\tmode=sequential\thold=disabled\tr/w=pass\taddr=16bit\n",
      "B1:\tmode=unknown\thold=disabled\tr/w=fail\taddr=unknown\n",
      "B2:\tmode=unknown\thold=disabled\tr/w=fail\taddr=unknown\n",
      "B3:\tmode=unknown\thold=disabled\tr/w=fail\taddr=unknown\n",
      "C1:\tmode=unknown\thold=disabled\t"
     ]
    },
    {
     "ename": "NameError",
     "evalue": "name 'pritn' is not defined",
     "output_type": "error",
     "traceback": [
      "\u001b[0;31m---------------------------------------------------------------------------\u001b[0m",
      "\u001b[0;31mNameError\u001b[0m                                 Traceback (most recent call last)",
      "\u001b[0;32m/tmp/ipykernel_1507/1613348633.py\u001b[0m in \u001b[0;36m<module>\u001b[0;34m\u001b[0m\n\u001b[1;32m      2\u001b[0m \u001b[0;34m\u001b[0m\u001b[0m\n\u001b[1;32m      3\u001b[0m \u001b[0mstart\u001b[0m \u001b[0;34m=\u001b[0m \u001b[0mtime\u001b[0m\u001b[0;34m.\u001b[0m\u001b[0mtime\u001b[0m\u001b[0;34m(\u001b[0m\u001b[0;34m)\u001b[0m\u001b[0;34m\u001b[0m\u001b[0;34m\u001b[0m\u001b[0m\n\u001b[0;32m----> 4\u001b[0;31m \u001b[0mvdr\u001b[0m\u001b[0;34m,\u001b[0m\u001b[0mloss\u001b[0m \u001b[0;34m=\u001b[0m \u001b[0mfind_vdr\u001b[0m\u001b[0;34m(\u001b[0m\u001b[0mn\u001b[0m\u001b[0;34m=\u001b[0m\u001b[0;36m1\u001b[0m\u001b[0;34m,\u001b[0m\u001b[0mvmax\u001b[0m\u001b[0;34m=\u001b[0m\u001b[0;36m0.5\u001b[0m\u001b[0;34m,\u001b[0m\u001b[0mvmin\u001b[0m\u001b[0;34m=\u001b[0m\u001b[0;36m0.077\u001b[0m\u001b[0;34m,\u001b[0m\u001b[0minc\u001b[0m\u001b[0;34m=\u001b[0m\u001b[0;36m0.001\u001b[0m\u001b[0;34m)\u001b[0m\u001b[0;34m\u001b[0m\u001b[0;34m\u001b[0m\u001b[0m\n\u001b[0m\u001b[1;32m      5\u001b[0m \u001b[0mprint\u001b[0m\u001b[0;34m(\u001b[0m\u001b[0;34m't'\u001b[0m\u001b[0;34m,\u001b[0m\u001b[0mtime\u001b[0m\u001b[0;34m.\u001b[0m\u001b[0mtime\u001b[0m\u001b[0;34m(\u001b[0m\u001b[0;34m)\u001b[0m \u001b[0;34m-\u001b[0m \u001b[0mstart\u001b[0m\u001b[0;34m)\u001b[0m\u001b[0;34m\u001b[0m\u001b[0;34m\u001b[0m\u001b[0m\n",
      "\u001b[0;32m~/MemEx/memex.py\u001b[0m in \u001b[0;36mfind_vdr\u001b[0;34m(n, inc, vmax, vmin)\u001b[0m\n\u001b[1;32m    498\u001b[0m         \u001b[0mauto\u001b[0m \u001b[0;34m=\u001b[0m \u001b[0;32mFalse\u001b[0m\u001b[0;34m\u001b[0m\u001b[0;34m\u001b[0m\u001b[0m\n\u001b[1;32m    499\u001b[0m     \u001b[0mv_range\u001b[0m \u001b[0;34m=\u001b[0m \u001b[0mnp\u001b[0m\u001b[0;34m.\u001b[0m\u001b[0marange\u001b[0m\u001b[0;34m(\u001b[0m\u001b[0mvmin\u001b[0m\u001b[0;34m,\u001b[0m\u001b[0mvmax\u001b[0m\u001b[0;34m+\u001b[0m\u001b[0minc\u001b[0m\u001b[0;34m,\u001b[0m\u001b[0minc\u001b[0m\u001b[0;34m)\u001b[0m\u001b[0;34m[\u001b[0m\u001b[0;34m:\u001b[0m\u001b[0;34m:\u001b[0m\u001b[0;34m-\u001b[0m\u001b[0;36m1\u001b[0m\u001b[0;34m]\u001b[0m \u001b[0;31m# set voltage range\u001b[0m\u001b[0;34m\u001b[0m\u001b[0;34m\u001b[0m\u001b[0m\n\u001b[0;32m--> 500\u001b[0;31m     \u001b[0mactive\u001b[0m\u001b[0;34m,\u001b[0m\u001b[0mawake\u001b[0m\u001b[0;34m,\u001b[0m\u001b[0maddr_bytes\u001b[0m \u001b[0;34m=\u001b[0m \u001b[0mrollcall\u001b[0m\u001b[0;34m(\u001b[0m\u001b[0mshow\u001b[0m\u001b[0;34m=\u001b[0m\u001b[0;32mFalse\u001b[0m\u001b[0;34m)\u001b[0m\u001b[0;34m\u001b[0m\u001b[0;34m\u001b[0m\u001b[0m\n\u001b[0m\u001b[1;32m    501\u001b[0m     \u001b[0mvdr\u001b[0m \u001b[0;34m=\u001b[0m \u001b[0mpd\u001b[0m\u001b[0;34m.\u001b[0m\u001b[0mDataFrame\u001b[0m\u001b[0;34m(\u001b[0m\u001b[0;34m[\u001b[0m\u001b[0;34m[\u001b[0m\u001b[0;36m0\u001b[0m\u001b[0;34m]\u001b[0m \u001b[0;34m*\u001b[0m \u001b[0mlen\u001b[0m\u001b[0;34m(\u001b[0m\u001b[0mactive\u001b[0m\u001b[0;34m)\u001b[0m\u001b[0;34m]\u001b[0m \u001b[0;34m*\u001b[0m \u001b[0;36m8192\u001b[0m\u001b[0;34m,\u001b[0m\u001b[0mcolumns\u001b[0m \u001b[0;34m=\u001b[0m \u001b[0mactive\u001b[0m\u001b[0;34m)\u001b[0m\u001b[0;34m\u001b[0m\u001b[0;34m\u001b[0m\u001b[0m\n\u001b[1;32m    502\u001b[0m     \u001b[0mloss\u001b[0m \u001b[0;34m=\u001b[0m \u001b[0mpd\u001b[0m\u001b[0;34m.\u001b[0m\u001b[0mDataFrame\u001b[0m\u001b[0;34m(\u001b[0m\u001b[0mcolumns\u001b[0m \u001b[0;34m=\u001b[0m \u001b[0;34m[\u001b[0m\u001b[0;34m'V'\u001b[0m\u001b[0;34m]\u001b[0m \u001b[0;34m+\u001b[0m \u001b[0mactive\u001b[0m\u001b[0;34m)\u001b[0m\u001b[0;34m\u001b[0m\u001b[0;34m\u001b[0m\u001b[0m\n",
      "\u001b[0;32m~/MemEx/memex.py\u001b[0m in \u001b[0;36mrollcall\u001b[0;34m(status, show)\u001b[0m\n\u001b[1;32m    278\u001b[0m                     \u001b[0mcs\u001b[0m\u001b[0;34m.\u001b[0m\u001b[0mvalue\u001b[0m \u001b[0;34m=\u001b[0m \u001b[0;32mTrue\u001b[0m\u001b[0;34m\u001b[0m\u001b[0;34m\u001b[0m\u001b[0m\n\u001b[1;32m    279\u001b[0m                     \u001b[0;32mif\u001b[0m \u001b[0mmiso\u001b[0m\u001b[0;34m[\u001b[0m\u001b[0;36m4\u001b[0m\u001b[0;34m]\u001b[0m \u001b[0;34m==\u001b[0m \u001b[0;36m0x55\u001b[0m \u001b[0;34m:\u001b[0m\u001b[0;34m\u001b[0m\u001b[0;34m\u001b[0m\u001b[0m\n\u001b[0;32m--> 280\u001b[0;31m                         \u001b[0mpritn\u001b[0m\u001b[0;34m(\u001b[0m\u001b[0;34m'r/w=pass'\u001b[0m\u001b[0;34m,\u001b[0m\u001b[0;34m'addr=24bit'\u001b[0m\u001b[0;34m,\u001b[0m\u001b[0msep\u001b[0m\u001b[0;34m=\u001b[0m\u001b[0;34m'\\t'\u001b[0m\u001b[0;34m)\u001b[0m\u001b[0;34m\u001b[0m\u001b[0;34m\u001b[0m\u001b[0m\n\u001b[0m\u001b[1;32m    281\u001b[0m                         \u001b[0maddr_bytes\u001b[0m\u001b[0;34m[\u001b[0m\u001b[0mi\u001b[0m\u001b[0;34m]\u001b[0m \u001b[0;34m=\u001b[0m \u001b[0;36m3\u001b[0m\u001b[0;34m\u001b[0m\u001b[0;34m\u001b[0m\u001b[0m\n\u001b[1;32m    282\u001b[0m                         \u001b[0mawake\u001b[0m\u001b[0;34m[\u001b[0m\u001b[0mi\u001b[0m\u001b[0;34m]\u001b[0m \u001b[0;34m=\u001b[0m \u001b[0;32mTrue\u001b[0m\u001b[0;34m\u001b[0m\u001b[0;34m\u001b[0m\u001b[0m\n",
      "\u001b[0;31mNameError\u001b[0m: name 'pritn' is not defined"
     ]
    }
   ],
   "source": [
    "from memex import *\n",
    "\n",
    "start = time.time()\n",
    "vdr,loss = find_vdr(n=1,vmax=0.5,vmin=0.077,inc=0.001)\n",
    "print('t',time.time() - start)"
   ]
  },
  {
   "cell_type": "markdown",
   "id": "71f3c03e",
   "metadata": {},
   "source": [
    "# Plot vdr"
   ]
  },
  {
   "cell_type": "code",
   "execution_count": 6,
   "id": "b8a54cf1",
   "metadata": {},
   "outputs": [
    {
     "name": "stdout",
     "output_type": "stream",
     "text": [
      "A1    0.650000\n",
      "A2    0.650000\n",
      "A3    0.650000\n",
      "C1    0.197272\n",
      "C2    0.197803\n",
      "C3    0.195520\n",
      "dtype: float64\n",
      "A1    1.110291e-16\n",
      "A2    1.110291e-16\n",
      "A3    1.110291e-16\n",
      "C1    1.990860e-02\n",
      "C2    1.902728e-02\n",
      "C3    2.189191e-02\n",
      "dtype: float64\n"
     ]
    },
    {
     "data": {
      "text/plain": [
       "<AxesSubplot:>"
      ]
     },
     "execution_count": 6,
     "metadata": {},
     "output_type": "execute_result"
    },
    {
     "data": {
      "image/png": "[encoded data removed]",
      "text/plain": [
       "<Figure size 432x288 with 1 Axes>"
      ]
     },
     "metadata": {
      "needs_background": "light"
     },
     "output_type": "display_data"
    }
   ],
   "source": [
    "import matplotlib.pyplot as plt\n",
    "#plt.style.use(['science','ieee'])\n",
    "\n",
    "print(vdr.mean())\n",
    "print(vdr.std())\n",
    "vdr.boxplot()"
   ]
  },
  {
   "cell_type": "markdown",
   "id": "cf5fbcf0",
   "metadata": {},
   "source": [
    "# Plot data loss vs voltage"
   ]
  },
  {
   "cell_type": "code",
   "execution_count": 7,
   "id": "fd4e4651",
   "metadata": {},
   "outputs": [
    {
     "data": {
      "text/plain": [
       "<AxesSubplot:xlabel='V'>"
      ]
     },
     "execution_count": 7,
     "metadata": {},
     "output_type": "execute_result"
    },
    {
     "data": {
      "image/png": "[encoded data removed]",
      "text/plain": [
       "<Figure size 432x288 with 1 Axes>"
      ]
     },
     "metadata": {
      "needs_background": "light"
     },
     "output_type": "display_data"
    }
   ],
   "source": [
    "import matplotlib.pyplot as plt\n",
    "\n",
    "loss.plot()"
   ]
  },
  {
   "cell_type": "code",
   "execution_count": 9,
   "id": "a964a95b",
   "metadata": {},
   "outputs": [
    {
     "name": "stdout",
     "output_type": "stream",
     "text": [
      "0.05\tA1\tA2\tA3\tC1\tC2\tC3\n"
     ]
    },
    {
     "ename": "AttributeError",
     "evalue": "`raw_value` must be a 12-bit integer between 0 and 4095",
     "output_type": "error",
     "traceback": [
      "\u001b[0;31m---------------------------------------------------------------------------\u001b[0m",
      "\u001b[0;31mAttributeError\u001b[0m                            Traceback (most recent call last)",
      "\u001b[0;32m/tmp/ipykernel_743/1039596005.py\u001b[0m in \u001b[0;36m<module>\u001b[0;34m\u001b[0m\n\u001b[1;32m      1\u001b[0m \u001b[0;32mfrom\u001b[0m \u001b[0mmemex\u001b[0m \u001b[0;32mimport\u001b[0m \u001b[0;34m*\u001b[0m\u001b[0;34m\u001b[0m\u001b[0;34m\u001b[0m\u001b[0m\n\u001b[0;32m----> 2\u001b[0;31m \u001b[0mflips\u001b[0m \u001b[0;34m=\u001b[0m \u001b[0mtest_retention\u001b[0m\u001b[0;34m(\u001b[0m\u001b[0;36m0.05\u001b[0m\u001b[0;34m,\u001b[0m\u001b[0mn\u001b[0m\u001b[0;34m=\u001b[0m\u001b[0;36m5\u001b[0m\u001b[0;34m)\u001b[0m\u001b[0;34m\u001b[0m\u001b[0;34m\u001b[0m\u001b[0m\n\u001b[0m",
      "\u001b[0;32m~/MemEx/memex.py\u001b[0m in \u001b[0;36mtest_retention\u001b[0;34m(v, show, n)\u001b[0m\n\u001b[1;32m    569\u001b[0m             \u001b[0;31m#print(data[0:8],end='\\t\\\\/\\t')\u001b[0m\u001b[0;34m\u001b[0m\u001b[0;34m\u001b[0m\u001b[0;34m\u001b[0m\u001b[0m\n\u001b[1;32m    570\u001b[0m         \u001b[0mcomms_off\u001b[0m\u001b[0;34m(\u001b[0m\u001b[0;34m)\u001b[0m\u001b[0;34m\u001b[0m\u001b[0;34m\u001b[0m\u001b[0m\n\u001b[0;32m--> 571\u001b[0;31m         \u001b[0mprint\u001b[0m\u001b[0;34m(\u001b[0m\u001b[0mset_outs\u001b[0m\u001b[0;34m(\u001b[0m\u001b[0mv\u001b[0m\u001b[0;34m,\u001b[0m\u001b[0mv\u001b[0m\u001b[0;34m,\u001b[0m\u001b[0mv\u001b[0m\u001b[0;34m,\u001b[0m\u001b[0;36m1.8\u001b[0m\u001b[0;34m)\u001b[0m\u001b[0;34m)\u001b[0m \u001b[0;31m# may need editing\u001b[0m\u001b[0;34m\u001b[0m\u001b[0;34m\u001b[0m\u001b[0m\n\u001b[0m\u001b[1;32m    572\u001b[0m         \u001b[0mtime\u001b[0m\u001b[0;34m.\u001b[0m\u001b[0msleep\u001b[0m\u001b[0;34m(\u001b[0m\u001b[0;36m1\u001b[0m\u001b[0;34m)\u001b[0m\u001b[0;34m\u001b[0m\u001b[0;34m\u001b[0m\u001b[0m\n\u001b[1;32m    573\u001b[0m         \u001b[0mprint\u001b[0m\u001b[0;34m(\u001b[0m\u001b[0mread_outs\u001b[0m\u001b[0;34m(\u001b[0m\u001b[0;34m)\u001b[0m\u001b[0;34m)\u001b[0m\u001b[0;34m\u001b[0m\u001b[0;34m\u001b[0m\u001b[0m\n",
      "\u001b[0;32m~/MemEx/memex.py\u001b[0m in \u001b[0;36mset_outs\u001b[0;34m(v1, v2, v3, v4)\u001b[0m\n\u001b[1;32m    342\u001b[0m \u001b[0;32mdef\u001b[0m \u001b[0mset_outs\u001b[0m\u001b[0;34m(\u001b[0m\u001b[0mv1\u001b[0m\u001b[0;34m,\u001b[0m\u001b[0mv2\u001b[0m\u001b[0;34m,\u001b[0m\u001b[0mv3\u001b[0m\u001b[0;34m,\u001b[0m\u001b[0mv4\u001b[0m\u001b[0;34m)\u001b[0m \u001b[0;34m:\u001b[0m\u001b[0;34m\u001b[0m\u001b[0;34m\u001b[0m\u001b[0m\n\u001b[1;32m    343\u001b[0m     \u001b[0;31m#comms_off()\u001b[0m\u001b[0;34m\u001b[0m\u001b[0;34m\u001b[0m\u001b[0;34m\u001b[0m\u001b[0m\n\u001b[0;32m--> 344\u001b[0;31m     \u001b[0mset_out1\u001b[0m\u001b[0;34m(\u001b[0m\u001b[0mv1\u001b[0m\u001b[0;34m)\u001b[0m\u001b[0;34m\u001b[0m\u001b[0;34m\u001b[0m\u001b[0m\n\u001b[0m\u001b[1;32m    345\u001b[0m     \u001b[0mset_out2\u001b[0m\u001b[0;34m(\u001b[0m\u001b[0mv2\u001b[0m\u001b[0;34m)\u001b[0m\u001b[0;34m\u001b[0m\u001b[0;34m\u001b[0m\u001b[0m\n\u001b[1;32m    346\u001b[0m     \u001b[0mset_out3\u001b[0m\u001b[0;34m(\u001b[0m\u001b[0mv3\u001b[0m\u001b[0;34m)\u001b[0m\u001b[0;34m\u001b[0m\u001b[0;34m\u001b[0m\u001b[0m\n",
      "\u001b[0;32m~/MemEx/memex.py\u001b[0m in \u001b[0;36mset_out1\u001b[0;34m(v)\u001b[0m\n\u001b[1;32m    307\u001b[0m         \u001b[0;31m#print('v',v,'y',y,'adc',adc1.voltage,'error',error)\u001b[0m\u001b[0;34m\u001b[0m\u001b[0;34m\u001b[0m\u001b[0;34m\u001b[0m\u001b[0m\n\u001b[1;32m    308\u001b[0m         \u001b[0my\u001b[0m \u001b[0;34m=\u001b[0m \u001b[0my\u001b[0m \u001b[0;34m-\u001b[0m \u001b[0merror\u001b[0m\u001b[0;34m\u001b[0m\u001b[0;34m\u001b[0m\u001b[0m\n\u001b[0;32m--> 309\u001b[0;31m         \u001b[0mdac\u001b[0m\u001b[0;34m.\u001b[0m\u001b[0mchannel_a\u001b[0m\u001b[0;34m.\u001b[0m\u001b[0mraw_value\u001b[0m \u001b[0;34m=\u001b[0m \u001b[0my\u001b[0m\u001b[0;34m\u001b[0m\u001b[0;34m\u001b[0m\u001b[0m\n\u001b[0m\u001b[1;32m    310\u001b[0m         \u001b[0merror\u001b[0m \u001b[0;34m=\u001b[0m \u001b[0mint\u001b[0m\u001b[0;34m(\u001b[0m\u001b[0;36m1000\u001b[0m \u001b[0;34m*\u001b[0m \u001b[0;34m(\u001b[0m\u001b[0madc1\u001b[0m\u001b[0;34m.\u001b[0m\u001b[0mvoltage\u001b[0m \u001b[0;34m-\u001b[0m \u001b[0mv\u001b[0m\u001b[0;34m)\u001b[0m\u001b[0;34m)\u001b[0m\u001b[0;34m\u001b[0m\u001b[0;34m\u001b[0m\u001b[0m\n\u001b[1;32m    311\u001b[0m \u001b[0;34m\u001b[0m\u001b[0m\n",
      "\u001b[0;32m/usr/local/lib/python3.7/dist-packages/adafruit_mcp4728.py\u001b[0m in \u001b[0;36mraw_value\u001b[0;34m(self, value)\u001b[0m\n\u001b[1;32m    324\u001b[0m         \u001b[0;32mif\u001b[0m \u001b[0mvalue\u001b[0m \u001b[0;34m<\u001b[0m \u001b[0;36m0\u001b[0m \u001b[0;32mor\u001b[0m \u001b[0mvalue\u001b[0m \u001b[0;34m>\u001b[0m \u001b[0;34m(\u001b[0m\u001b[0;36m2\u001b[0m \u001b[0;34m**\u001b[0m \u001b[0;36m12\u001b[0m \u001b[0;34m-\u001b[0m \u001b[0;36m1\u001b[0m\u001b[0;34m)\u001b[0m\u001b[0;34m:\u001b[0m\u001b[0;34m\u001b[0m\u001b[0;34m\u001b[0m\u001b[0m\n\u001b[1;32m    325\u001b[0m             raise AttributeError(\n\u001b[0;32m--> 326\u001b[0;31m                 \u001b[0;34m\"`raw_value` must be a 12-bit integer between 0 and %s\"\u001b[0m \u001b[0;34m%\u001b[0m \u001b[0;34m(\u001b[0m\u001b[0;36m2\u001b[0m \u001b[0;34m**\u001b[0m \u001b[0;36m12\u001b[0m \u001b[0;34m-\u001b[0m \u001b[0;36m1\u001b[0m\u001b[0;34m)\u001b[0m\u001b[0;34m\u001b[0m\u001b[0;34m\u001b[0m\u001b[0m\n\u001b[0m\u001b[1;32m    327\u001b[0m             )\n\u001b[1;32m    328\u001b[0m         \u001b[0mself\u001b[0m\u001b[0;34m.\u001b[0m\u001b[0m_raw_value\u001b[0m \u001b[0;34m=\u001b[0m \u001b[0mvalue\u001b[0m\u001b[0;34m\u001b[0m\u001b[0;34m\u001b[0m\u001b[0m\n",
      "\u001b[0;31mAttributeError\u001b[0m: `raw_value` must be a 12-bit integer between 0 and 4095"
     ]
    }
   ],
   "source": [
    "from memex import *\n",
    "flips = test_retention(0.05,n=5)"
   ]
  },
  {
   "cell_type": "code",
   "execution_count": 3,
   "id": "c314240e",
   "metadata": {
    "scrolled": true
   },
   "outputs": [
    {
     "name": "stdout",
     "output_type": "stream",
     "text": [
      "2048\n"
     ]
    }
   ],
   "source": [
    "from memex import *\n",
    "set_outs(3.3,3.3,3.3,1.8)\n",
    "fill(board.D5,85,size=1,addr_bytes=2)\n",
    "print(len(read(board.D5,size=1,addr_bytes=2)))"
   ]
  },
  {
   "cell_type": "code",
   "execution_count": 12,
   "id": "6055d822",
   "metadata": {},
   "outputs": [
    {
     "data": {
      "text/plain": [
       "(3.277, 3.3, 3.301, 1.8)"
      ]
     },
     "execution_count": 12,
     "metadata": {},
     "output_type": "execute_result"
    }
   ],
   "source": [
    "read_outs()"
   ]
  },
  {
   "cell_type": "code",
   "execution_count": null,
   "id": "1a1aa02c",
   "metadata": {},
   "outputs": [],
   "source": []
  }
 ],
 "metadata": {
  "kernelspec": {
   "display_name": "Python 3 (ipykernel)",
   "language": "python",
   "name": "python3"
  },
  "language_info": {
   "codemirror_mode": {
    "name": "ipython",
    "version": 3
   },
   "file_extension": ".py",
   "mimetype": "text/x-python",
   "name": "python",
   "nbconvert_exporter": "python",
   "pygments_lexer": "ipython3",
   "version": "3.7.3"
  }
 },
 "nbformat": 4,
 "nbformat_minor": 5
}
