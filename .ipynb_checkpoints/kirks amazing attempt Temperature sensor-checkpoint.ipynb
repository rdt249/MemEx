{
 "cells": [
  {
   "cell_type": "code",
   "execution_count": null,
   "id": "unsigned-reference",
   "metadata": {},
   "outputs": [],
   "source": [
    "import os\n",
    "import csv\n",
    "\n",
    "def log(data, header, file = \"data/log.csv\"): # creates or updates log given a data row with a header row\n",
    "    if ~os.path.isfile(file): # check if file exists\n",
    "        with open(file, 'w') as csvfile: # open file in write mode\n",
    "            filewriter = csv.writer(csvfile,quoting=csv.QUOTE_MINIMAL) # make csv writer\n",
    "            filewriter.writerow(header) # write column labels\n",
    "    with open(file,'a') as csvfile: # open file in append mode\n",
    "        filewriter = csv.writer(csvfile,quoting=csv.QUOTE_MINIMAL) # make csv writer\n",
    "        filewriter.writerow(data) # write data"
   ]
  },
  {
   "cell_type": "code",
   "execution_count": null,
   "id": "chicken-sight",
   "metadata": {},
   "outputs": [],
   "source": [
    "import time\n",
    "import board\n",
    "import busio\n",
    "import adafruit_ina260\n",
    "import adafruit_sht31d\n",
    "import adafruit_mcp9808\n",
    "\n",
    "i2c = busio.I2C(board.SCL, board.SDA)\n",
    "sensor = adafruit_sht31d.SHT31D(i2c)\n",
    "mcp = adafruit_mcp9808.MCP9808(i2c)\n",
    "#ina260 = adafruit_ina260.INA260(i2c, address=0x40) # inits ina260\n",
    " \n",
    "loopcount = 0\n",
    "while True:\n",
    "    print(\"\\nTemperature: %0.1f C\" % sensor.temperature)\n",
    "    print(\"Humidity: %0.1f %%\" % sensor.relative_humidity)\n",
    "    loopcount += 1\n",
    "    time.sleep(2)\n",
    "    \n",
    "    tempC = mcp.temperature\n",
    "    tempF = tempC * 9 / 5 + 32\n",
    "    print(\"Temperature: {} C {} F \".format(tempC, tempF))\n",
    "    time.sleep(2)\n",
    "    # every 10 passes turn on the heater for 1 second\n",
    "    if loopcount == 10:\n",
    "        loopcount = 0\n",
    "        sensor.heater = True\n",
    "        print(\"Sensor Heater status =\", sensor.heater)\n",
    "        time.sleep(1)\n",
    "        sensor.heater = False\n",
    "        print(\"Sensor Heater status =\", sensor.heater)\n",
    "        \n",
    "\n",
    "\n",
    "while True:\n",
    "    tempC = mcp.temperature\n",
    "    tempF = tempC * 9 / 5 + 32\n",
    "    print(\"Temperature: {} C {} F \".format(tempC, tempF))\n",
    "    time.sleep(2)\n",
    "\n",
    "    ina260 = adafruit_ina260.INA260(i2c, address=0x40) # inits ina260\n",
    "\n",
    "\n",
    "    print(\"Current: %.2f mA Voltage: %.2f V Power:%.2f mW\" % (ina260.current, ina260.voltage, ina260.power))\n",
    "    time.sleep(1)\n",
    "    \n",
    "\n",
    "    \n",
    "    \n",
    "\n",
    "\n"
   ]
  },
  {
   "cell_type": "code",
   "execution_count": null,
   "id": "intended-kinase",
   "metadata": {},
   "outputs": [],
   "source": []
  },
  {
   "cell_type": "code",
   "execution_count": null,
   "id": "imperial-juvenile",
   "metadata": {},
   "outputs": [],
   "source": []
  },
  {
   "cell_type": "code",
   "execution_count": null,
   "id": "obvious-windsor",
   "metadata": {},
   "outputs": [],
   "source": []
  }
 ],
 "metadata": {
  "kernelspec": {
   "display_name": "Python 3",
   "language": "python",
   "name": "python3"
  },
  "language_info": {
   "codemirror_mode": {
    "name": "ipython",
    "version": 3
   },
   "file_extension": ".py",
   "mimetype": "text/x-python",
   "name": "python",
   "nbconvert_exporter": "python",
   "pygments_lexer": "ipython3",
   "version": "3.7.3"
  }
 },
 "nbformat": 4,
 "nbformat_minor": 5
}
