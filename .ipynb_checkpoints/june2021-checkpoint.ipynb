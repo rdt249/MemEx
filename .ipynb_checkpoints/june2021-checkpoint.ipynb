{
 "cells": [
  {
   "cell_type": "code",
   "execution_count": 36,
   "id": "unexpected-correction",
   "metadata": {},
   "outputs": [
    {
     "data": {
      "text/plain": [
       "[40]"
      ]
     },
     "execution_count": 36,
     "metadata": {},
     "output_type": "execute_result"
    }
   ],
   "source": [
    "# %load_ext autoreload\n",
    "# %autoreload 2\n",
    "\n",
    "from memex import sram\n",
    "import board\n",
    "import busio\n",
    "import time\n",
    "\n",
    "spi = busio.SPI(board.SCLK,MOSI=board.MOSI,MISO=board.MISO)\n",
    "spi.try_lock()\n",
    "spi.configure(baudrate=20000000)\n",
    "spi.unlock()\n",
    "\n",
    "m1 = sram(spi,cs=board.D25,name=\"M1\", size=1024) # init m1\n",
    "\n",
    "m1.write(0,40)\n",
    "\n",
    "m1.read(0)"
   ]
  },
  {
   "cell_type": "code",
   "execution_count": 24,
   "id": "animated-taste",
   "metadata": {},
   "outputs": [
    {
     "data": {
      "text/plain": [
       "[0]"
      ]
     },
     "execution_count": 24,
     "metadata": {},
     "output_type": "execute_result"
    }
   ],
   "source": [
    "m1.read(4)"
   ]
  },
  {
   "cell_type": "code",
   "execution_count": 16,
   "id": "brief-minute",
   "metadata": {},
   "outputs": [],
   "source": []
  },
  {
   "cell_type": "code",
   "execution_count": 26,
   "id": "mexican-announcement",
   "metadata": {
    "scrolled": true
   },
   "outputs": [],
   "source": [
    "import Adafruit_ADS1x15\n",
    "import adafruit_mcp4725\n",
    "import adafruit_ina260\n",
    "\n",
    "i2c = busio.I2C(board.SCL, board.SDA)\n",
    "\n",
    "ina260 = adafruit_ina260.INA260(i2c)\n",
    "#adc = Adafruit_ADS1x15.ADS1115()\n",
    "dac = adafruit_mcp4725.MCP4725(i2c)\n",
    "\n",
    "voltage = 3.3 # must be value between zero and 3.3\n",
    "\n",
    "dac.normalized_value = voltage/3.3\n",
    "\n",
    "#GAIN = 1\n",
    "\n",
    "#adc.read_adc(0, gain=GAIN)"
   ]
  },
  {
   "cell_type": "code",
   "execution_count": 41,
   "id": "normal-indiana",
   "metadata": {},
   "outputs": [],
   "source": [
    "# script to check voltages\n",
    "import pandas as pd\n",
    "import numpy as np\n",
    "import time\n",
    "\n",
    "from multiprocessing import Process, Queue\n",
    "\n",
    "Q = Queue()\n",
    "\n",
    "\n",
    "def check_status(samp):\n",
    "    \n",
    "    # samp --> number of data samples to take.\n",
    "    data = [0]*samp\n",
    "    t0 = time.time()\n",
    "    for i in range(samp):\n",
    "        \n",
    "        t1 = time.time()\n",
    "        volt = ina260.voltage\n",
    "        current = ina260.current\n",
    "        power = ina260.current\n",
    "        \n",
    "        data[i] = [volt, current, power, round(t1 - t0,2)] \n",
    "        \n",
    "    df = pd.DataFrame(data, columns = ['Voltage','Current','Power', 'Time'])\n",
    "    Q.put(df)\n",
    "    return df\n",
    "\n",
    "def dummy_task():\n",
    "    m1.fill(0x55)\n",
    "    m1.check(0x55)"
   ]
  },
  {
   "cell_type": "code",
   "execution_count": 42,
   "id": "subjective-stevens",
   "metadata": {
    "scrolled": true
   },
   "outputs": [],
   "source": [
    "p = Process(target=check_status, args=(200,))\n",
    "q = Process(target=dummy_task)\n",
    "\n",
    "p.start()\n",
    "time.sleep(0.5)\n",
    "q.start()\n",
    "# m1.fill(0x55)\n",
    "# m1.check(0x55)\n",
    "\n",
    "q.join()\n",
    "p.join()\n",
    "\n",
    "df1 = Q.get()"
   ]
  },
  {
   "cell_type": "code",
   "execution_count": 44,
   "id": "lesbian-assignment",
   "metadata": {},
   "outputs": [
    {
     "name": "stdout",
     "output_type": "stream",
     "text": [
      "-0.25\n"
     ]
    },
    {
     "data": {
      "image/png": "[encoded data removed]",
      "text/plain": [
       "<Figure size 432x288 with 1 Axes>"
      ]
     },
     "metadata": {
      "needs_background": "light"
     },
     "output_type": "display_data"
    }
   ],
   "source": [
    "import matplotlib.pyplot as plt\n",
    "\n",
    "print(np.mean(df1['Current']))\n",
    "\n",
    "plt.scatter(df1['Time'], df1['Current'])\n",
    "plt.ylabel('Current [mA]')\n",
    "plt.xlabel('Time [s]')\n",
    "plt.show()"
   ]
  },
  {
   "cell_type": "code",
   "execution_count": 454,
   "id": "editorial-catholic",
   "metadata": {
    "scrolled": true
   },
   "outputs": [
    {
     "name": "stdout",
     "output_type": "stream",
     "text": [
      "1.6379310344827587\n"
     ]
    }
   ],
   "source": [
    "print(np.mean(df1.query(\"0.2 < Time < 0.8\")['Current']))"
   ]
  },
  {
   "cell_type": "code",
   "execution_count": 347,
   "id": "arabic-orchestra",
   "metadata": {},
   "outputs": [
    {
     "data": {
      "text/plain": [
       "<matplotlib.collections.PathCollection at 0xa4d68530>"
      ]
     },
     "execution_count": 347,
     "metadata": {},
     "output_type": "execute_result"
    },
    {
     "data": {
      "image/png": "[encoded data removed]",
      "text/plain": [
       "<Figure size 432x288 with 1 Axes>"
      ]
     },
     "metadata": {
      "needs_background": "light"
     },
     "output_type": "display_data"
    }
   ],
   "source": [
    "plt.scatter(df1['Time [s]'], df1['Power [mW]'])"
   ]
  },
  {
   "cell_type": "code",
   "execution_count": 450,
   "id": "casual-scale",
   "metadata": {},
   "outputs": [
    {
     "data": {
      "text/html": [
       "<div>\n",
       "<style scoped>\n",
       "    .dataframe tbody tr th:only-of-type {\n",
       "        vertical-align: middle;\n",
       "    }\n",
       "\n",
       "    .dataframe tbody tr th {\n",
       "        vertical-align: top;\n",
       "    }\n",
       "\n",
       "    .dataframe thead th {\n",
       "        text-align: right;\n",
       "    }\n",
       "</style>\n",
       "<table border=\"1\" class=\"dataframe\">\n",
       "  <thead>\n",
       "    <tr style=\"text-align: right;\">\n",
       "      <th></th>\n",
       "      <th>Voltage</th>\n",
       "      <th>Current</th>\n",
       "      <th>Power</th>\n",
       "      <th>Time</th>\n",
       "    </tr>\n",
       "  </thead>\n",
       "  <tbody>\n",
       "    <tr>\n",
       "      <th>0</th>\n",
       "      <td>3.29125</td>\n",
       "      <td>0.00</td>\n",
       "      <td>1.25</td>\n",
       "      <td>0.00</td>\n",
       "    </tr>\n",
       "    <tr>\n",
       "      <th>1</th>\n",
       "      <td>3.29125</td>\n",
       "      <td>2.50</td>\n",
       "      <td>1.25</td>\n",
       "      <td>0.03</td>\n",
       "    </tr>\n",
       "    <tr>\n",
       "      <th>2</th>\n",
       "      <td>3.29250</td>\n",
       "      <td>0.00</td>\n",
       "      <td>0.00</td>\n",
       "      <td>0.04</td>\n",
       "    </tr>\n",
       "    <tr>\n",
       "      <th>3</th>\n",
       "      <td>3.29250</td>\n",
       "      <td>1.25</td>\n",
       "      <td>2.50</td>\n",
       "      <td>0.05</td>\n",
       "    </tr>\n",
       "    <tr>\n",
       "      <th>4</th>\n",
       "      <td>3.29250</td>\n",
       "      <td>1.25</td>\n",
       "      <td>1.25</td>\n",
       "      <td>0.06</td>\n",
       "    </tr>\n",
       "    <tr>\n",
       "      <th>...</th>\n",
       "      <td>...</td>\n",
       "      <td>...</td>\n",
       "      <td>...</td>\n",
       "      <td>...</td>\n",
       "    </tr>\n",
       "    <tr>\n",
       "      <th>195</th>\n",
       "      <td>3.29250</td>\n",
       "      <td>1.25</td>\n",
       "      <td>2.50</td>\n",
       "      <td>2.59</td>\n",
       "    </tr>\n",
       "    <tr>\n",
       "      <th>196</th>\n",
       "      <td>3.29250</td>\n",
       "      <td>1.25</td>\n",
       "      <td>0.00</td>\n",
       "      <td>2.60</td>\n",
       "    </tr>\n",
       "    <tr>\n",
       "      <th>197</th>\n",
       "      <td>3.29125</td>\n",
       "      <td>1.25</td>\n",
       "      <td>-1.25</td>\n",
       "      <td>2.61</td>\n",
       "    </tr>\n",
       "    <tr>\n",
       "      <th>198</th>\n",
       "      <td>3.29250</td>\n",
       "      <td>2.50</td>\n",
       "      <td>1.25</td>\n",
       "      <td>2.62</td>\n",
       "    </tr>\n",
       "    <tr>\n",
       "      <th>199</th>\n",
       "      <td>3.29250</td>\n",
       "      <td>1.25</td>\n",
       "      <td>0.00</td>\n",
       "      <td>2.64</td>\n",
       "    </tr>\n",
       "  </tbody>\n",
       "</table>\n",
       "<p>200 rows × 4 columns</p>\n",
       "</div>"
      ],
      "text/plain": [
       "     Voltage  Current  Power  Time\n",
       "0    3.29125     0.00   1.25  0.00\n",
       "1    3.29125     2.50   1.25  0.03\n",
       "2    3.29250     0.00   0.00  0.04\n",
       "3    3.29250     1.25   2.50  0.05\n",
       "4    3.29250     1.25   1.25  0.06\n",
       "..       ...      ...    ...   ...\n",
       "195  3.29250     1.25   2.50  2.59\n",
       "196  3.29250     1.25   0.00  2.60\n",
       "197  3.29125     1.25  -1.25  2.61\n",
       "198  3.29250     2.50   1.25  2.62\n",
       "199  3.29250     1.25   0.00  2.64\n",
       "\n",
       "[200 rows x 4 columns]"
      ]
     },
     "execution_count": 450,
     "metadata": {},
     "output_type": "execute_result"
    }
   ],
   "source": [
    "check_status(200)"
   ]
  },
  {
   "cell_type": "code",
   "execution_count": 329,
   "id": "economic-smooth",
   "metadata": {},
   "outputs": [
    {
     "data": {
      "text/plain": [
       "130866"
      ]
     },
     "execution_count": 329,
     "metadata": {},
     "output_type": "execute_result"
    }
   ],
   "source": [
    "m1.check(1)"
   ]
  },
  {
   "cell_type": "code",
   "execution_count": 1,
   "id": "undefined-acrobat",
   "metadata": {},
   "outputs": [],
   "source": [
    "import RPi.GPIO as GPIO\n",
    "import time\n",
    "import random\n",
    " \n",
    "pins = (17,27,22) # R = 17, G = 27, B = 22\n",
    "\n",
    "def setup():\n",
    "    GPIO.setmode(GPIO.BCM)\n",
    "    for i in pins:  # iterate on the RGB pins, initialize each and set to HIGH to turn it off (COMMON ANODE)\n",
    "        GPIO.setup(i, GPIO.OUT)\n",
    "        GPIO.output(i, GPIO.LOW)"
   ]
  },
  {
   "cell_type": "code",
   "execution_count": 1,
   "id": "personalized-consumer",
   "metadata": {},
   "outputs": [],
   "source": [
    "#script to set voltages\n",
    "\n",
    "import board\n",
    "import busio\n",
    "import time\n",
    "import adafruit_mcp4728\n",
    "import adafruit_ads1x15.ads1115 as ADS\n",
    "from adafruit_ads1x15.analog_in import AnalogIn\n",
    "\n",
    "def set_voltage_4(voltages = {'a':0, 'b':0, 'c':0, 'd':0}, \n",
    "                       timeout = 1,\n",
    "                       dac = adafruit_mcp4728.MCP4728(busio.I2C(board.SCL, board.SDA)),\n",
    "                       adc_ch0 = AnalogIn(ADS.ADS1115(busio.I2C(board.SCL, board.SDA)), ADS.P0),\n",
    "                       adc_ch1 = AnalogIn(ADS.ADS1115(busio.I2C(board.SCL, board.SDA)), ADS.P1),\n",
    "                       adc_ch2 = AnalogIn(ADS.ADS1115(busio.I2C(board.SCL, board.SDA)), ADS.P2),\n",
    "                       adc_ch3 = AnalogIn(ADS.ADS1115(busio.I2C(board.SCL, board.SDA)), ADS.P3),\n",
    "                       debug = False):\n",
    "    \n",
    "    \"\"\"Set voltages using via a feedback loop from the MCP4728 (DAC) to ADS115 (ADC)\n",
    "    Args:\n",
    "      voltages(dict):  voltages to set. Must be a dictionary with keys 'a', 'b', 'c', and 'd'.\n",
    "      sample_dict = {\n",
    "        'a' : 0,\n",
    "        'b' : 1.5,\n",
    "        'c' : 2,\n",
    "        'd' : 2.5\n",
    "        }\n",
    "        \n",
    "      timeout(float): maximum time before feedback loop times out and breaks the while loop\n",
    "      \n",
    "      dac(adafruit_mcp4728.MCP4728): dac object\n",
    "      \n",
    "      adc_chx(adafruit_ads1x15.analog_in.AnalogIn): AnalogIn object for adc\n",
    "\n",
    "    Returns:\n",
    "        Final voltages read by ADC\n",
    "    \"\"\"\n",
    "    \n",
    "    adc_channels = {\n",
    "        'a' : '0',\n",
    "        'b' : '1',\n",
    "        'c' : '2',\n",
    "        'd' : '3'\n",
    "        }\n",
    "    \n",
    "    \n",
    "    for key in voltages:\n",
    "        \n",
    "        start = time.time()\n",
    "        dac_ch = eval('dac.channel_%s'%(key))\n",
    "        adc_ch = eval('adc_ch%s'%(adc_channels[key]))\n",
    "        v = voltages[key]\n",
    "        \n",
    "        if v > 3.74: # exceeds maximum\n",
    "            dac_ch.value = 65535\n",
    "            continue\n",
    "        elif v < 0.001: # exceeds minimum\n",
    "            dac_ch.value = 0\n",
    "            continue\n",
    "        dac_ch.raw_value = int(v/5 * 65535) # set starting value\n",
    "        \n",
    "        while round(adc_ch.voltage,3) != round(v,3): # set voltage using feedback loop\n",
    "            time.sleep(0.01)\n",
    "            \n",
    "            if adc_ch.voltage - v > 0.1:\n",
    "                delta = -100\n",
    "            elif adc_ch.voltage - v > 0.01:\n",
    "                delta = -10\n",
    "            elif adc_ch.voltage - v > 0.001:\n",
    "                delta = -1\n",
    "\n",
    "            if adc_ch.voltage - v < -0.1:\n",
    "                delta = 100\n",
    "            if adc_ch.voltage - v < -0.01:\n",
    "                delta = 10\n",
    "            elif adc_ch.voltage - v < -0.001:\n",
    "                delta = 1\n",
    "\n",
    "            if debug:\n",
    "                print(adc_ch.voltage, dac_ch.raw_value, delta)\n",
    "\n",
    "            if dac_ch.raw_value + delta > 4095: # exceeds maximum\n",
    "                dac_ch.raw_value = 4095\n",
    "                break\n",
    "            elif dac_ch.raw_value + delta < 0: # exceeds minimum\n",
    "                dac_ch.raw_value = 0\n",
    "                break\n",
    "            else:\n",
    "                dac_ch.raw_value += delta\n",
    "\n",
    "            if time.time() - start > timeout:\n",
    "                print(\"Error in memex.set_voltage(): timed out\")\n",
    "                break\n",
    "    return [adc_ch0.voltage, adc_ch1.voltage, adc_ch2.voltage, adc_ch3.voltage]\n",
    "\n",
    "def timestamp():\n",
    "    return int(time.time())"
   ]
  },
  {
   "cell_type": "code",
   "execution_count": 5,
   "id": "latest-violin",
   "metadata": {},
   "outputs": [],
   "source": [
    "dac = adafruit_mcp4728.MCP4728(busio.I2C(board.SCL, board.SDA))\n",
    "adc_ch0 = AnalogIn(ADS.ADS1115(busio.I2C(board.SCL, board.SDA)), ADS.P0)\n",
    "adc_ch1 = AnalogIn(ADS.ADS1115(busio.I2C(board.SCL, board.SDA)), ADS.P1)"
   ]
  },
  {
   "cell_type": "code",
   "execution_count": 23,
   "id": "protecting-harvest",
   "metadata": {},
   "outputs": [],
   "source": [
    "dac.channel_a.raw_value = int(1/4.96*4095)\n",
    "dac.channel_b.value = int(4.96/4.96*65535)\n",
    "dac.channel_c.raw_value = int(3/5.1*4095)\n",
    "dac.channel_d.raw_value = int(4/5.1*4095)"
   ]
  },
  {
   "cell_type": "code",
   "execution_count": 24,
   "id": "vertical-brother",
   "metadata": {},
   "outputs": [
    {
     "data": {
      "text/plain": [
       "3.7472393566698203"
      ]
     },
     "execution_count": 24,
     "metadata": {},
     "output_type": "execute_result"
    }
   ],
   "source": [
    "adc_ch1.voltage"
   ]
  },
  {
   "cell_type": "code",
   "execution_count": 2,
   "id": "sufficient-jacket",
   "metadata": {},
   "outputs": [
    {
     "name": "stdout",
     "output_type": "stream",
     "text": [
      "0.9916552629169592 819 1\n",
      "0.9930303048799096 820 1\n",
      "0.9940303353984191 821 1\n",
      "0.995280373546556 822 1\n",
      "0.9962804040650655 823 1\n",
      "0.9977804498428297 824 1\n",
      "0.9987804803613392 825 1\n",
      "1.9694351023895993 1638 10\n",
      "1.981435468611713 1648 10\n",
      "1.9931858272041993 1658 1\n",
      "1.9944358653523362 1659 1\n",
      "1.995685903500473 1660 1\n",
      "1.9966859340189826 1661 1\n",
      "1.9978109683523058 1662 1\n",
      "1.9990610065004426 1663 1\n",
      "2.985091097750786 2457 10\n",
      "2.996966460158086 2467 1\n",
      "2.9979664906765953 2468 1\n",
      "2.9992165288247326 2469 1\n",
      "3.000466566972869 2470 1\n",
      "3.0017166051210062 2471 -1\n",
      "3.256099368266854 2702 10\n",
      "3.268349742118595 2712 10\n",
      "3.2803501083407087 2722 10\n",
      "3.292475478377636 2732 1\n",
      "3.293725516525773 2733 1\n",
      "3.2947255470442824 2734 1\n",
      "3.2959755851924193 2735 1\n",
      "3.2971006195257426 2736 1\n",
      "3.298475661488693 2737 1\n",
      "Error in memex.set_voltage(): timed out\n"
     ]
    },
    {
     "data": {
      "text/plain": [
       "[1.0001555223242895, 2.000061037018952, 3.000341563158055, 3.299350688192389]"
      ]
     },
     "execution_count": 2,
     "metadata": {},
     "output_type": "execute_result"
    }
   ],
   "source": [
    "set_voltage_4(voltages = {'a':1, 'b':2, 'c':3, 'd':3.3}, debug=True, timeout=1)"
   ]
  },
  {
   "cell_type": "code",
   "execution_count": null,
   "id": "boolean-progressive",
   "metadata": {},
   "outputs": [],
   "source": [
    "adc_ch0.voltage"
   ]
  },
  {
   "cell_type": "code",
   "execution_count": 13,
   "id": "social-strengthening",
   "metadata": {},
   "outputs": [
    {
     "data": {
      "text/plain": [
       "3.281350138859218"
      ]
     },
     "execution_count": 13,
     "metadata": {},
     "output_type": "execute_result"
    }
   ],
   "source": [
    "adc_ch1.voltage"
   ]
  },
  {
   "cell_type": "code",
   "execution_count": 18,
   "id": "trying-uruguay",
   "metadata": {},
   "outputs": [
    {
     "name": "stdout",
     "output_type": "stream",
     "text": [
      "a 0\n",
      "b 1.5\n",
      "c 2\n",
      "d 2.5\n"
     ]
    }
   ],
   "source": [
    "voltage_dict = {\n",
    "    'a' : 0,\n",
    "    'b' : 1.5,\n",
    "    'c' : 2,\n",
    "    'd' : 2.5\n",
    "}\n",
    "\n",
    "for key in voltage_dict:\n",
    "    print(key, voltage_dict[key])\n",
    "    "
   ]
  },
  {
   "cell_type": "code",
   "execution_count": 28,
   "id": "developed-nashville",
   "metadata": {},
   "outputs": [],
   "source": [
    "dac = adafruit_mcp4728.MCP4728(busio.I2C(board.SCL, board.SDA))\n",
    "adc_ch0 = AnalogIn(ADS.ADS1115(busio.I2C(board.SCL, board.SDA)), ADS.P0)"
   ]
  },
  {
   "cell_type": "code",
   "execution_count": 37,
   "id": "compound-magnitude",
   "metadata": {},
   "outputs": [
    {
     "data": {
      "text/plain": [
       "2.193441938535722"
      ]
     },
     "execution_count": 37,
     "metadata": {},
     "output_type": "execute_result"
    }
   ],
   "source": [
    "dac.channel_a.raw_value = int(2.2/3.3 * 4095)\n",
    "adc_ch0.voltage"
   ]
  },
  {
   "cell_type": "code",
   "execution_count": 36,
   "id": "naughty-orchestra",
   "metadata": {},
   "outputs": [
    {
     "data": {
      "text/plain": [
       "2730.0000000000005"
      ]
     },
     "execution_count": 36,
     "metadata": {},
     "output_type": "execute_result"
    }
   ],
   "source": [
    "2.2/3.3 * 4095"
   ]
  },
  {
   "cell_type": "code",
   "execution_count": 8,
   "id": "broadband-choir",
   "metadata": {},
   "outputs": [
    {
     "name": "stdout",
     "output_type": "stream",
     "text": [
      "throttled=0x0\r\n"
     ]
    }
   ],
   "source": [
    "!vcgencmd get_throttled"
   ]
  },
  {
   "cell_type": "code",
   "execution_count": null,
   "id": "fleet-solid",
   "metadata": {},
   "outputs": [],
   "source": []
  }
 ],
 "metadata": {
  "kernelspec": {
   "display_name": "Python 3",
   "language": "python",
   "name": "python3"
  },
  "language_info": {
   "codemirror_mode": {
    "name": "ipython",
    "version": 3
   },
   "file_extension": ".py",
   "mimetype": "text/x-python",
   "name": "python",
   "nbconvert_exporter": "python",
   "pygments_lexer": "ipython3",
   "version": "3.7.3"
  }
 },
 "nbformat": 4,
 "nbformat_minor": 5
}
