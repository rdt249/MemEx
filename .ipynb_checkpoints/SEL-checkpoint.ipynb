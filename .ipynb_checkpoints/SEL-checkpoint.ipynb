{
 "cells": [
  {
   "cell_type": "code",
   "execution_count": 2,
   "id": "13ad74ba",
   "metadata": {},
   "outputs": [],
   "source": [
    "import adafruit_ina219, adafruit_mcp4728\n",
    "import adafruit_ads1x15.ads1115 as ADS\n",
    "from adafruit_ads1x15.analog_in import AnalogIn\n",
    "import busio, board\n",
    "\n",
    "i2c = busio.I2C(board.SCL, board.SDA)\n",
    "dac = adafruit_mcp4728.MCP4728(i2c)\n",
    "pm1 = adafruit_ina219.INA219(i2c,addr=0x40)\n",
    "pm2 = adafruit_ina219.INA219(i2c,addr=0x41)\n",
    "pm3 = adafruit_ina219.INA219(i2c,addr=0x44)\n",
    "pm4 = adafruit_ina219.INA219(i2c,addr=0x45)\n",
    "def latchdog(l1=-50,l2=-50,l3=-50,l4=-50):\n",
    "    while True:\n",
    "        [i1,i2,i3,i4] = [pm1.current,pm2.current,pm3.current,pm4.current]\n",
    "        print(round(i1,3),round(i2,3),round(i3,3),round(i4,3),sep='\\t')\n",
    "        if abs(i1) > abs(l1) :\n",
    "            print('Current spike detected by PM1. Shutting off power...')\n",
    "            dac.channel_a.raw_value = 0\n",
    "            input('Power cut off, press ENTER to run diagnostics.')\n",
    "            print('coming soon ;)')"
   ]
  },
  {
   "cell_type": "code",
   "execution_count": 1,
   "id": "fd24b17f",
   "metadata": {
    "scrolled": false
   },
   "outputs": [
    {
     "name": "stdout",
     "output_type": "stream",
     "text": [
      "mode=sequential,hold=disabled,[2, 0, 0, 85] [3, 255, 255, 255]\n",
      "[3, 0, 0, 255] [255, 255, 255, 85]\n",
      "r/w=pass\n"
     ]
    }
   ],
   "source": [
    "import memex, board\n",
    "#memex.output_enable()\n",
    "memex.checkup(board.D5)"
   ]
  },
  {
   "cell_type": "code",
   "execution_count": 4,
   "id": "c5a544ba",
   "metadata": {
    "scrolled": true
   },
   "outputs": [
    {
     "name": "stdout",
     "output_type": "stream",
     "text": [
      "A1:\tmode=sequential\thold=disabled\tr/w=pass\n",
      "A2:\tmode=sequential\thold=disabled\tr/w=pass\n",
      "A3:\tmode=byte\thold=disabled\tr/w=fail\n",
      "B1:\tmode=byte\thold=disabled\tr/w=fail\n",
      "B2:\tmode=byte\thold=disabled\tr/w=fail\n",
      "B3:\tmode=byte\thold=disabled\tr/w=fail\n",
      "C1:\tmode=byte\thold=disabled\tr/w=fail\n",
      "C2:\tmode=byte\thold=disabled\tr/w=fail\n",
      "C3:\tmode=byte\thold=disabled\tr/w=fail\n",
      "D1:\tmode=byte\thold=disabled\tr/w=fail\n",
      "D2:\tmode=byte\thold=disabled\tr/w=fail\n",
      "D3:\tmode=byte\thold=disabled\tr/w=fail\n"
     ]
    }
   ],
   "source": [
    "import memex\n",
    "memex.headcount()"
   ]
  },
  {
   "cell_type": "code",
   "execution_count": 5,
   "id": "5f7f0fe4",
   "metadata": {},
   "outputs": [
    {
     "data": {
      "text/plain": [
       "(3.2999757072664573, 3.3002257148960843, 3.300475722525712, 1.80355504013184)"
      ]
     },
     "execution_count": 5,
     "metadata": {},
     "output_type": "execute_result"
    }
   ],
   "source": [
    "memex.read_outs()"
   ]
  },
  {
   "cell_type": "code",
   "execution_count": 7,
   "id": "9f144c98",
   "metadata": {},
   "outputs": [
    {
     "name": "stdout",
     "output_type": "stream",
     "text": [
      "A1:\tmode=sequential\thold=disabled\tr/w=pass\n",
      "A2:\tmode=sequential\thold=disabled\tr/w=pass\n",
      "A3:\tmode=byte\thold=disabled\tr/w=fail\n",
      "B1:\tmode=byte\thold=disabled\tr/w=fail\n",
      "B2:\tmode=byte\thold=disabled\tr/w=fail\n",
      "B3:\tmode=byte\thold=disabled\tr/w=fail\n",
      "C1:\tmode=byte\thold=disabled\tr/w=fail\n",
      "C2:\tmode=byte\thold=disabled\tr/w=fail\n",
      "C3:\tmode=byte\thold=disabled\tr/w=fail\n",
      "D1:\tmode=byte\thold=disabled\tr/w=fail\n",
      "D2:\tmode=byte\thold=disabled\tr/w=fail\n",
      "D3:\tmode=byte\thold=disabled\tr/w=fail\n"
     ]
    }
   ],
   "source": [
    "memex.headcount()"
   ]
  },
  {
   "cell_type": "code",
   "execution_count": null,
   "id": "41f3b509",
   "metadata": {},
   "outputs": [],
   "source": []
  }
 ],
 "metadata": {
  "kernelspec": {
   "display_name": "Python 3 (ipykernel)",
   "language": "python",
   "name": "python3"
  },
  "language_info": {
   "codemirror_mode": {
    "name": "ipython",
    "version": 3
   },
   "file_extension": ".py",
   "mimetype": "text/x-python",
   "name": "python",
   "nbconvert_exporter": "python",
   "pygments_lexer": "ipython3",
   "version": "3.7.3"
  }
 },
 "nbformat": 4,
 "nbformat_minor": 5
}
