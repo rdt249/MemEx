{
 "cells": [
  {
   "cell_type": "markdown",
   "id": "sharp-louisville",
   "metadata": {},
   "source": [
    "## Pseudocode\n",
    "<ul>\n",
    "    <li> Initialize sensors </li>\n",
    "    <li> Initialize SD card </li>\n",
    "    <li> Read sensors </li>\n",
    "    <li> Write operation for 10 seconds </li>\n",
    "    <ul>\n",
    "        <li> Find average write current (mA) </li>\n",
    "        <li> Find average write speed (MB/s) </li>\n",
    "        <li> Track functional errors (#) </li>\n",
    "    </ul>\n",
    "    <li> Read operation for 10 seconds </li>\n",
    "    <ul>\n",
    "        <li> Find average read current (mA) </li>\n",
    "        <li> Find average read speed (MB/s) </li>\n",
    "        <li> Track bit errors (bits/MB) </li>\n",
    "        <li> Track block errors (bits/MB) </li>\n",
    "        <li> Track functional errors (#) </li>\n",
    "    </ul>\n",
    "    <li> Erase operation for 10 seconds </li>\n",
    "    <ul>\n",
    "        <li> Find average erase current (mA) </li>\n",
    "        <li> Find average erase speed (MB/s) </li>\n",
    "        <li> Track functional errors (#) </li>\n",
    "    </ul>\n",
    "    <li> Standby for 10 seconds to find average idle current (mA) </li>\n",
    "    <li> Read sensors again and find average </li>\n",
    "    <li> Record data in CSV </li>\n",
    "</ul>"
   ]
  },
  {
   "cell_type": "code",
   "execution_count": 28,
   "id": "tracked-report",
   "metadata": {},
   "outputs": [],
   "source": [
    "import os\n",
    "import csv\n",
    "\n",
    "def log(data, header, file = \"data/log.csv\"): # creates or updates log given a data row with a header row\n",
    "    if ~os.path.isfile(file):\n",
    "        with open(file, 'w') as csvfile:\n",
    "            filewriter = csv.writer(csvfile,quoting=csv.QUOTE_MINIMAL)\n",
    "            filewriter.writerow(header)\n",
    "    with open(file,'a') as csvfile:\n",
    "        filewriter = csv.writer(csvfile,quoting=csv.QUOTE_MINIMAL)\n",
    "        filewriter.writerow(data)"
   ]
  },
  {
   "cell_type": "code",
   "execution_count": 2,
   "id": "continental-millennium",
   "metadata": {
    "scrolled": false
   },
   "outputs": [
    {
     "name": "stdout",
     "output_type": "stream",
     "text": [
      "Current: 252.50 mA Voltage: 5.07 V Power:1460.00 mW\n",
      "Current: 242.50 mA Voltage: 5.08 V Power:1240.00 mW\n",
      "Current: 241.25 mA Voltage: 5.08 V Power:1320.00 mW\n",
      "Current: 245.00 mA Voltage: 5.08 V Power:1240.00 mW\n",
      "Current: 236.25 mA Voltage: 5.08 V Power:1290.00 mW\n",
      "Current: 246.25 mA Voltage: 5.07 V Power:1230.00 mW\n",
      "Current: 228.75 mA Voltage: 5.08 V Power:1340.00 mW\n",
      "Current: 256.25 mA Voltage: 5.08 V Power:1220.00 mW\n",
      "Current: 217.50 mA Voltage: 5.08 V Power:1290.00 mW\n",
      "Current: 261.25 mA Voltage: 5.08 V Power:1200.00 mW\n"
     ]
    },
    {
     "ename": "KeyboardInterrupt",
     "evalue": "",
     "output_type": "error",
     "traceback": [
      "\u001b[0;31m---------------------------------------------------------------------------\u001b[0m",
      "\u001b[0;31mKeyboardInterrupt\u001b[0m                         Traceback (most recent call last)",
      "\u001b[0;32m<ipython-input-2-cd226870eb89>\u001b[0m in \u001b[0;36m<module>\u001b[0;34m\u001b[0m\n\u001b[1;32m      8\u001b[0m \u001b[0;32mwhile\u001b[0m \u001b[0;32mTrue\u001b[0m\u001b[0;34m:\u001b[0m\u001b[0;34m\u001b[0m\u001b[0;34m\u001b[0m\u001b[0m\n\u001b[1;32m      9\u001b[0m     \u001b[0mprint\u001b[0m\u001b[0;34m(\u001b[0m\u001b[0;34m\"Current: %.2f mA Voltage: %.2f V Power:%.2f mW\"\u001b[0m \u001b[0;34m%\u001b[0m \u001b[0;34m(\u001b[0m\u001b[0mina260\u001b[0m\u001b[0;34m.\u001b[0m\u001b[0mcurrent\u001b[0m\u001b[0;34m,\u001b[0m \u001b[0mina260\u001b[0m\u001b[0;34m.\u001b[0m\u001b[0mvoltage\u001b[0m\u001b[0;34m,\u001b[0m \u001b[0mina260\u001b[0m\u001b[0;34m.\u001b[0m\u001b[0mpower\u001b[0m\u001b[0;34m)\u001b[0m\u001b[0;34m)\u001b[0m\u001b[0;34m\u001b[0m\u001b[0;34m\u001b[0m\u001b[0m\n\u001b[0;32m---> 10\u001b[0;31m     \u001b[0mtime\u001b[0m\u001b[0;34m.\u001b[0m\u001b[0msleep\u001b[0m\u001b[0;34m(\u001b[0m\u001b[0;36m1\u001b[0m\u001b[0;34m)\u001b[0m\u001b[0;34m\u001b[0m\u001b[0;34m\u001b[0m\u001b[0m\n\u001b[0m",
      "\u001b[0;31mKeyboardInterrupt\u001b[0m: "
     ]
    }
   ],
   "source": [
    "import time\n",
    "import board\n",
    "import adafruit_ina260\n",
    " \n",
    "i2c = board.I2C() # initializes i2c bus\n",
    "ina260 = adafruit_ina260.INA260(i2c, address=0x40) # inits ina260\n",
    "\n",
    "while True:\n",
    "    print(\"Current: %.2f mA Voltage: %.2f V Power:%.2f mW\" % (ina260.current, ina260.voltage, ina260.power))\n",
    "    time.sleep(1)"
   ]
  },
  {
   "cell_type": "code",
   "execution_count": 1,
   "id": "creative-single",
   "metadata": {},
   "outputs": [
    {
     "name": "stdout",
     "output_type": "stream",
     "text": [
      "Current: 3.75 mA Voltage: 5.11 V Power:10.00 mW\n",
      "Current: 3.75 mA Voltage: 5.12 V Power:10.00 mW\n",
      "Current: 2.50 mA Voltage: 5.16 V Power:10.00 mW\n",
      "Current: 3.75 mA Voltage: 5.11 V Power:10.00 mW\n",
      "Current: 5.00 mA Voltage: 5.13 V Power:30.00 mW\n",
      "Current: 3.75 mA Voltage: 5.13 V Power:10.00 mW\n",
      "Current: 3.75 mA Voltage: 5.14 V Power:30.00 mW\n",
      "Current: 3.75 mA Voltage: 5.13 V Power:30.00 mW\n",
      "Current: 3.75 mA Voltage: 5.14 V Power:10.00 mW\n"
     ]
    },
    {
     "ename": "KeyboardInterrupt",
     "evalue": "",
     "output_type": "error",
     "traceback": [
      "\u001b[0;31m---------------------------------------------------------------------------\u001b[0m",
      "\u001b[0;31mKeyboardInterrupt\u001b[0m                         Traceback (most recent call last)",
      "\u001b[0;32m<ipython-input-1-b12d60dd5e32>\u001b[0m in \u001b[0;36m<module>\u001b[0;34m\u001b[0m\n\u001b[1;32m      8\u001b[0m \u001b[0;32mwhile\u001b[0m \u001b[0;32mTrue\u001b[0m\u001b[0;34m:\u001b[0m\u001b[0;34m\u001b[0m\u001b[0;34m\u001b[0m\u001b[0m\n\u001b[1;32m      9\u001b[0m     \u001b[0mprint\u001b[0m\u001b[0;34m(\u001b[0m\u001b[0;34m\"Current: %.2f mA Voltage: %.2f V Power:%.2f mW\"\u001b[0m \u001b[0;34m%\u001b[0m \u001b[0;34m(\u001b[0m\u001b[0mina260\u001b[0m\u001b[0;34m.\u001b[0m\u001b[0mcurrent\u001b[0m\u001b[0;34m,\u001b[0m \u001b[0mina260\u001b[0m\u001b[0;34m.\u001b[0m\u001b[0mvoltage\u001b[0m\u001b[0;34m,\u001b[0m \u001b[0mina260\u001b[0m\u001b[0;34m.\u001b[0m\u001b[0mpower\u001b[0m\u001b[0;34m)\u001b[0m\u001b[0;34m)\u001b[0m\u001b[0;34m\u001b[0m\u001b[0;34m\u001b[0m\u001b[0m\n\u001b[0;32m---> 10\u001b[0;31m     \u001b[0mtime\u001b[0m\u001b[0;34m.\u001b[0m\u001b[0msleep\u001b[0m\u001b[0;34m(\u001b[0m\u001b[0;36m1\u001b[0m\u001b[0;34m)\u001b[0m\u001b[0;34m\u001b[0m\u001b[0;34m\u001b[0m\u001b[0m\n\u001b[0m",
      "\u001b[0;31mKeyboardInterrupt\u001b[0m: "
     ]
    }
   ],
   "source": [
    "import time\n",
    "import board\n",
    "import adafruit_ina260\n",
    " \n",
    "i2c = board.I2C() # initializes i2c bus\n",
    "ina260 = adafruit_ina260.INA260(i2c, address=0x41) # inits ina260\n",
    "\n",
    "while True:\n",
    "    print(\"Current: %.2f mA Voltage: %.2f V Power:%.2f mW\" % (ina260.current, ina260.voltage, ina260.power))\n",
    "    time.sleep(1)"
   ]
  },
  {
   "cell_type": "code",
   "execution_count": 7,
   "id": "unsigned-rates",
   "metadata": {},
   "outputs": [
    {
     "name": "stdout",
     "output_type": "stream",
     "text": [
      "\n",
      "Temperature: 24.1 C\n",
      "Humidity: 35.3 %\n",
      "\n",
      "Temperature: 24.1 C\n",
      "Humidity: 35.3 %\n",
      "\n",
      "Temperature: 24.1 C\n",
      "Humidity: 35.3 %\n"
     ]
    },
    {
     "ename": "KeyboardInterrupt",
     "evalue": "",
     "output_type": "error",
     "traceback": [
      "\u001b[0;31m---------------------------------------------------------------------------\u001b[0m",
      "\u001b[0;31mKeyboardInterrupt\u001b[0m                         Traceback (most recent call last)",
      "\u001b[0;32m<ipython-input-7-67896fc2656b>\u001b[0m in \u001b[0;36m<module>\u001b[0;34m\u001b[0m\n\u001b[1;32m     16\u001b[0m     \u001b[0mprint\u001b[0m\u001b[0;34m(\u001b[0m\u001b[0;34m\"Humidity: %0.1f %%\"\u001b[0m \u001b[0;34m%\u001b[0m \u001b[0msensor\u001b[0m\u001b[0;34m.\u001b[0m\u001b[0mrelative_humidity\u001b[0m\u001b[0;34m)\u001b[0m\u001b[0;34m\u001b[0m\u001b[0;34m\u001b[0m\u001b[0m\n\u001b[1;32m     17\u001b[0m     \u001b[0mloopcount\u001b[0m \u001b[0;34m+=\u001b[0m \u001b[0;36m1\u001b[0m\u001b[0;34m\u001b[0m\u001b[0;34m\u001b[0m\u001b[0m\n\u001b[0;32m---> 18\u001b[0;31m     \u001b[0mtime\u001b[0m\u001b[0;34m.\u001b[0m\u001b[0msleep\u001b[0m\u001b[0;34m(\u001b[0m\u001b[0;36m2\u001b[0m\u001b[0;34m)\u001b[0m\u001b[0;34m\u001b[0m\u001b[0;34m\u001b[0m\u001b[0m\n\u001b[0m\u001b[1;32m     19\u001b[0m     \u001b[0;31m# every 10 passes turn on the heater for 1 second\u001b[0m\u001b[0;34m\u001b[0m\u001b[0;34m\u001b[0m\u001b[0;34m\u001b[0m\u001b[0m\n\u001b[1;32m     20\u001b[0m     \u001b[0;32mif\u001b[0m \u001b[0mloopcount\u001b[0m \u001b[0;34m==\u001b[0m \u001b[0;36m10\u001b[0m\u001b[0;34m:\u001b[0m\u001b[0;34m\u001b[0m\u001b[0;34m\u001b[0m\u001b[0m\n",
      "\u001b[0;31mKeyboardInterrupt\u001b[0m: "
     ]
    }
   ],
   "source": [
    "# SPDX-FileCopyrightText: 2021 ladyada for Adafruit Industries\n",
    "# SPDX-License-Identifier: MIT\n",
    " \n",
    "import time\n",
    "import board\n",
    "import busio\n",
    "import adafruit_sht31d\n",
    " \n",
    "# Create library object using our Bus I2C port\n",
    "i2c = busio.I2C(board.SCL, board.SDA)\n",
    "sensor = adafruit_sht31d.SHT31D(i2c)\n",
    " \n",
    "loopcount = 0\n",
    "while True:\n",
    "    print(\"\\nTemperature: %0.1f C\" % sensor.temperature)\n",
    "    print(\"Humidity: %0.1f %%\" % sensor.relative_humidity)\n",
    "    loopcount += 1\n",
    "    time.sleep(2)\n",
    "    # every 10 passes turn on the heater for 1 second\n",
    "    if loopcount == 10:\n",
    "        loopcount = 0\n",
    "        sensor.heater = True\n",
    "        print(\"Sensor Heater status =\", sensor.heater)\n",
    "        time.sleep(1)\n",
    "        sensor.heater = False\n",
    "        print(\"Sensor Heater status =\", sensor.heater)"
   ]
  },
  {
   "cell_type": "code",
   "execution_count": 6,
   "id": "manufactured-batman",
   "metadata": {},
   "outputs": [
    {
     "name": "stdout",
     "output_type": "stream",
     "text": [
      "Temperature: 24.0625 C 75.3125 F \n",
      "Temperature: 24.0 C 75.2 F \n",
      "Temperature: 24.0 C 75.2 F \n"
     ]
    },
    {
     "ename": "KeyboardInterrupt",
     "evalue": "",
     "output_type": "error",
     "traceback": [
      "\u001b[0;31m---------------------------------------------------------------------------\u001b[0m",
      "\u001b[0;31mKeyboardInterrupt\u001b[0m                         Traceback (most recent call last)",
      "\u001b[0;32m<ipython-input-6-d5276563d6aa>\u001b[0m in \u001b[0;36m<module>\u001b[0;34m\u001b[0m\n\u001b[1;32m     20\u001b[0m     \u001b[0mtempF\u001b[0m \u001b[0;34m=\u001b[0m \u001b[0mtempC\u001b[0m \u001b[0;34m*\u001b[0m \u001b[0;36m9\u001b[0m \u001b[0;34m/\u001b[0m \u001b[0;36m5\u001b[0m \u001b[0;34m+\u001b[0m \u001b[0;36m32\u001b[0m\u001b[0;34m\u001b[0m\u001b[0;34m\u001b[0m\u001b[0m\n\u001b[1;32m     21\u001b[0m     \u001b[0mprint\u001b[0m\u001b[0;34m(\u001b[0m\u001b[0;34m\"Temperature: {} C {} F \"\u001b[0m\u001b[0;34m.\u001b[0m\u001b[0mformat\u001b[0m\u001b[0;34m(\u001b[0m\u001b[0mtempC\u001b[0m\u001b[0;34m,\u001b[0m \u001b[0mtempF\u001b[0m\u001b[0;34m)\u001b[0m\u001b[0;34m)\u001b[0m\u001b[0;34m\u001b[0m\u001b[0;34m\u001b[0m\u001b[0m\n\u001b[0;32m---> 22\u001b[0;31m     \u001b[0mtime\u001b[0m\u001b[0;34m.\u001b[0m\u001b[0msleep\u001b[0m\u001b[0;34m(\u001b[0m\u001b[0;36m2\u001b[0m\u001b[0;34m)\u001b[0m\u001b[0;34m\u001b[0m\u001b[0;34m\u001b[0m\u001b[0m\n\u001b[0m",
      "\u001b[0;31mKeyboardInterrupt\u001b[0m: "
     ]
    }
   ],
   "source": [
    "# SPDX-FileCopyrightText: 2021 ladyada for Adafruit Industries\n",
    "# SPDX-License-Identifier: MIT\n",
    " \n",
    "import time\n",
    "import board\n",
    "import busio\n",
    "import adafruit_mcp9808\n",
    " \n",
    "i2c_bus = busio.I2C(board.SCL, board.SDA)\n",
    " \n",
    "# To initialise using the default address:\n",
    "mcp = adafruit_mcp9808.MCP9808(i2c_bus)\n",
    " \n",
    "# To initialise using a specified address:\n",
    "# Necessary when, for example, connecting A0 to VDD to make address=0x19\n",
    "# mcp = adafruit_mcp9808.MCP9808(i2c_bus, address=0x19)\n",
    " \n",
    "while True:\n",
    "    tempC = mcp.temperature\n",
    "    tempF = tempC * 9 / 5 + 32\n",
    "    print(\"Temperature: {} C {} F \".format(tempC, tempF))\n",
    "    time.sleep(2)"
   ]
  }
 ],
 "metadata": {
  "kernelspec": {
   "display_name": "Python 3",
   "language": "python",
   "name": "python3"
  },
  "language_info": {
   "codemirror_mode": {
    "name": "ipython",
    "version": 3
   },
   "file_extension": ".py",
   "mimetype": "text/x-python",
   "name": "python",
   "nbconvert_exporter": "python",
   "pygments_lexer": "ipython3",
   "version": "3.7.3"
  }
 },
 "nbformat": 4,
 "nbformat_minor": 5
}
