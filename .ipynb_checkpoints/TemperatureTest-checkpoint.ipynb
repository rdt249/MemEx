{
 "cells": [
  {
   "cell_type": "markdown",
   "id": "sharp-louisville",
   "metadata": {},
   "source": [
    "## Pseudocode\n",
    "<ul>\n",
    "    <li> Initialize sensors </li>\n",
    "    <li> Initialize SD card </li>\n",
    "    <li> Read sensors </li>\n",
    "    <li> Write operation for 10 seconds </li>\n",
    "    <ul>\n",
    "        <li> Find average write current (mA) </li>\n",
    "        <li> Find average write speed (MB/s) </li>\n",
    "        <li> Track functional errors (#) </li>\n",
    "    </ul>\n",
    "    <li> Read operation for 10 seconds </li>\n",
    "    <ul>\n",
    "        <li> Find average read current (mA) </li>\n",
    "        <li> Find average read speed (MB/s) </li>\n",
    "        <li> Track bit errors (bits/MB) </li>\n",
    "        <li> Track block errors (bits/MB) </li>\n",
    "        <li> Track functional errors (#) </li>\n",
    "    </ul>\n",
    "    <li> Erase operation for 10 seconds </li>\n",
    "    <ul>\n",
    "        <li> Find average erase current (mA) </li>\n",
    "        <li> Find average erase speed (MB/s) </li>\n",
    "        <li> Track functional errors (#) </li>\n",
    "    </ul>\n",
    "    <li> Standby for 10 seconds to find average idle current (mA) </li>\n",
    "    <li> Read sensors again and find average </li>\n",
    "    <li> Record data in CSV </li>\n",
    "</ul>"
   ]
  },
  {
   "cell_type": "code",
   "execution_count": 2,
   "id": "certain-disability",
   "metadata": {
    "scrolled": true
   },
   "outputs": [
    {
     "name": "stdout",
     "output_type": "stream",
     "text": [
      "tx: [64, 0, 0, 0, 0, 151]\t|\trx: [255]\n",
      "tx: [64, 0, 0, 0, 0, 151]\t|\trx: [255]\n",
      "tx: [64, 0, 0, 0, 0, 151]\t|\trx: [255]\n",
      "tx: [64, 0, 0, 0, 0, 151]\t|\trx: [255]\n",
      "tx: [64, 0, 0, 0, 0, 151]\t|\trx: [255]\n",
      "tx: [64, 0, 0, 0, 0, 151]\t|\trx: [255]\n",
      "tx: [64, 0, 0, 0, 0, 151]\t|\trx: [255]\n",
      "tx: [64, 0, 0, 0, 0, 151]\t|\trx: [128]\n",
      "tx: [64, 0, 0, 0, 0, 151]\t|\trx: [255]\n",
      "tx: [64, 0, 0, 0, 0, 151]\t|\trx: [255]\n",
      "tx: [64, 0, 0, 0, 0, 151]\t|\trx: [255]\n",
      "tx: [64, 0, 0, 0, 0, 151]\t|\trx: [255]\n",
      "tx: [64, 0, 0, 0, 0, 151]\t|\trx: [255]\n",
      "tx: [64, 0, 0, 0, 0, 151]\t|\trx: [255]\n",
      "tx: [64, 0, 0, 0, 0, 151]\t|\trx: [127]\n",
      "tx: [64, 0, 0, 0, 0, 151]\t|\trx: [192]\n",
      "tx: [64, 0, 0, 0, 0, 151]\t|\trx: [255]\n",
      "tx: [64, 0, 0, 0, 0, 151]\t|\trx: [255]\n",
      "tx: [64, 0, 0, 0, 0, 151]\t|\trx: [255]\n",
      "tx: [64, 0, 0, 0, 0, 151]\t|\trx: [255]\n",
      "tx: [64, 0, 0, 0, 0, 151]\t|\trx: [255]\n",
      "tx: [64, 0, 0, 0, 0, 151]\t|\trx: [255]\n",
      "tx: [64, 0, 0, 0, 0, 151]\t|\trx: [127]\n",
      "tx: [64, 0, 0, 0, 0, 151]\t|\trx: [192]\n",
      "tx: [64, 0, 0, 0, 0, 151]\t|\trx: [255]\n",
      "tx: [64, 0, 0, 0, 0, 151]\t|\trx: [255]\n",
      "tx: [64, 0, 0, 0, 0, 151]\t|\trx: [255]\n",
      "tx: [64, 0, 0, 0, 0, 151]\t|\trx: [255]\n",
      "tx: [64, 0, 0, 0, 0, 151]\t|\trx: [255]\n",
      "tx: [64, 0, 0, 0, 0, 151]\t|\trx: [255]\n",
      "tx: [64, 0, 0, 0, 0, 151]\t|\trx: [127]\n",
      "tx: [64, 0, 0, 0, 0, 151]\t|\trx: [192]\n",
      "tx: [64, 0, 0, 0, 0, 151]\t|\trx: [255]\n",
      "tx: [64, 0, 0, 0, 0, 151]\t|\trx: [255]\n",
      "tx: [64, 0, 0, 0, 0, 151]\t|\trx: [255]\n",
      "tx: [64, 0, 0, 0, 0, 151]\t|\trx: [255]\n",
      "tx: [64, 0, 0, 0, 0, 151]\t|\trx: [255]\n",
      "tx: [64, 0, 0, 0, 0, 151]\t|\trx: [255]\n",
      "tx: [64, 0, 0, 0, 0, 151]\t|\trx: [127]\n",
      "tx: [64, 0, 0, 0, 0, 151]\t|\trx: [192]\n",
      "tx: [64, 0, 0, 0, 0, 151]\t|\trx: [255]\n",
      "tx: [64, 0, 0, 0, 0, 151]\t|\trx: [255]\n",
      "tx: [64, 0, 0, 0, 0, 151]\t|\trx: [255]\n",
      "tx: [64, 0, 0, 0, 0, 151]\t|\trx: [255]\n",
      "tx: [64, 0, 0, 0, 0, 151]\t|\trx: [255]\n",
      "tx: [64, 0, 0, 0, 0, 151]\t|\trx: [255]\n",
      "tx: [64, 0, 0, 0, 0, 151]\t|\trx: [127]\n",
      "tx: [64, 0, 0, 0, 0, 151]\t|\trx: [192]\n",
      "tx: [64, 0, 0, 0, 0, 151]\t|\trx: [255]\n",
      "tx: [64, 0, 0, 0, 0, 151]\t|\trx: [255]\n",
      "tx: [64, 0, 0, 0, 0, 151]\t|\trx: [255]\n",
      "tx: [64, 0, 0, 0, 0, 151]\t|\trx: [255]\n",
      "tx: [64, 0, 0, 0, 0, 151]\t|\trx: [255]\n",
      "tx: [64, 0, 0, 0, 0, 151]\t|\trx: [255]\n",
      "tx: [64, 0, 0, 0, 0, 151]\t|\trx: [127]\n",
      "tx: [64, 0, 0, 0, 0, 151]\t|\trx: [192]\n",
      "tx: [64, 0, 0, 0, 0, 151]\t|\trx: [255]\n",
      "tx: [64, 0, 0, 0, 0, 151]\t|\trx: [255]\n",
      "tx: [64, 0, 0, 0, 0, 151]\t|\trx: [255]\n",
      "tx: [64, 0, 0, 0, 0, 151]\t|\trx: [255]\n",
      "tx: [64, 0, 0, 0, 0, 151]\t|\trx: [255]\n",
      "tx: [64, 0, 0, 0, 0, 151]\t|\trx: [255]\n",
      "tx: [64, 0, 0, 0, 0, 151]\t|\trx: [127]\n",
      "tx: [64, 0, 0, 0, 0, 151]\t|\trx: [192]\n",
      "tx: [64, 0, 0, 0, 0, 151]\t|\trx: [255]\n",
      "tx: [64, 0, 0, 0, 0, 151]\t|\trx: [255]\n",
      "tx: [64, 0, 0, 0, 0, 151]\t|\trx: [255]\n",
      "tx: [64, 0, 0, 0, 0, 151]\t|\trx: [255]\n",
      "tx: [64, 0, 0, 0, 0, 151]\t|\trx: [255]\n",
      "tx: [64, 0, 0, 0, 0, 151]\t|\trx: [255]\n",
      "tx: [64, 0, 0, 0, 0, 151]\t|\trx: [127]\n",
      "tx: [64, 0, 0, 0, 0, 151]\t|\trx: [192]\n",
      "tx: [64, 0, 0, 0, 0, 151]\t|\trx: [255]\n",
      "tx: [64, 0, 0, 0, 0, 151]\t|\trx: [255]\n",
      "tx: [64, 0, 0, 0, 0, 151]\t|\trx: [255]\n",
      "tx: [64, 0, 0, 0, 0, 151]\t|\trx: [255]\n",
      "tx: [64, 0, 0, 0, 0, 151]\t|\trx: [255]\n",
      "tx: [64, 0, 0, 0, 0, 151]\t|\trx: [255]\n",
      "tx: [64, 0, 0, 0, 0, 151]\t|\trx: [127]\n",
      "tx: [64, 0, 0, 0, 0, 151]\t|\trx: [192]\n",
      "Error in memex.sd_card.__init__(): reset timed out\n",
      "tx: [122, 0, 0, 0, 0, 255]\t|\trx: [255, 248, 15, 255, 255]\n",
      "tx: [72, 0, 0, 1, 170, 134]\t|\trx: [255, 255, 255, 255, 255]\n",
      "Error in memex.sd_card.__init__(): unsupported sd version\n",
      "tx: [119, 0, 0, 0, 0, 255]\t|\trx: [255]\n",
      "tx: [65, 64, 0, 0, 0, 255]\t|\trx: [255]\n",
      "Error in memex.sd_card.__init__(): init timed out\n",
      "tx: [122, 0, 0, 0, 0, 255]\t|\trx: [255, 255, 255, 255, 255]\n",
      "tx: [80, 0, 0, 0, 8, 255]\t|\trx: [255]\n",
      "tx: [122, 0, 0, 0, 0, 255]\t|\trx: [255, 255, 255, 254, 3]\n",
      "Error in memex.sd_card.print_status(): no response\n",
      "tx: [88, 0, 0, 4, 0, 255]\t|\trx: [254]\n",
      "Error in memex.sd_card.write_block(): bad response\n",
      "tx: [122, 0, 0, 0, 0, 255]\t|\trx: [255, 254, 3, 255, 255]\n",
      "Error in memex.sd_card.print_status(): no response\n",
      "tx: [81, 0, 0, 4, 0, 255]\t|\trx: [255]\n",
      "0 0xff\n",
      "1 0xff\n",
      "2 0xff\n",
      "3 0xff\n",
      "4 0xff\n",
      "5 0xff\n",
      "6 0xff\n",
      "Error in memex.sd_card.read_block(): data error, code 0x1\n"
     ]
    },
    {
     "data": {
      "text/plain": [
       "-1"
      ]
     },
     "execution_count": 2,
     "metadata": {},
     "output_type": "execute_result"
    }
   ],
   "source": [
    "import memex\n",
    "import spidev\n",
    "import time\n",
    "\n",
    "spi = spidev.SpiDev()\n",
    "\n",
    "sd = memex.sd_card(spi, debug = True)\n",
    "sd.set_block_size(8)\n",
    "sd.print_status()\n",
    "sd.write_block(1024,[1,2,3,4,5,6,7,8])\n",
    "sd.print_status()\n",
    "sd.read_block(1024)"
   ]
  },
  {
   "cell_type": "code",
   "execution_count": 5,
   "id": "english-motion",
   "metadata": {
    "scrolled": true
   },
   "outputs": [
    {
     "name": "stdout",
     "output_type": "stream",
     "text": [
      "<class 'list'>\n",
      "[170, 170, 170, 170, 170, 170, 170, 170]\n"
     ]
    },
    {
     "ename": "TypeError",
     "evalue": "Non-Int/Long value in arguments: b3787198.",
     "output_type": "error",
     "traceback": [
      "\u001b[0;31m---------------------------------------------------------------------------\u001b[0m",
      "\u001b[0;31mTypeError\u001b[0m                                 Traceback (most recent call last)",
      "\u001b[0;32m<ipython-input-5-33ae2e3d723b>\u001b[0m in \u001b[0;36m<module>\u001b[0;34m\u001b[0m\n\u001b[1;32m     11\u001b[0m \u001b[0;34m\u001b[0m\u001b[0m\n\u001b[1;32m     12\u001b[0m \u001b[0mprint\u001b[0m\u001b[0;34m(\u001b[0m\u001b[0malpha\u001b[0m\u001b[0;34m.\u001b[0m\u001b[0mread\u001b[0m\u001b[0;34m(\u001b[0m\u001b[0;36m100\u001b[0m\u001b[0;34m,\u001b[0m\u001b[0mn\u001b[0m\u001b[0;34m=\u001b[0m\u001b[0;36m8\u001b[0m\u001b[0;34m)\u001b[0m\u001b[0;34m)\u001b[0m\u001b[0;34m\u001b[0m\u001b[0;34m\u001b[0m\u001b[0m\n\u001b[0;32m---> 13\u001b[0;31m \u001b[0malpha\u001b[0m\u001b[0;34m.\u001b[0m\u001b[0mwrite\u001b[0m\u001b[0;34m(\u001b[0m\u001b[0;36m100\u001b[0m\u001b[0;34m,\u001b[0m\u001b[0;34m[\u001b[0m\u001b[0;36m85\u001b[0m\u001b[0;34m,\u001b[0m\u001b[0;36m85\u001b[0m\u001b[0;34m]\u001b[0m\u001b[0;34m)\u001b[0m\u001b[0;34m\u001b[0m\u001b[0;34m\u001b[0m\u001b[0m\n\u001b[0m\u001b[1;32m     14\u001b[0m \u001b[0mprint\u001b[0m\u001b[0;34m(\u001b[0m\u001b[0malpha\u001b[0m\u001b[0;34m.\u001b[0m\u001b[0mread\u001b[0m\u001b[0;34m(\u001b[0m\u001b[0;36m100\u001b[0m\u001b[0;34m,\u001b[0m\u001b[0mn\u001b[0m\u001b[0;34m=\u001b[0m\u001b[0;36m8\u001b[0m\u001b[0;34m)\u001b[0m\u001b[0;34m)\u001b[0m\u001b[0;34m\u001b[0m\u001b[0;34m\u001b[0m\u001b[0m\n\u001b[1;32m     15\u001b[0m \u001b[0;34m\u001b[0m\u001b[0m\n",
      "\u001b[0;32m~/MemEx/memex.py\u001b[0m in \u001b[0;36mwrite\u001b[0;34m(self, address, data, n)\u001b[0m\n\u001b[1;32m    379\u001b[0m             \u001b[0mtx\u001b[0m \u001b[0;34m=\u001b[0m \u001b[0;34m[\u001b[0m\u001b[0;36m0x02\u001b[0m\u001b[0;34m,\u001b[0m\u001b[0;34m(\u001b[0m\u001b[0maddress\u001b[0m\u001b[0;34m>>\u001b[0m\u001b[0;36m8\u001b[0m\u001b[0;34m)\u001b[0m\u001b[0;34m&\u001b[0m\u001b[0;36m0xff\u001b[0m\u001b[0;34m,\u001b[0m\u001b[0maddress\u001b[0m\u001b[0;34m&\u001b[0m\u001b[0;36m0xff\u001b[0m\u001b[0;34m]\u001b[0m\u001b[0;34m\u001b[0m\u001b[0;34m\u001b[0m\u001b[0m\n\u001b[1;32m    380\u001b[0m         \u001b[0;32melse\u001b[0m\u001b[0;34m:\u001b[0m \u001b[0;31m# 24-bit address\u001b[0m\u001b[0;34m\u001b[0m\u001b[0;34m\u001b[0m\u001b[0m\n\u001b[0;32m--> 381\u001b[0;31m             \u001b[0mtx\u001b[0m \u001b[0;34m=\u001b[0m \u001b[0;34m[\u001b[0m\u001b[0;36m0x02\u001b[0m\u001b[0;34m,\u001b[0m\u001b[0;34m(\u001b[0m\u001b[0maddress\u001b[0m\u001b[0;34m>>\u001b[0m\u001b[0;36m16\u001b[0m\u001b[0;34m)\u001b[0m\u001b[0;34m&\u001b[0m\u001b[0;36m0xff\u001b[0m\u001b[0;34m,\u001b[0m\u001b[0;34m(\u001b[0m\u001b[0maddress\u001b[0m\u001b[0;34m>>\u001b[0m\u001b[0;36m8\u001b[0m\u001b[0;34m)\u001b[0m\u001b[0;34m&\u001b[0m\u001b[0;36m0xff\u001b[0m\u001b[0;34m,\u001b[0m\u001b[0maddress\u001b[0m\u001b[0;34m&\u001b[0m\u001b[0;36m0xff\u001b[0m\u001b[0;34m]\u001b[0m\u001b[0;34m\u001b[0m\u001b[0;34m\u001b[0m\u001b[0m\n\u001b[0m\u001b[1;32m    382\u001b[0m         \u001b[0;31m# format data\u001b[0m\u001b[0;34m\u001b[0m\u001b[0;34m\u001b[0m\u001b[0;34m\u001b[0m\u001b[0m\n\u001b[1;32m    383\u001b[0m         \u001b[0;32mif\u001b[0m \u001b[0mtype\u001b[0m\u001b[0;34m(\u001b[0m\u001b[0mdata\u001b[0m\u001b[0;34m)\u001b[0m \u001b[0;32mis\u001b[0m \u001b[0;34m\"list\"\u001b[0m\u001b[0;34m:\u001b[0m\u001b[0;34m\u001b[0m\u001b[0;34m\u001b[0m\u001b[0m\n",
      "\u001b[0;31mTypeError\u001b[0m: Non-Int/Long value in arguments: b3787198."
     ]
    }
   ],
   "source": [
    "import memex\n",
    "import spidev\n",
    "import time\n",
    "\n",
    "spi = spidev.SpiDev()\n",
    "\n",
    "alpha = memex.sram(spi,cs=0)\n",
    "beta = memex.sram(spi,cs=1)\n",
    "\n",
    "print(alpha.read(100,n=8))\n",
    "alpha.write(100,[85,85])\n",
    "print(alpha.read(100,n=8))\n",
    "\n",
    "print(beta.read(100,n=8))\n",
    "beta.write(100,[0,255,0,255])\n",
    "print(beta.read(100,n=8))"
   ]
  },
  {
   "cell_type": "code",
   "execution_count": null,
   "id": "plain-pregnancy",
   "metadata": {},
   "outputs": [],
   "source": []
  }
 ],
 "metadata": {
  "kernelspec": {
   "display_name": "Python 3",
   "language": "python",
   "name": "python3"
  },
  "language_info": {
   "codemirror_mode": {
    "name": "ipython",
    "version": 3
   },
   "file_extension": ".py",
   "mimetype": "text/x-python",
   "name": "python",
   "nbconvert_exporter": "python",
   "pygments_lexer": "ipython3",
   "version": "3.7.3"
  }
 },
 "nbformat": 4,
 "nbformat_minor": 5
}
