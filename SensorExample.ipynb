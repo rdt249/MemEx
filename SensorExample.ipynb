{
 "cells": [
  {
   "cell_type": "code",
   "execution_count": 1,
   "id": "traditional-potter",
   "metadata": {
    "scrolled": true
   },
   "outputs": [
    {
     "name": "stdout",
     "output_type": "stream",
     "text": [
      "ThermTemp(C)\tHygroTemp(C)\tRelativeHumidity(%)\tMainCurrent(mA)\tMainVoltage(V)\tMainPower(mW)\tSDCurrent(mA)\tSDVoltage(V)\tSDPower(mA)\n",
      "23.0625\t23.405813687342643\t40.46082246128023\t275.0\t5.02625\t1520\t2.5\t5.1137500000000005\t10\n"
     ]
    },
    {
     "data": {
      "text/plain": [
       "[23.0625,\n",
       " 23.405813687342643,\n",
       " 40.46082246128023,\n",
       " 275.0,\n",
       " 5.02625,\n",
       " 1520,\n",
       " 2.5,\n",
       " 5.1137500000000005,\n",
       " 10]"
      ]
     },
     "execution_count": 1,
     "metadata": {},
     "output_type": "execute_result"
    }
   ],
   "source": [
    "import memex\n",
    "memex.sense()"
   ]
  },
  {
   "cell_type": "code",
   "execution_count": null,
   "id": "qualified-noise",
   "metadata": {},
   "outputs": [],
   "source": []
  }
 ],
 "metadata": {
  "kernelspec": {
   "display_name": "Python 3",
   "language": "python",
   "name": "python3"
  },
  "language_info": {
   "codemirror_mode": {
    "name": "ipython",
    "version": 3
   },
   "file_extension": ".py",
   "mimetype": "text/x-python",
   "name": "python",
   "nbconvert_exporter": "python",
   "pygments_lexer": "ipython3",
   "version": "3.7.3"
  }
 },
 "nbformat": 4,
 "nbformat_minor": 5
}
