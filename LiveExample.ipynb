{
 "cells": [
  {
   "cell_type": "markdown",
   "id": "funny-louis",
   "metadata": {
    "slideshow": {
     "slide_type": "slide"
    }
   },
   "source": [
    "# Live Example\n",
    "This notebook collects data from the Raspberry Pi's core and onboard ring oscillator, and displays it in a live chart."
   ]
  },
  {
   "cell_type": "code",
   "execution_count": 1,
   "id": "classical-wisconsin",
   "metadata": {
    "slideshow": {
     "slide_type": "slide"
    }
   },
   "outputs": [
    {
     "ename": "ModuleNotFoundError",
     "evalue": "No module named 'pandas'",
     "output_type": "error",
     "traceback": [
      "\u001b[0;31m---------------------------------------------------------------------------\u001b[0m",
      "\u001b[0;31mModuleNotFoundError\u001b[0m                       Traceback (most recent call last)",
      "\u001b[0;32m<ipython-input-1-1c22a222c3d0>\u001b[0m in \u001b[0;36m<module>\u001b[0;34m\u001b[0m\n\u001b[1;32m      1\u001b[0m \u001b[0;32mimport\u001b[0m \u001b[0mtime\u001b[0m \u001b[0;31m# for time stamp\u001b[0m\u001b[0;34m\u001b[0m\u001b[0;34m\u001b[0m\u001b[0m\n\u001b[1;32m      2\u001b[0m \u001b[0;32mimport\u001b[0m \u001b[0msubprocess\u001b[0m \u001b[0;32mas\u001b[0m \u001b[0msp\u001b[0m \u001b[0;31m# for using system commands and saving the result\u001b[0m\u001b[0;34m\u001b[0m\u001b[0;34m\u001b[0m\u001b[0m\n\u001b[0;32m----> 3\u001b[0;31m \u001b[0;32mimport\u001b[0m \u001b[0mpandas\u001b[0m \u001b[0;32mas\u001b[0m \u001b[0mpd\u001b[0m \u001b[0;31m# for DataFrame tools\u001b[0m\u001b[0;34m\u001b[0m\u001b[0;34m\u001b[0m\u001b[0m\n\u001b[0m\u001b[1;32m      4\u001b[0m \u001b[0;32mimport\u001b[0m \u001b[0mnumpy\u001b[0m \u001b[0;32mas\u001b[0m \u001b[0mnp\u001b[0m \u001b[0;31m# for number tools\u001b[0m\u001b[0;34m\u001b[0m\u001b[0;34m\u001b[0m\u001b[0m\n\u001b[1;32m      5\u001b[0m \u001b[0mget_ipython\u001b[0m\u001b[0;34m(\u001b[0m\u001b[0;34m)\u001b[0m\u001b[0;34m.\u001b[0m\u001b[0mrun_line_magic\u001b[0m\u001b[0;34m(\u001b[0m\u001b[0;34m'matplotlib'\u001b[0m\u001b[0;34m,\u001b[0m \u001b[0;34m'notebook'\u001b[0m\u001b[0;34m)\u001b[0m\u001b[0;34m\u001b[0m\u001b[0;34m\u001b[0m\u001b[0m\n",
      "\u001b[0;31mModuleNotFoundError\u001b[0m: No module named 'pandas'"
     ]
    }
   ],
   "source": [
    "import time # for time stamp\n",
    "import subprocess as sp # for using system commands and saving the result\n",
    "import pandas as pd # for DataFrame tools\n",
    "import numpy as np # for number tools\n",
    "%matplotlib notebook\n",
    "import matplotlib.pyplot as plt # for charting data"
   ]
  },
  {
   "cell_type": "code",
   "execution_count": 2,
   "id": "close-delicious",
   "metadata": {
    "scrolled": false,
    "slideshow": {
     "slide_type": "slide"
    }
   },
   "outputs": [
    {
     "ename": "NameError",
     "evalue": "name 'pd' is not defined",
     "output_type": "error",
     "traceback": [
      "\u001b[0;31m---------------------------------------------------------------------------\u001b[0m",
      "\u001b[0;31mNameError\u001b[0m                                 Traceback (most recent call last)",
      "\u001b[0;32m<ipython-input-2-cd16da2712b5>\u001b[0m in \u001b[0;36m<module>\u001b[0;34m\u001b[0m\n\u001b[1;32m     28\u001b[0m            \"RingTemp(C)\",\"RingFreq(MHz)\",\"RingVolt(V)\"]\n\u001b[1;32m     29\u001b[0m \u001b[0mt\u001b[0m \u001b[0;34m=\u001b[0m \u001b[0mtime\u001b[0m\u001b[0;34m.\u001b[0m\u001b[0mtime\u001b[0m\u001b[0;34m(\u001b[0m\u001b[0;34m)\u001b[0m\u001b[0;34m\u001b[0m\u001b[0;34m\u001b[0m\u001b[0m\n\u001b[0;32m---> 30\u001b[0;31m \u001b[0mdata\u001b[0m \u001b[0;34m=\u001b[0m \u001b[0mpd\u001b[0m\u001b[0;34m.\u001b[0m\u001b[0mDataFrame\u001b[0m\u001b[0;34m(\u001b[0m\u001b[0;34m[\u001b[0m\u001b[0mget_data\u001b[0m\u001b[0;34m(\u001b[0m\u001b[0;34m)\u001b[0m\u001b[0;34m]\u001b[0m\u001b[0;34m,\u001b[0m\u001b[0mindex\u001b[0m \u001b[0;34m=\u001b[0m \u001b[0;34m[\u001b[0m\u001b[0mt\u001b[0m\u001b[0;34m]\u001b[0m\u001b[0;34m,\u001b[0m\u001b[0mcolumns\u001b[0m \u001b[0;34m=\u001b[0m \u001b[0mcolumns\u001b[0m\u001b[0;34m)\u001b[0m\u001b[0;34m\u001b[0m\u001b[0;34m\u001b[0m\u001b[0m\n\u001b[0m\u001b[1;32m     31\u001b[0m \u001b[0;34m\u001b[0m\u001b[0m\n\u001b[1;32m     32\u001b[0m \u001b[0mplt\u001b[0m\u001b[0;34m.\u001b[0m\u001b[0mrc\u001b[0m\u001b[0;34m(\u001b[0m\u001b[0;34m\"font\"\u001b[0m\u001b[0;34m,\u001b[0m\u001b[0msize\u001b[0m\u001b[0;34m=\u001b[0m\u001b[0mtext_size\u001b[0m\u001b[0;34m)\u001b[0m\u001b[0;34m\u001b[0m\u001b[0;34m\u001b[0m\u001b[0m\n",
      "\u001b[0;31mNameError\u001b[0m: name 'pd' is not defined"
     ]
    }
   ],
   "source": [
    "# script setup\n",
    "interval = 1 # loop interval in seconds\n",
    "scale = 30 # number of samples shown, smaller is more \"zoomed in\"\n",
    "width = 12 # width of chart\n",
    "height = 8 # height of chart\n",
    "text_size = 16 # size of chart text\n",
    "\n",
    "# get data using subprocess package and vcgencmd\n",
    "def get_data():\n",
    "    core_t = float(sp.check_output([\"vcgencmd\",\"measure_temp\"])[5:9])\n",
    "    core_f = float(sp.check_output([\"vcgencmd\",\"measure_clock\",\"core\"])[13:22])/1000000\n",
    "    core_v = float(sp.check_output([\"vcgencmd\",\"measure_volts\",\"core\"])[5:11])\n",
    "    ring_t = str(sp.check_output([\"vcgencmd\",\"read_ring_osc\"]))\n",
    "    ring_f = float(ring_t.split('=')[1].split('M')[0])\n",
    "    ring_v = float(ring_t.split('@')[1].split('V')[0])\n",
    "    ring_t = float(ring_t[-10:].split('\\'')[0])\n",
    "    return [core_t,core_f,core_v,ring_t,ring_f,ring_v]\n",
    "\n",
    "# convert each column to percentage\n",
    "def normalize(df):\n",
    "    df = df.copy(deep=True) # make a copy of the dataframe\n",
    "    for c in df.columns:\n",
    "        df[c] /= df[c].max()\n",
    "    return df\n",
    "\n",
    "# initialize dataframe\n",
    "columns = [\"CoreTemp(C)\",\"CoreFreq(MHz)\",\"CoreVolt(V)\",\n",
    "           \"RingTemp(C)\",\"RingFreq(MHz)\",\"RingVolt(V)\"]\n",
    "t = time.time()\n",
    "data = pd.DataFrame([get_data()],index = [t],columns = columns)\n",
    "\n",
    "plt.rc(\"font\",size=text_size)\n",
    "fig, ax = plt.subplots(figsize=(width,height))\n",
    "normalize(data).plot(ax=ax)\n",
    "fig.canvas.draw()\n",
    "\n",
    "def update():\n",
    "    t = time.time()\n",
    "    data.loc[t] = get_data()\n",
    "    if(len(data) == scale):\n",
    "        data.drop(index=data.index[0],axis=0,inplace=True)\n",
    "    ax.clear()\n",
    "    normalize(data).plot(ax=ax)\n",
    "    fig.canvas.draw()\n",
    "    elapsed = time.time() - t\n",
    "    if elapsed < interval:\n",
    "        time.sleep(interval - elapsed)\n",
    "\n",
    "while True:\n",
    "    update()"
   ]
  },
  {
   "cell_type": "code",
   "execution_count": null,
   "id": "gentle-setup",
   "metadata": {},
   "outputs": [],
   "source": []
  }
 ],
 "metadata": {
  "kernelspec": {
   "display_name": "Python 3",
   "language": "python",
   "name": "python3"
  },
  "language_info": {
   "codemirror_mode": {
    "name": "ipython",
    "version": 3
   },
   "file_extension": ".py",
   "mimetype": "text/x-python",
   "name": "python",
   "nbconvert_exporter": "python",
   "pygments_lexer": "ipython3",
   "version": "3.7.3"
  }
 },
 "nbformat": 4,
 "nbformat_minor": 5
}
