{
 "cells": [
  {
   "cell_type": "code",
   "execution_count": 1,
   "id": "fcf83101",
   "metadata": {
    "scrolled": false
   },
   "outputs": [
    {
     "name": "stdout",
     "output_type": "stream",
     "text": [
      "data/sram/seu/test1.csv\n",
      "starting trial (0.4,1)\n"
     ]
    },
    {
     "data": {
      "text/plain": [
       "A1    4\n",
       "A2    4\n",
       "A3    4\n",
       "C1    0\n",
       "C2    0\n",
       "C3    0\n",
       "dtype: int64"
      ]
     },
     "execution_count": 1,
     "metadata": {},
     "output_type": "execute_result"
    }
   ],
   "source": [
    "from memex import *\n",
    "create_trial('data/sram/seu/test1.csv')\n",
    "set_nominal(va=3.3,vc=3.3)\n",
    "seu_trial(0.4,1)"
   ]
  },
  {
   "cell_type": "code",
   "execution_count": 2,
   "id": "415b3b94",
   "metadata": {},
   "outputs": [
    {
     "name": "stdout",
     "output_type": "stream",
     "text": [
      "data/sram/seu/test1.csv\n",
      "A1 : 25\n",
      "A2 : 26\n",
      "A3 : 28\n",
      "C1 : 1490\n",
      "C2 : 103\n",
      "C3 : 1415\n"
     ]
    }
   ],
   "source": [
    "seu_count()"
   ]
  },
  {
   "cell_type": "code",
   "execution_count": null,
   "id": "7e4bc5cd",
   "metadata": {},
   "outputs": [],
   "source": []
  }
 ],
 "metadata": {
  "kernelspec": {
   "display_name": "Python 3 (ipykernel)",
   "language": "python",
   "name": "python3"
  },
  "language_info": {
   "codemirror_mode": {
    "name": "ipython",
    "version": 3
   },
   "file_extension": ".py",
   "mimetype": "text/x-python",
   "name": "python",
   "nbconvert_exporter": "python",
   "pygments_lexer": "ipython3",
   "version": "3.7.3"
  }
 },
 "nbformat": 4,
 "nbformat_minor": 5
}
