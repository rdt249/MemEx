{
 "cells": [
  {
   "cell_type": "code",
   "execution_count": null,
   "id": "unsigned-reference",
   "metadata": {},
   "outputs": [],
   "source": [
    "import os\n",
    "import csv\n",
    "\n",
    "def log(data, header, file = \"data/log.csv\"): # creates or updates log given a data row with a header row\n",
    "    if ~os.path.isfile(file): # check if file exists\n",
    "        with open(file, 'w') as csvfile: # open file in write mode\n",
    "            filewriter = csv.writer(csvfile,quoting=csv.QUOTE_MINIMAL) # make csv writer\n",
    "            filewriter.writerow(header) # write column labels\n",
    "    with open(file,'a') as csvfile: # open file in append mode\n",
    "        filewriter = csv.writer(csvfile,quoting=csv.QUOTE_MINIMAL) # make csv writer\n",
    "        filewriter.writerow(data) # write data"
   ]
  },
  {
   "cell_type": "code",
   "execution_count": null,
   "id": "chicken-sight",
   "metadata": {},
   "outputs": [],
   "source": [
    "import time\n",
    "import board\n",
    "import adafruit_ina260\n",
    "import busio\n",
    "import adafruit_mcp9808\n",
    " \n",
    "i2c = board.I2C() # initializes i2c bus\n",
    "ina260_pi = adafruit_ina260.INA260(i2c, address=0x40) # inits ina260 connected to Pi\n",
    "\n",
    "print\n",
    "    print(\"Pi Current: %.2f mA Pi Voltage: %.2f V Pi Power:%.2f mW\" % (ina260_pi.current, ina260_pi.voltage, ina260_pi.power))\n",
    "    time.sleep(1)\n",
    "    \n",
    "    \n",
    "\n",
    " \n",
    "\n",
    "ina260_sd = adafruit_ina260.INA260(i2c, address=0x41) # inits ina260 monitoring SD module\n",
    "\n",
    "\n",
    "    print(\"SD Current: %.2f mA SD Voltage: %.2f V SD Power:%.2f mW\" % (ina260_sd.current, ina260_sd.voltage, ina260_sd.power))\n",
    "    time.sleep(1)\n",
    "    \n",
    "    \n",
    "\n",
    "\n",
    " \n",
    "i2c_bus = busio.I2C(board.SCL, board.SDA)\n",
    " \n",
    "# To initialise using the default address:\n",
    "mcp = adafruit_mcp9808.MCP9808(i2c_bus)\n",
    " \n",
    "# To initialise using a specified address:\n",
    "# Necessary when, for example, connecting A0 to VDD to make address=0x19\n",
    "# mcp = adafruit_mcp9808.MCP9808(i2c_bus, address=0x19)\n",
    " \n",
    "while True:\n",
    "    tempC = mcp.temperature\n",
    "    tempF = tempC * 9 / 5 + 32\n",
    "    print(\"Temperature: {} C {} F \".format(tempC, tempF))\n",
    "    time.sleep(2)\n",
    "\n",
    "\n"
   ]
  }
 ],
 "metadata": {
  "kernelspec": {
   "display_name": "Python 3",
   "language": "python",
   "name": "python3"
  },
  "language_info": {
   "codemirror_mode": {
    "name": "ipython",
    "version": 3
   },
   "file_extension": ".py",
   "mimetype": "text/x-python",
   "name": "python",
   "nbconvert_exporter": "python",
   "pygments_lexer": "ipython3",
   "version": "3.7.3"
  }
 },
 "nbformat": 4,
 "nbformat_minor": 5
}
