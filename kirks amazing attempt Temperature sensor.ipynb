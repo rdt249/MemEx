{
 "cells": [
  {
   "cell_type": "code",
   "execution_count": null,
   "id": "unsigned-reference",
   "metadata": {},
   "outputs": [],
   "source": [
    "import os\n",
    "import csv\n",
    "\n",
    "def log(data, header, file = \"data/log.csv\"): # creates or updates log given a data row with a header row\n",
    "    if ~os.path.isfile(file): # check if file exists\n",
    "        with open(file, 'w') as csvfile: # open file in write mode\n",
    "            filewriter = csv.writer(csvfile,quoting=csv.QUOTE_MINIMAL) # make csv writer\n",
    "            filewriter.writerow(header) # write column labels\n",
    "    with open(file,'a') as csvfile: # open file in append mode\n",
    "        filewriter = csv.writer(csvfile,quoting=csv.QUOTE_MINIMAL) # make csv writer\n",
    "        filewriter.writerow(data) # write data"
   ]
  },
  {
   "cell_type": "code",
   "execution_count": null,
   "id": "chicken-sight",
   "metadata": {},
   "outputs": [],
   "source": [
    "import time\n",
    "import board\n",
    "import busio\n",
    "import adafruit_ina260\n",
    "import adafruit_sht31d\n",
    "import adafruit_mcp9808\n",
    "\n",
    "i2c = busio.I2C(board.SCL, board.SDA) # init i2c bus\n",
    "    therm = adafruit_mcp9808.MCP9808(i2c) # init thermometer (mcp9808)\n",
    "    hygro = adafruit_sht31d.SHT31D(i2c) # init hygrometer (sht31d)\n",
    "    main = adafruit_ina260.INA260(i2c, address=0x40) # init power meter (ina260) for main power\n",
    "    sd = adafruit_ina260.INA260(i2c, address=0x41) # init power meter (ina260) for sd power\n",
    "    header = [\"ThermTemp(C)\", # set column titles (to print)\n",
    "              \"HygroTemp(C)\",\n",
    "              \"RelativeHumidity(%)\",\n",
    "              \"MainCurrent(mA)\",\n",
    "              \"MainVoltage(V)\",\n",
    "              \"MainPower(mW)\",\n",
    "              \"SDCurrent(mA)\",\n",
    "              \"SDVoltage(V)\",\n",
    "              \"SDPower(mA)\"]\n",
    "    \n",
    "    \n",
    "   while True:\n",
    "    \n",
    "    data = [therm.temperature, # get sensor data\n",
    "            hygro.temperature,\n",
    "            hygro.relative_humidity,\n",
    "            main.current,\n",
    "            main.voltage,\n",
    "            main.power,\n",
    "            sd.current,\n",
    "            sd.voltage,\n",
    "            sd.power]\n",
    "    print(*header,sep='\\t') # print column titles\n",
    "    print(*data,sep='\\t') # print data\n",
    "    return data # return sensor data\n",
    "\n"
   ]
  }
 ],
 "metadata": {
  "kernelspec": {
   "display_name": "Python 3",
   "language": "python",
   "name": "python3"
  },
  "language_info": {
   "codemirror_mode": {
    "name": "ipython",
    "version": 3
   },
   "file_extension": ".py",
   "mimetype": "text/x-python",
   "name": "python",
   "nbconvert_exporter": "python",
   "pygments_lexer": "ipython3",
   "version": "3.7.3"
  }
 },
 "nbformat": 4,
 "nbformat_minor": 5
}
