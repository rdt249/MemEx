{
 "cells": [
  {
   "cell_type": "code",
   "execution_count": 2,
   "id": "unsigned-reference",
   "metadata": {},
   "outputs": [],
   "source": [
    "import os\n",
    "import csv\n",
    "\n",
    "def log(data, header, file = \"data/log.csv\"): # creates or updates log given a data row with a header row\n",
    "    if ~os.path.isfile(file): # check if file exists\n",
    "        with open(file, 'w') as csvfile: # open file in write mode\n",
    "            filewriter = csv.writer(csvfile,quoting=csv.QUOTE_MINIMAL) # make csv writer\n",
    "            filewriter.writerow(header) # write column labels\n",
    "    with open(file,'a') as csvfile: # open file in append mode\n",
    "        filewriter = csv.writer(csvfile,quoting=csv.QUOTE_MINIMAL) # make csv writer\n",
    "        filewriter.writerow(data) # write data"
   ]
  },
  {
   "cell_type": "code",
   "execution_count": 4,
   "id": "chicken-sight",
   "metadata": {},
   "outputs": [
    {
     "name": "stdout",
     "output_type": "stream",
     "text": [
      "ThermTemp(C)\tHygroTemp(C)\tRelativeHumidity(%)\tMainCurrent(mA)\tMainVoltage(V)\tMainPower(mW)\tSDCurrent(mA)\tSDVoltage(V)\tSDPower(mA)\n",
      "23.5\t23.83306630045014\t43.51262684061952\t222.5\t5.2787500000000005\t1150\t3.75\t5.3075\t30\n"
     ]
    },
    {
     "ename": "NameError",
     "evalue": "name 'kirklog' is not defined",
     "output_type": "error",
     "traceback": [
      "\u001b[0;31m---------------------------------------------------------------------------\u001b[0m",
      "\u001b[0;31mNameError\u001b[0m                                 Traceback (most recent call last)",
      "\u001b[0;32m<ipython-input-4-4d018acda5d1>\u001b[0m in \u001b[0;36m<module>\u001b[0;34m\u001b[0m\n\u001b[1;32m     37\u001b[0m     \u001b[0mprint\u001b[0m\u001b[0;34m(\u001b[0m\u001b[0;34m*\u001b[0m\u001b[0mdata\u001b[0m\u001b[0;34m,\u001b[0m\u001b[0msep\u001b[0m\u001b[0;34m=\u001b[0m\u001b[0;34m'\\t'\u001b[0m\u001b[0;34m)\u001b[0m \u001b[0;31m# print data\u001b[0m\u001b[0;34m\u001b[0m\u001b[0;34m\u001b[0m\u001b[0m\n\u001b[1;32m     38\u001b[0m \u001b[0;34m\u001b[0m\u001b[0m\n\u001b[0;32m---> 39\u001b[0;31m     \u001b[0mlog\u001b[0m\u001b[0;34m(\u001b[0m\u001b[0mdata\u001b[0m\u001b[0;34m,\u001b[0m\u001b[0mheader\u001b[0m\u001b[0;34m,\u001b[0m\u001b[0mfile\u001b[0m \u001b[0;34m=\u001b[0m \u001b[0mdata\u001b[0m\u001b[0;34m/\u001b[0m\u001b[0mkirklog\u001b[0m\u001b[0;34m.\u001b[0m\u001b[0mcsv\u001b[0m\u001b[0;34m)\u001b[0m\u001b[0;34m\u001b[0m\u001b[0;34m\u001b[0m\u001b[0m\n\u001b[0m\u001b[1;32m     40\u001b[0m \u001b[0;34m\u001b[0m\u001b[0m\n\u001b[1;32m     41\u001b[0m     \u001b[0mtime\u001b[0m\u001b[0;34m.\u001b[0m\u001b[0msleep\u001b[0m\u001b[0;34m(\u001b[0m\u001b[0;36m5\u001b[0m\u001b[0;34m)\u001b[0m\u001b[0;34m\u001b[0m\u001b[0;34m\u001b[0m\u001b[0m\n",
      "\u001b[0;31mNameError\u001b[0m: name 'kirklog' is not defined"
     ]
    }
   ],
   "source": [
    "\n",
    "import time\n",
    "import board\n",
    "import busio\n",
    "import adafruit_ina260\n",
    "import adafruit_sht31d\n",
    "import adafruit_mcp9808\n",
    "import memex\n",
    "\n",
    "i2c = busio.I2C(board.SCL, board.SDA) # init i2c bus\n",
    "therm = adafruit_mcp9808.MCP9808(i2c) # init thermometer (mcp9808)\n",
    "hygro = adafruit_sht31d.SHT31D(i2c) # init hygrometer (sht31d)\n",
    "main = adafruit_ina260.INA260(i2c, address=0x40) # init power meter (ina260) for main power\n",
    "sd = adafruit_ina260.INA260(i2c, address=0x41) # init power meter (ina260) for sd power\n",
    "header = [\"ThermTemp(C)\", # set column titles (to print)\n",
    "              \"HygroTemp(C)\",\n",
    "              \"RelativeHumidity(%)\",\n",
    "              \"MainCurrent(mA)\",\n",
    "              \"MainVoltage(V)\",\n",
    "              \"MainPower(mW)\",\n",
    "              \"SDCurrent(mA)\",\n",
    "              \"SDVoltage(V)\",\n",
    "              \"SDPower(mA)\"]\n",
    "    \n",
    "    \n",
    "while True:\n",
    "    \n",
    "    data = [therm.temperature, # get sensor data\n",
    "            hygro.temperature,\n",
    "            hygro.relative_humidity,\n",
    "            main.current,\n",
    "            main.voltage,\n",
    "            main.power,\n",
    "            sd.current,\n",
    "            sd.voltage,\n",
    "            sd.power]\n",
    "    print(*header,sep='\\t') # print column titles\n",
    "    print(*data,sep='\\t') # print data\n",
    "    \n",
    "    log(data,header,file = data/kirklog.csv)\n",
    "    \n",
    "    time.sleep(5)\n",
    "  \n",
    "\n"
   ]
  },
  {
   "cell_type": "code",
   "execution_count": null,
   "id": "unable-blink",
   "metadata": {},
   "outputs": [],
   "source": []
  }
 ],
 "metadata": {
  "kernelspec": {
   "display_name": "Python 3",
   "language": "python",
   "name": "python3"
  },
  "language_info": {
   "codemirror_mode": {
    "name": "ipython",
    "version": 3
   },
   "file_extension": ".py",
   "mimetype": "text/x-python",
   "name": "python",
   "nbconvert_exporter": "python",
   "pygments_lexer": "ipython3",
   "version": "3.7.3"
  }
 },
 "nbformat": 4,
 "nbformat_minor": 5
}
