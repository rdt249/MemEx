{
 "cells": [
  {
   "cell_type": "code",
   "execution_count": 4,
   "id": "0d9441fb",
   "metadata": {},
   "outputs": [
    {
     "name": "stdout",
     "output_type": "stream",
     "text": [
      "Timestamp(s)\tCPU(C)\tCPU(MHz)CPU(%)\tDisk(%)\n",
      "1630471859\t67.679\t1500.0\t31.7\t7.0\n",
      "1630471860\t66.705\t1500.0\t22.1\t7.0\n",
      "1630471861\t66.705\t1500.0\t24.3\t7.0\n",
      "1630471862\t66.218\t1500.0\t22.8\t7.0\n",
      "1630471863\t66.705\t900.0\t10.3\t7.0\n",
      "1630471864\t67.192\t1500.0\t32.1\t7.0\n",
      "1630471865\t68.166\t1500.0\t33.7\t7.0\n",
      "1630471866\t67.679\t1500.0\t32.2\t7.0\n",
      "1630471867\t68.166\t1500.0\t31.6\t7.0\n",
      "1630471868\t67.679\t1500.0\t31.8\t7.0\n",
      "1630471869\t67.679\t1500.0\t31.6\t7.0\n",
      "1630471870\t67.192\t1500.0\t31.3\t7.0\n",
      "1630471871\t68.166\t1500.0\t31.8\t7.0\n",
      "1630471872\t68.166\t1500.0\t32.6\t7.0\n",
      "1630471873\t68.166\t1500.0\t31.4\t7.0\n",
      "1630471874\t68.166\t1500.0\t31.3\t7.0\n"
     ]
    },
    {
     "ename": "KeyboardInterrupt",
     "evalue": "",
     "output_type": "error",
     "traceback": [
      "\u001b[0;31m---------------------------------------------------------------------------\u001b[0m",
      "\u001b[0;31mKeyboardInterrupt\u001b[0m                         Traceback (most recent call last)",
      "\u001b[0;32m/tmp/ipykernel_1785/1251681193.py\u001b[0m in \u001b[0;36m<module>\u001b[0;34m\u001b[0m\n\u001b[1;32m     11\u001b[0m         \u001b[0mtime\u001b[0m\u001b[0;34m.\u001b[0m\u001b[0msleep\u001b[0m\u001b[0;34m(\u001b[0m\u001b[0;36m1\u001b[0m\u001b[0;34m)\u001b[0m\u001b[0;34m\u001b[0m\u001b[0;34m\u001b[0m\u001b[0m\n\u001b[1;32m     12\u001b[0m \u001b[0;34m\u001b[0m\u001b[0m\n\u001b[0;32m---> 13\u001b[0;31m \u001b[0msystem\u001b[0m\u001b[0;34m(\u001b[0m\u001b[0;34m)\u001b[0m\u001b[0;34m\u001b[0m\u001b[0;34m\u001b[0m\u001b[0m\n\u001b[0m",
      "\u001b[0;32m/tmp/ipykernel_1785/1251681193.py\u001b[0m in \u001b[0;36msystem\u001b[0;34m()\u001b[0m\n\u001b[1;32m      9\u001b[0m         print(int(time.time()),cpu.temperature,psutil.cpu_freq()[0],psutil.cpu_percent(),\n\u001b[1;32m     10\u001b[0m               psutil.disk_usage('/')[3],sep='\\t')\n\u001b[0;32m---> 11\u001b[0;31m         \u001b[0mtime\u001b[0m\u001b[0;34m.\u001b[0m\u001b[0msleep\u001b[0m\u001b[0;34m(\u001b[0m\u001b[0;36m1\u001b[0m\u001b[0;34m)\u001b[0m\u001b[0;34m\u001b[0m\u001b[0;34m\u001b[0m\u001b[0m\n\u001b[0m\u001b[1;32m     12\u001b[0m \u001b[0;34m\u001b[0m\u001b[0m\n\u001b[1;32m     13\u001b[0m \u001b[0msystem\u001b[0m\u001b[0;34m(\u001b[0m\u001b[0;34m)\u001b[0m\u001b[0;34m\u001b[0m\u001b[0;34m\u001b[0m\u001b[0m\n",
      "\u001b[0;31mKeyboardInterrupt\u001b[0m: "
     ]
    }
   ],
   "source": [
    "from memex import *\n",
    "import psutil,time\n",
    "from gpiozero import CPUTemperature\n",
    "\n",
    "def system() :\n",
    "    cpu = CPUTemperature()\n",
    "    print('Timestamp(s)','CPU(C)','CPU(MHz)''CPU(%)','Disk(%)',sep='\\t')\n",
    "    while True :\n",
    "        print(int(time.time()),cpu.temperature,psutil.cpu_freq()[0],psutil.cpu_percent(),\n",
    "              psutil.disk_usage('/')[3],sep='\\t')\n",
    "        time.sleep(1)\n",
    "\n",
    "system()"
   ]
  },
  {
   "cell_type": "code",
   "execution_count": null,
   "id": "9bcab097",
   "metadata": {},
   "outputs": [],
   "source": []
  }
 ],
 "metadata": {
  "kernelspec": {
   "display_name": "Python 3 (ipykernel)",
   "language": "python",
   "name": "python3"
  },
  "language_info": {
   "codemirror_mode": {
    "name": "ipython",
    "version": 3
   },
   "file_extension": ".py",
   "mimetype": "text/x-python",
   "name": "python",
   "nbconvert_exporter": "python",
   "pygments_lexer": "ipython3",
   "version": "3.7.3"
  }
 },
 "nbformat": 4,
 "nbformat_minor": 5
}
