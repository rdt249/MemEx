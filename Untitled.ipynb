{
 "cells": [
  {
   "cell_type": "code",
   "execution_count": 1,
   "id": "legendary-chase",
   "metadata": {},
   "outputs": [
    {
     "data": {
      "text/plain": [
       "[80]"
      ]
     },
     "execution_count": 1,
     "metadata": {},
     "output_type": "execute_result"
    }
   ],
   "source": [
    "from memex import sram\n",
    "import board\n",
    "import busio\n",
    "import time\n",
    "\n",
    "spi = busio.SPI(board.SCLK,MOSI=board.MOSI,MISO=board.MISO)\n",
    "spi.try_lock()\n",
    "spi.configure(baudrate=1000000)\n",
    "spi.unlock()\n",
    "\n",
    "m1 = sram(spi,cs=board.D25,name=\"M1\", size=1024) # init m1\n",
    "\n",
    "m1.write(0,80)\n",
    "\n",
    "m1.read(0)"
   ]
  },
  {
   "cell_type": "code",
   "execution_count": 5,
   "id": "competent-mechanism",
   "metadata": {},
   "outputs": [
    {
     "data": {
      "text/plain": [
       "0"
      ]
     },
     "execution_count": 5,
     "metadata": {},
     "output_type": "execute_result"
    }
   ],
   "source": [
    "m1.fill(1)"
   ]
  },
  {
   "cell_type": "code",
   "execution_count": null,
   "id": "sexual-grocery",
   "metadata": {},
   "outputs": [],
   "source": []
  }
 ],
 "metadata": {
  "kernelspec": {
   "display_name": "Python 3",
   "language": "python",
   "name": "python3"
  },
  "language_info": {
   "codemirror_mode": {
    "name": "ipython",
    "version": 3
   },
   "file_extension": ".py",
   "mimetype": "text/x-python",
   "name": "python",
   "nbconvert_exporter": "python",
   "pygments_lexer": "ipython3",
   "version": "3.7.3"
  }
 },
 "nbformat": 4,
 "nbformat_minor": 5
}
