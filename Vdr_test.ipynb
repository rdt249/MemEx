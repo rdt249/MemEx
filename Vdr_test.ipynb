{
 "cells": [
  {
   "cell_type": "code",
   "execution_count": 19,
   "id": "novel-worship",
   "metadata": {},
   "outputs": [
    {
     "data": {
      "text/plain": [
       "[70]"
      ]
     },
     "execution_count": 19,
     "metadata": {},
     "output_type": "execute_result"
    }
   ],
   "source": [
    "# %load_ext autoreload\n",
    "# %autoreload 2\n",
    "from memex import set_voltage_4\n",
    "from memex import sram\n",
    "import board\n",
    "import busio\n",
    "import time\n",
    "\n",
    "import RPi.GPIO as GPIO\n",
    "GPIO.setmode(GPIO.BCM)            # choose BCM or BOARD  \n",
    "\n",
    "#set voltage for memory\n",
    "set_voltage_4({'a':3.29})\n",
    "\n",
    "#Set output enable high\n",
    "GPIO.setup(26, GPIO.OUT) # set a port/pin as an output   \n",
    "GPIO.output(26, 1)       # set port/pin value to 1/GPIO.HIGH/True  \n",
    "\n",
    "#set hold pin high\n",
    "GPIO.setup(19, GPIO.OUT) # set a port/pin as an output   \n",
    "GPIO.output(19, 1)       # set port/pin value to 1/GPIO.HIGH/True  \n",
    "\n",
    "spi = busio.SPI(board.SCLK,MOSI=board.MOSI,MISO=board.MISO)\n",
    "spi.try_lock()\n",
    "spi.configure(baudrate=10000000)\n",
    "spi.unlock()\n",
    "\n",
    "m1 = sram(spi,cs=board.D5,name=\"M1\") # init m1\n",
    "\n",
    "m1.write(0,70)\n",
    "\n",
    "m1.read(0)"
   ]
  },
  {
   "cell_type": "code",
   "execution_count": 46,
   "id": "chemical-improvement",
   "metadata": {},
   "outputs": [
    {
     "name": "stdout",
     "output_type": "stream",
     "text": [
      "0.23813226722006897 192 1\n"
     ]
    },
    {
     "data": {
      "text/plain": [
       "142438"
      ]
     },
     "execution_count": 46,
     "metadata": {},
     "output_type": "execute_result"
    }
   ],
   "source": [
    "\n",
    "m1.fill(0)\n",
    "\n",
    "GPIO.output(26, 0)  \n",
    "set_voltage_4({'a':0.24}, debug=True)\n",
    "time.sleep(1)\n",
    "GPIO.output(26, 1)\n",
    "\n",
    "set_voltage_4({'a':3.3})\n",
    "m1.check(0)"
   ]
  },
  {
   "cell_type": "code",
   "execution_count": 6,
   "id": "flexible-continuity",
   "metadata": {},
   "outputs": [
    {
     "data": {
      "text/plain": [
       "[[0, 0],\n",
       " [0, 0],\n",
       " [0, 0],\n",
       " [0, 0],\n",
       " [0, 0],\n",
       " [0, 0],\n",
       " [0, 0],\n",
       " [0, 0],\n",
       " [0, 0],\n",
       " [0, 0]]"
      ]
     },
     "execution_count": 6,
     "metadata": {},
     "output_type": "execute_result"
    }
   ],
   "source": [
    "[[0]*2]*10"
   ]
  },
  {
   "cell_type": "code",
   "execution_count": 14,
   "id": "blank-bikini",
   "metadata": {},
   "outputs": [
    {
     "name": "stdout",
     "output_type": "stream",
     "text": [
      "0.02162565996276742 12 -1\n",
      "0.02200067140720847 11 -1\n",
      "0.02187566759239479 10 -1\n",
      "0.021750663777581104 9 -1\n",
      "0.02187566759239479 8 -1\n",
      "0.02187566759239479 7 -1\n",
      "0.02187566759239479 6 -1\n",
      "0.02200067140720847 5 -1\n",
      "0.02187566759239479 4 -1\n",
      "Error in memex.set_voltage(): timed out\n"
     ]
    },
    {
     "data": {
      "text/plain": [
       "[[0.02162565996276742, 3],\n",
       " [0.500015259254738, 0],\n",
       " [0.5826427808465835, 0],\n",
       " [0.5473917050691245, 0]]"
      ]
     },
     "execution_count": 14,
     "metadata": {},
     "output_type": "execute_result"
    }
   ],
   "source": [
    "set_voltage_4({'a':0.015}, debug=True)"
   ]
  },
  {
   "cell_type": "code",
   "execution_count": 29,
   "id": "opposed-reliance",
   "metadata": {
    "scrolled": true
   },
   "outputs": [
    {
     "name": "stdout",
     "output_type": "stream",
     "text": [
      "v = 0.595\n",
      "[0.0, 0.005, 0.01, 0.015, 0.02, 0.025, 0.03, 0.035, 0.04, 0.045, 0.05, 0.055, 0.06, 0.065, 0.07, 0.075, 0.08, 0.085, 0.09, 0.095, 0.1, 0.105, 0.11, 0.115, 0.12, 0.125, 0.13, 0.135, 0.14, 0.145, 0.15, 0.155, 0.16, 0.165, 0.17, 0.175, 0.18, 0.185, 0.19, 0.195, 0.2, 0.205, 0.21, 0.215, 0.22, 0.225, 0.23, 0.235, 0.24, 0.245, 0.25, 0.255, 0.26, 0.265, 0.27, 0.275, 0.28, 0.285, 0.29, 0.295, 0.3, 0.305, 0.31, 0.315, 0.32, 0.325, 0.33, 0.335, 0.34, 0.345, 0.35, 0.355, 0.36, 0.365, 0.37, 0.375, 0.38, 0.385, 0.39, 0.395, 0.4, 0.405, 0.41, 0.415, 0.42, 0.425, 0.43, 0.435, 0.44, 0.445, 0.45, 0.455, 0.46, 0.465, 0.47, 0.475, 0.48, 0.485, 0.49, 0.495, 0.5, 0.505, 0.51, 0.515, 0.52, 0.525, 0.53, 0.535, 0.54, 0.545, 0.55, 0.555, 0.56, 0.565, 0.57, 0.575, 0.58, 0.585, 0.59, 0]\n",
      "[134038.66666666666, 134586.06666666668, 134555.0, 134471.86666666667, 134412.4, 134140.0, 134398.73333333334, 134430.06666666668, 134347.13333333333, 134287.26666666666, 134249.33333333334, 134151.53333333333, 134214.26666666666, 134291.66666666666, 134232.26666666666, 133518.13333333333, 132060.8, 131586.46666666667, 131363.73333333334, 130544.2, 130001.73333333334, 129621.13333333333, 128495.66666666667, 127477.26666666666, 126922.2, 126196.86666666667, 125325.0, 123738.66666666667, 122654.8, 122328.46666666666, 120732.46666666666, 119943.06666666667, 117759.0, 115908.13333333333, 113651.86666666667, 114386.2, 115749.33333333333, 108585.8, 108317.53333333334, 117862.0, 115075.13333333333, 108197.06666666667, 101350.66666666667, 94661.73333333334, 88120.06666666667, 83118.06666666667, 80559.73333333334, 125892.93333333333, 125991.53333333334, 124446.8, 124017.46666666666, 122282.13333333333, 121283.06666666667, 120478.26666666666, 121555.2, 122208.8, 114960.33333333333, 117350.66666666667, 111589.73333333334, 109337.93333333333, 114927.66666666667, 114320.86666666667, 106551.0, 107374.33333333333, 126403.33333333333, 110834.33333333333, 111999.8, 127418.8, 48088.53333333333, 33910.066666666666, 62488.4, 58497.0, 53979.86666666667, 57432.4, 56075.86666666667, 52557.933333333334, 19427.733333333334, 34672.26666666667, 34349.2, 38529.46666666667, 71993.13333333333, 75462.33333333333, 84010.46666666666, 67770.93333333333, 54358.53333333333, 43837.066666666666, 15168.2, 16759.266666666666, 14739.066666666668, 5061.6, 992.2, 761.7333333333333, 413.46666666666664, 226.86666666666667, 170.13333333333333, 94.06666666666666, 60.6, 46.46666666666667, 31.333333333333332, 21.2, 12.0, 6.6, 4.0, 2.2, 2.0, 2.0, 1.0, 1.0, 1.0, 1.0, 1.0, 0.0, 0.0, 0.0, 0.0, 0.0, 0.0, 0.0, 0.0, 0]\n"
     ]
    }
   ],
   "source": [
    "from IPython.display import clear_output\n",
    "\n",
    "v_list = [0] * len(range(0,120))\n",
    "bit_list = [0] * len(range(0,120))\n",
    "\n",
    "for v in range(0,120):\n",
    "    clear_output(wait=True)\n",
    "    avg = 15\n",
    "    sub_list = [0] * avg\n",
    "    voltage = v/2/100\n",
    "    print('v = '+str(voltage))\n",
    "    print(v_list)\n",
    "    print(bit_list)\n",
    "    \n",
    "    for i in range(avg):\n",
    "        \n",
    "        set_voltage_4({'a':3.3})\n",
    "        m1.fill(0)\n",
    "        GPIO.output(26, 0)  \n",
    "        set_voltage_4({'a':voltage})\n",
    "        time.sleep(0.25)\n",
    "        GPIO.output(26, 1)\n",
    "        \n",
    "        set_voltage_4({'a':3.3})\n",
    "        time.sleep(0.25)\n",
    "        sub_list[i] = m1.check(0)\n",
    "            \n",
    "    v_list[v] = voltage\n",
    "    bit_list[v] = sum(sub_list) / len(sub_list)\n",
    "    "
   ]
  },
  {
   "cell_type": "code",
   "execution_count": 91,
   "id": "sized-dairy",
   "metadata": {
    "scrolled": true
   },
   "outputs": [
    {
     "data": {
      "text/plain": [
       "<matplotlib.collections.PathCollection at 0xb0d52ff0>"
      ]
     },
     "execution_count": 91,
     "metadata": {},
     "output_type": "execute_result"
    },
    {
     "data": {
      "image/png": "[encoded data removed]",
      "text/plain": [
       "<Figure size 432x288 with 1 Axes>"
      ]
     },
     "metadata": {
      "needs_background": "light"
     },
     "output_type": "display_data"
    }
   ],
   "source": [
    "#plot_data = list(zip(range(0,70),v_list))[3::]\n",
    "\n",
    "import matplotlib.pyplot as plt\n",
    "\n",
    "plt.scatter([i[0]/100 for i in plot_data], [i[1] for i in plot_data])\n",
    "plt.xlabel('Voltage [V]')\n",
    "plt.ylabel('Upset Bits')"
   ]
  },
  {
   "cell_type": "code",
   "execution_count": 138,
   "id": "prescribed-litigation",
   "metadata": {},
   "outputs": [
    {
     "data": {
      "text/plain": [
       "Text(0, 0.5, '% Upset Bits')"
      ]
     },
     "execution_count": 138,
     "metadata": {},
     "output_type": "execute_result"
    },
    {
     "data": {
      "image/png": "[encoded data removed]",
      "text/plain": [
       "<Figure size 432x288 with 1 Axes>"
      ]
     },
     "metadata": {
      "needs_background": "light"
     },
     "output_type": "display_data"
    }
   ],
   "source": [
    "plot_data1 = list(zip(range(2,50),v_list))[2::]\n",
    "\n",
    "import matplotlib.pyplot as plt\n",
    "\n",
    "plt.scatter([i[0]/100 for i in plot_data1], [i[1] / (32*1024*8) * 100 for i in plot_data1])\n",
    "plt.xlabel('Voltage [V]')\n",
    "plt.ylabel('% Upset Bits')"
   ]
  },
  {
   "cell_type": "code",
   "execution_count": 43,
   "id": "printable-cedar",
   "metadata": {},
   "outputs": [
    {
     "data": {
      "text/plain": [
       "Text(0, 0.5, '% Upset Bits')"
      ]
     },
     "execution_count": 43,
     "metadata": {},
     "output_type": "execute_result"
    },
    {
     "data": {
      "image/png": "[encoded data removed]",
      "text/plain": [
       "<Figure size 432x288 with 1 Axes>"
      ]
     },
     "metadata": {
      "needs_background": "light"
     },
     "output_type": "display_data"
    }
   ],
   "source": [
    "import matplotlib.pyplot as plt\n",
    "\n",
    "plt.scatter(v_list, [i/(32*1024*8) for i in bit_list])\n",
    "plt.xlabel('Voltage [V]')\n",
    "#plt.xlim(0.2,0.3)\n",
    "plt.ylabel('% Upset Bits')"
   ]
  },
  {
   "cell_type": "code",
   "execution_count": 40,
   "id": "fatty-involvement",
   "metadata": {},
   "outputs": [
    {
     "data": {
      "text/plain": [
       "80559.73333333334"
      ]
     },
     "execution_count": 40,
     "metadata": {},
     "output_type": "execute_result"
    }
   ],
   "source": [
    "bit_list[46]"
   ]
  },
  {
   "cell_type": "code",
   "execution_count": 42,
   "id": "european-retro",
   "metadata": {},
   "outputs": [
    {
     "data": {
      "text/plain": [
       "0.23"
      ]
     },
     "execution_count": 42,
     "metadata": {},
     "output_type": "execute_result"
    }
   ],
   "source": [
    "v_list[46]"
   ]
  },
  {
   "cell_type": "code",
   "execution_count": 69,
   "id": "native-membership",
   "metadata": {},
   "outputs": [
    {
     "name": "stdout",
     "output_type": "stream",
     "text": [
      "0.02800085451826533 24 1\n",
      "0.029250892666402174 25 0\n",
      "0.02912588885158849 25 0\n",
      "0.029250892666402174 25 0\n",
      "0.02912588885158849 25 0\n",
      "0.029000885036774806 25 0\n",
      "0.02937589648121586 25 0\n",
      "0.029250892666402174 25 1\n",
      "0.030250923184911648 26 0\n",
      "Error in memex.set_voltage(): timed out\n"
     ]
    },
    {
     "data": {
      "text/plain": [
       "[[0.03037592699972533, 26],\n",
       " [0.5252660298471022, 0],\n",
       " [0.5815177465132603, 0],\n",
       " [0.5160157475508896, 0]]"
      ]
     },
     "execution_count": 69,
     "metadata": {},
     "output_type": "execute_result"
    }
   ],
   "source": [
    "GPIO.output(26, 0) \n",
    "set_voltage_4({'a':0.03}, debug=True)"
   ]
  },
  {
   "cell_type": "code",
   "execution_count": 30,
   "id": "wicked-conservative",
   "metadata": {},
   "outputs": [],
   "source": [
    "def check_address(self,data_pattern): # compare every index of memory to data_pattern, return tally of mismatched bits\n",
    "        tally = 0\n",
    "        self.set_status() # set default status (sequential)\n",
    "        \n",
    "        bit_ls = [False] * self.size * 1024 * 8\n",
    "        bit_addr = 0\n",
    "        \n",
    "        for block in range(self.size):\n",
    "            data = self.read(1024*block,n=1024) # read 1024 bytes starting at 1024*block\n",
    "            \n",
    "            for byte in range(1024): # iterate over block\n",
    "                if data[byte] != data_pattern: # if data doesn't match\n",
    "                    for bit in range(8): # check each bit in the byte\n",
    "                        tally += ((data[byte] ^ data_pattern) >> bit) & 0x01\n",
    "                        if (((data[byte] ^ data_pattern) >> bit) & 0x01) == 1:\n",
    "                            bit_ls[bit_addr] = True\n",
    "                        \n",
    "                        bit_addr += 1\n",
    "                        \n",
    "                else: #if data does match\n",
    "                    bit_addr += 8\n",
    "        return tally, bit_ls"
   ]
  },
  {
   "cell_type": "code",
   "execution_count": 22,
   "id": "brown-rolling",
   "metadata": {},
   "outputs": [],
   "source": [
    "ls = [[0,True]]*10"
   ]
  },
  {
   "cell_type": "code",
   "execution_count": 23,
   "id": "musical-compound",
   "metadata": {},
   "outputs": [
    {
     "data": {
      "text/plain": [
       "[[0, True],\n",
       " [0, True],\n",
       " [0, True],\n",
       " [0, True],\n",
       " [0, True],\n",
       " [0, True],\n",
       " [0, True],\n",
       " [0, True]]"
      ]
     },
     "execution_count": 23,
     "metadata": {},
     "output_type": "execute_result"
    }
   ],
   "source": [
    "ls[0:8]"
   ]
  },
  {
   "cell_type": "code",
   "execution_count": 18,
   "id": "metropolitan-planet",
   "metadata": {},
   "outputs": [
    {
     "data": {
      "text/plain": [
       "[[0, 0],\n",
       " [0, 0],\n",
       " [0, 0],\n",
       " [0, 0],\n",
       " [0, 0],\n",
       " [0, 0],\n",
       " [0, 0],\n",
       " [0, 0],\n",
       " [0, 0],\n",
       " [0, 0]]"
      ]
     },
     "execution_count": 18,
     "metadata": {},
     "output_type": "execute_result"
    }
   ],
   "source": [
    "ls"
   ]
  },
  {
   "cell_type": "code",
   "execution_count": 94,
   "id": "parallel-coffee",
   "metadata": {},
   "outputs": [
    {
     "data": {
      "text/plain": [
       "[[3.2999757072664573, 2649],\n",
       " [0.5426415601062045, 0],\n",
       " [0.5380164189580982, 0],\n",
       " [0.5501417889950254, 0]]"
      ]
     },
     "execution_count": 94,
     "metadata": {},
     "output_type": "execute_result"
    }
   ],
   "source": [
    "set_voltage_4({'a':3.3})"
   ]
  },
  {
   "cell_type": "code",
   "execution_count": null,
   "id": "eastern-theorem",
   "metadata": {},
   "outputs": [],
   "source": []
  }
 ],
 "metadata": {
  "kernelspec": {
   "display_name": "Python 3 (ipykernel)",
   "language": "python",
   "name": "python3"
  },
  "language_info": {
   "codemirror_mode": {
    "name": "ipython",
    "version": 3
   },
   "file_extension": ".py",
   "mimetype": "text/x-python",
   "name": "python",
   "nbconvert_exporter": "python",
   "pygments_lexer": "ipython3",
   "version": "3.7.3"
  }
 },
 "nbformat": 4,
 "nbformat_minor": 5
}
