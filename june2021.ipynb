{
 "cells": [
  {
   "cell_type": "code",
   "execution_count": 17,
   "id": "unexpected-correction",
   "metadata": {},
   "outputs": [
    {
     "data": {
      "text/plain": [
       "[70]"
      ]
     },
     "execution_count": 17,
     "metadata": {},
     "output_type": "execute_result"
    }
   ],
   "source": [
    "# %load_ext autoreload\n",
    "# %autoreload 2\n",
    "\n",
    "from memex import sram\n",
    "import board\n",
    "import busio\n",
    "import time\n",
    "\n",
    "spi = busio.SPI(board.SCLK,MOSI=board.MOSI,MISO=board.MISO)\n",
    "spi.try_lock()\n",
    "spi.configure(baudrate=1000000)\n",
    "spi.unlock()\n",
    "\n",
    "m1 = sram(spi,cs=board.D5,name=\"M1\") # init m1\n",
    "\n",
    "m1.write(0,70)\n",
    "\n",
    "m1.read(0)"
   ]
  },
  {
   "cell_type": "code",
   "execution_count": 3,
   "id": "utility-protest",
   "metadata": {},
   "outputs": [],
   "source": [
    "import RPi.GPIO as GPIO\n",
    "GPIO.setmode(GPIO.BCM)            # choose BCM or BOARD  \n",
    "\n",
    "#Set output enable high\n",
    "GPIO.setup(26, GPIO.OUT) # set a port/pin as an output   \n",
    "GPIO.output(26, 1)       # set port/pin value to 1/GPIO.HIGH/True  \n",
    "\n",
    "#set hold pin high\n",
    "GPIO.setup(19, GPIO.OUT) # set a port/pin as an output   \n",
    "GPIO.output(19, 1)       # set port/pin value to 1/GPIO.HIGH/True  "
   ]
  },
  {
   "cell_type": "code",
   "execution_count": null,
   "id": "australian-statement",
   "metadata": {},
   "outputs": [],
   "source": [
    "m1.fill(0x55)\n",
    "m1.check(0x55)"
   ]
  },
  {
   "cell_type": "code",
   "execution_count": 84,
   "id": "animated-taste",
   "metadata": {},
   "outputs": [
    {
     "name": "stdout",
     "output_type": "stream",
     "text": [
      "0\n",
      "0.7925646305084229\n"
     ]
    }
   ],
   "source": [
    "t0 = time.time()\n",
    "m1.fill(0x55)\n",
    "print(m1.check(0x55))\n",
    "t1 = time.time()\n",
    "print(t1-t0)"
   ]
  },
  {
   "cell_type": "code",
   "execution_count": 26,
   "id": "brief-minute",
   "metadata": {},
   "outputs": [],
   "source": [
    "import adafruit_ina219\n",
    "#adafruit_ina219._raw_calibration = \n",
    "i2c = busio.I2C(board.SCL, board.SDA)\n",
    "ina219 = adafruit_ina219.INA219(i2c)"
   ]
  },
  {
   "cell_type": "code",
   "execution_count": 37,
   "id": "banner-republican",
   "metadata": {},
   "outputs": [
    {
     "data": {
      "text/plain": [
       "1.188"
      ]
     },
     "execution_count": 37,
     "metadata": {},
     "output_type": "execute_result"
    }
   ],
   "source": [
    "ina219.current"
   ]
  },
  {
   "cell_type": "code",
   "execution_count": 76,
   "id": "normal-indiana",
   "metadata": {},
   "outputs": [],
   "source": [
    "# script to check voltages\n",
    "import pandas as pd\n",
    "import numpy as np\n",
    "import time\n",
    "\n",
    "from multiprocessing import Process, Queue\n",
    "\n",
    "Q = Queue()\n",
    "\n",
    "\n",
    "def check_status(samp,\n",
    "                 sensor = adafruit_ina219.INA219(i2c)):\n",
    "    \n",
    "    # samp --> number of data samples to take.\n",
    "    data = [0]*samp\n",
    "    t0 = time.time()\n",
    "    for i in range(samp):\n",
    "        \n",
    "        t1 = time.time()\n",
    "        volt = ina219.bus_voltage\n",
    "        current = ina219.current\n",
    "        \n",
    "        data[i] = [volt, current, round(t1 - t0,2)] \n",
    "        \n",
    "    df = pd.DataFrame(data, columns = ['Voltage','Current', 'Time'])\n",
    "    Q.put(df)\n",
    "    return df\n",
    "\n",
    "def check_status_adc(samp, \n",
    "                     adc = AnalogIn(ADS.ADS1115(busio.I2C(board.SCL, board.SDA)), ADS.P0)):\n",
    "    \n",
    "    # samp --> number of data samples to take.\n",
    "    data = [0]*samp\n",
    "    t0 = time.time()\n",
    "    for i in range(samp):\n",
    "        \n",
    "        t1 = time.time()\n",
    "        volt = adc.voltage\n",
    "        \n",
    "        data[i] = [volt, round(t1 - t0,2)] \n",
    "        \n",
    "    df = pd.DataFrame(data, columns = ['Voltage', 'Time'])\n",
    "    Q.put(df)\n",
    "    return df\n",
    "\n",
    "def dummy_task():\n",
    "    time.sleep(0.1)\n",
    "    m1.fill(0x55)\n",
    "    m1.check(0x55)"
   ]
  },
  {
   "cell_type": "code",
   "execution_count": 80,
   "id": "subjective-stevens",
   "metadata": {
    "scrolled": true
   },
   "outputs": [],
   "source": [
    "p = Process(target=check_status, args=(300,))\n",
    "q = Process(target=dummy_task)\n",
    "\n",
    "p.start()\n",
    "\n",
    "#q.start()\n",
    "\n",
    "# q.join()\n",
    "# p.join()\n",
    "\n",
    "df1 = Q.get()"
   ]
  },
  {
   "cell_type": "code",
   "execution_count": 81,
   "id": "lesbian-assignment",
   "metadata": {},
   "outputs": [
    {
     "name": "stdout",
     "output_type": "stream",
     "text": [
      "0.004933333333333333\n"
     ]
    },
    {
     "data": {
      "image/png": "[encoded data removed]",
      "text/plain": [
       "<Figure size 432x288 with 1 Axes>"
      ]
     },
     "metadata": {
      "needs_background": "light"
     },
     "output_type": "display_data"
    }
   ],
   "source": [
    "import matplotlib.pyplot as plt\n",
    "\n",
    "print(np.mean(df1['Current']))\n",
    "\n",
    "plt.scatter(df1['Time'], df1['Current'])\n",
    "plt.ylabel('Current [mA]')\n",
    "plt.xlabel('Time [s]')\n",
    "plt.title('Idle')\n",
    "plt.ylim(-0.005,0.04)\n",
    "#plt.yscale('log')\n",
    "plt.show()"
   ]
  },
  {
   "cell_type": "code",
   "execution_count": 454,
   "id": "editorial-catholic",
   "metadata": {
    "scrolled": true
   },
   "outputs": [
    {
     "name": "stdout",
     "output_type": "stream",
     "text": [
      "1.6379310344827587\n"
     ]
    }
   ],
   "source": [
    "print(np.mean(df1.query(\"0.2 < Time < 0.8\")['Current']))"
   ]
  },
  {
   "cell_type": "code",
   "execution_count": 347,
   "id": "arabic-orchestra",
   "metadata": {},
   "outputs": [
    {
     "data": {
      "text/plain": [
       "<matplotlib.collections.PathCollection at 0xa4d68530>"
      ]
     },
     "execution_count": 347,
     "metadata": {},
     "output_type": "execute_result"
    },
    {
     "data": {
      "image/png": "[encoded data removed]",
      "text/plain": [
       "<Figure size 432x288 with 1 Axes>"
      ]
     },
     "metadata": {
      "needs_background": "light"
     },
     "output_type": "display_data"
    }
   ],
   "source": [
    "plt.scatter(df1['Time [s]'], df1['Power [mW]'])"
   ]
  },
  {
   "cell_type": "code",
   "execution_count": 12,
   "id": "casual-scale",
   "metadata": {},
   "outputs": [
    {
     "data": {
      "text/html": [
       "<div>\n",
       "<style scoped>\n",
       "    .dataframe tbody tr th:only-of-type {\n",
       "        vertical-align: middle;\n",
       "    }\n",
       "\n",
       "    .dataframe tbody tr th {\n",
       "        vertical-align: top;\n",
       "    }\n",
       "\n",
       "    .dataframe thead th {\n",
       "        text-align: right;\n",
       "    }\n",
       "</style>\n",
       "<table border=\"1\" class=\"dataframe\">\n",
       "  <thead>\n",
       "    <tr style=\"text-align: right;\">\n",
       "      <th></th>\n",
       "      <th>Voltage</th>\n",
       "      <th>Current</th>\n",
       "      <th>Time</th>\n",
       "    </tr>\n",
       "  </thead>\n",
       "  <tbody>\n",
       "    <tr>\n",
       "      <th>0</th>\n",
       "      <td>0.00000</td>\n",
       "      <td>0.002</td>\n",
       "      <td>0.00</td>\n",
       "    </tr>\n",
       "    <tr>\n",
       "      <th>1</th>\n",
       "      <td>0.00002</td>\n",
       "      <td>0.002</td>\n",
       "      <td>0.04</td>\n",
       "    </tr>\n",
       "    <tr>\n",
       "      <th>2</th>\n",
       "      <td>0.00000</td>\n",
       "      <td>0.002</td>\n",
       "      <td>0.05</td>\n",
       "    </tr>\n",
       "    <tr>\n",
       "      <th>3</th>\n",
       "      <td>0.00001</td>\n",
       "      <td>0.000</td>\n",
       "      <td>0.06</td>\n",
       "    </tr>\n",
       "    <tr>\n",
       "      <th>4</th>\n",
       "      <td>0.00001</td>\n",
       "      <td>0.002</td>\n",
       "      <td>0.06</td>\n",
       "    </tr>\n",
       "    <tr>\n",
       "      <th>...</th>\n",
       "      <td>...</td>\n",
       "      <td>...</td>\n",
       "      <td>...</td>\n",
       "    </tr>\n",
       "    <tr>\n",
       "      <th>395</th>\n",
       "      <td>-0.00001</td>\n",
       "      <td>0.002</td>\n",
       "      <td>2.08</td>\n",
       "    </tr>\n",
       "    <tr>\n",
       "      <th>396</th>\n",
       "      <td>0.00003</td>\n",
       "      <td>0.000</td>\n",
       "      <td>2.09</td>\n",
       "    </tr>\n",
       "    <tr>\n",
       "      <th>397</th>\n",
       "      <td>0.00003</td>\n",
       "      <td>0.002</td>\n",
       "      <td>2.09</td>\n",
       "    </tr>\n",
       "    <tr>\n",
       "      <th>398</th>\n",
       "      <td>0.00002</td>\n",
       "      <td>0.002</td>\n",
       "      <td>2.10</td>\n",
       "    </tr>\n",
       "    <tr>\n",
       "      <th>399</th>\n",
       "      <td>0.00003</td>\n",
       "      <td>0.002</td>\n",
       "      <td>2.10</td>\n",
       "    </tr>\n",
       "  </tbody>\n",
       "</table>\n",
       "<p>400 rows × 3 columns</p>\n",
       "</div>"
      ],
      "text/plain": [
       "     Voltage  Current  Time\n",
       "0    0.00000    0.002  0.00\n",
       "1    0.00002    0.002  0.04\n",
       "2    0.00000    0.002  0.05\n",
       "3    0.00001    0.000  0.06\n",
       "4    0.00001    0.002  0.06\n",
       "..       ...      ...   ...\n",
       "395 -0.00001    0.002  2.08\n",
       "396  0.00003    0.000  2.09\n",
       "397  0.00003    0.002  2.09\n",
       "398  0.00002    0.002  2.10\n",
       "399  0.00003    0.002  2.10\n",
       "\n",
       "[400 rows x 3 columns]"
      ]
     },
     "execution_count": 12,
     "metadata": {},
     "output_type": "execute_result"
    }
   ],
   "source": [
    "df1"
   ]
  },
  {
   "cell_type": "code",
   "execution_count": 329,
   "id": "economic-smooth",
   "metadata": {},
   "outputs": [
    {
     "data": {
      "text/plain": [
       "130866"
      ]
     },
     "execution_count": 329,
     "metadata": {},
     "output_type": "execute_result"
    }
   ],
   "source": [
    "m1.check(1)"
   ]
  },
  {
   "cell_type": "code",
   "execution_count": 1,
   "id": "undefined-acrobat",
   "metadata": {},
   "outputs": [],
   "source": [
    "import RPi.GPIO as GPIO\n",
    "import time\n",
    "import random\n",
    " \n",
    "pins = (17,27,22) # R = 17, G = 27, B = 22\n",
    "\n",
    "def setup():\n",
    "    GPIO.setmode(GPIO.BCM)\n",
    "    for i in pins:  # iterate on the RGB pins, initialize each and set to HIGH to turn it off (COMMON ANODE)\n",
    "        GPIO.setup(i, GPIO.OUT)\n",
    "        GPIO.output(i, GPIO.LOW)"
   ]
  },
  {
   "cell_type": "code",
   "execution_count": 24,
   "id": "personalized-consumer",
   "metadata": {},
   "outputs": [],
   "source": [
    "#script to set voltages\n",
    "\n",
    "import board\n",
    "import busio\n",
    "import time\n",
    "import adafruit_mcp4728\n",
    "import adafruit_ina219\n",
    "import adafruit_ads1x15.ads1115 as ADS\n",
    "from adafruit_ads1x15.analog_in import AnalogIn\n",
    "\n",
    "def set_voltage_4(voltages = {'a':0, 'b':0, 'c':0, 'd':0}, \n",
    "                       timeout = 1,\n",
    "                       dac = adafruit_mcp4728.MCP4728(busio.I2C(board.SCL, board.SDA)),\n",
    "                       adc_ch0 = AnalogIn(ADS.ADS1115(busio.I2C(board.SCL, board.SDA)), ADS.P0),\n",
    "                       adc_ch1 = AnalogIn(ADS.ADS1115(busio.I2C(board.SCL, board.SDA)), ADS.P1),\n",
    "                       adc_ch2 = AnalogIn(ADS.ADS1115(busio.I2C(board.SCL, board.SDA)), ADS.P2),\n",
    "                       adc_ch3 = AnalogIn(ADS.ADS1115(busio.I2C(board.SCL, board.SDA)), ADS.P3),\n",
    "                       debug = False):\n",
    "    \n",
    "    \"\"\"Set voltages using via a feedback loop from the MCP4728 (DAC) to ADS115 (ADC)\n",
    "    Args:\n",
    "      voltages(dict):  voltages to set. Must be a dictionary with keys 'a', 'b', 'c', and 'd'.\n",
    "      sample_dict = {\n",
    "        'a' : 0,\n",
    "        'b' : 1.5,\n",
    "        'c' : 2,\n",
    "        'd' : 2.5\n",
    "        }\n",
    "        \n",
    "      timeout(float): maximum time before feedback loop times out and breaks the while loop\n",
    "      \n",
    "      dac(adafruit_mcp4728.MCP4728): dac object\n",
    "      \n",
    "      adc_chx(adafruit_ads1x15.analog_in.AnalogIn): AnalogIn object for adc\n",
    "\n",
    "    Returns:\n",
    "        Final voltages read by ADC\n",
    "    \"\"\"\n",
    "    \n",
    "    adc_channels = {\n",
    "        'a' : '0',\n",
    "        'b' : '1',\n",
    "        'c' : '2',\n",
    "        'd' : '3'\n",
    "        }\n",
    "    \n",
    "    \n",
    "    for key in voltages:\n",
    "        \n",
    "        start = time.time()\n",
    "        dac_ch = eval('dac.channel_%s'%(key))\n",
    "        adc_ch = eval('adc_ch%s'%(adc_channels[key]))\n",
    "        v = voltages[key]\n",
    "        \n",
    "        if v > 3.74: # exceeds maximum\n",
    "            dac_ch.raw_value = 4095\n",
    "            continue\n",
    "        elif v < 0.001: # exceeds minimum\n",
    "            dac_ch.raw_value = 0\n",
    "            continue\n",
    "        dac_ch.raw_value = int(v/5.1 * 4095) # set starting value\n",
    "        \n",
    "        while round(adc_ch.voltage,3) != round(v,3): # set voltage using feedback loop\n",
    "            time.sleep(0.01)\n",
    "            delta=0\n",
    "            if adc_ch.voltage - v > 0.1:\n",
    "                delta = -100\n",
    "            elif adc_ch.voltage - v > 0.01:\n",
    "                delta = -10\n",
    "            elif adc_ch.voltage - v > 0.001:\n",
    "                delta = -1\n",
    "\n",
    "            if adc_ch.voltage - v < -0.1:\n",
    "                delta = 100\n",
    "            if adc_ch.voltage - v < -0.01:\n",
    "                delta = 10\n",
    "            elif adc_ch.voltage - v < -0.001:\n",
    "                delta = 1\n",
    "\n",
    "            if debug:\n",
    "                print(adc_ch.voltage, dac_ch.raw_value, delta)\n",
    "\n",
    "            if dac_ch.raw_value + delta > 4095: # exceeds maximum\n",
    "                dac_ch.raw_value = 4095\n",
    "                break\n",
    "            elif dac_ch.raw_value + delta < 0: # exceeds minimum\n",
    "                dac_ch.raw_value = 0\n",
    "                break\n",
    "            else:\n",
    "                dac_ch.raw_value += delta\n",
    "\n",
    "            if time.time() - start > timeout:\n",
    "                print(\"Error in memex.set_voltage(): timed out\")\n",
    "                break\n",
    "    \n",
    "    \n",
    "    return [[adc_ch0.voltage, dac.channel_a.raw_value], \n",
    "            [adc_ch1.voltage, dac.channel_b.raw_value], \n",
    "            [adc_ch2.voltage, dac.channel_c.raw_value], \n",
    "            [adc_ch3.voltage, dac.channel_d.raw_value]]\n",
    "\n",
    "def timestamp():\n",
    "    return int(time.time())"
   ]
  },
  {
   "cell_type": "code",
   "execution_count": 129,
   "id": "sufficient-jacket",
   "metadata": {},
   "outputs": [
    {
     "data": {
      "text/plain": [
       "[[3.3011007415997806, 2650],\n",
       " [0.555891964476455, 0],\n",
       " [0.5446416211432233, 0],\n",
       " [0.6345193639942626, 0]]"
      ]
     },
     "execution_count": 129,
     "metadata": {},
     "output_type": "execute_result"
    }
   ],
   "source": [
    "set_voltage_4(voltages = {'a':3.3, 'b':0, 'c':0, 'd':0}, debug=False, timeout=1)"
   ]
  },
  {
   "cell_type": "code",
   "execution_count": 15,
   "id": "residential-robertson",
   "metadata": {},
   "outputs": [],
   "source": [
    "dac = adafruit_mcp4728.MCP4728(busio.I2C(board.SCL, board.SDA))\n",
    "adc_ch0 = AnalogIn(ADS.ADS1115(busio.I2C(board.SCL, board.SDA)), ADS.P0)"
   ]
  },
  {
   "cell_type": "code",
   "execution_count": 16,
   "id": "raising-denial",
   "metadata": {},
   "outputs": [
    {
     "data": {
      "text/plain": [
       "3.8803684194463943"
      ]
     },
     "execution_count": 16,
     "metadata": {},
     "output_type": "execute_result"
    }
   ],
   "source": [
    "dac.channel_a.value=65535\n",
    "adc_ch0.voltage"
   ]
  },
  {
   "cell_type": "code",
   "execution_count": 26,
   "id": "boolean-progressive",
   "metadata": {},
   "outputs": [],
   "source": [
    "def vramp(start_v, end_v, step_size = 2,\n",
    "         dac = adafruit_mcp4728.MCP4728(busio.I2C(board.SCL, board.SDA)),\n",
    "         channel = 'a'):\n",
    "    \n",
    "    dac_ch = eval('dac.channel_%s'%(channel))\n",
    "    \n",
    "    #find/end beginning voltage\n",
    "    start_raw_value = set_voltage_4(voltages = {'a':start_v}, debug=False)[0][1]\n",
    "    end_raw_value = set_voltage_4(voltages = {'a':end_v}, debug=False)[0][1]\n",
    "    \n",
    "    delta = end_raw_value - start_raw_value\n",
    "#     rate = duration/delta # increase a bit every time this unit passes\n",
    "    \n",
    "    for bit in range(int(delta/step_size)):\n",
    "\n",
    "        dac_ch.raw_value = start_raw_value + step_size*bit\n",
    "\n",
    "#         time.sleep(rate)\n",
    "    \n",
    "    return 0\n",
    "    "
   ]
  },
  {
   "cell_type": "code",
   "execution_count": 145,
   "id": "italic-collectible",
   "metadata": {},
   "outputs": [],
   "source": [
    "p = Process(target=check_status_adc, args=(200,))\n",
    "q = Process(target=vramp, args=(0,3.3,))\n",
    "\n",
    "q.start()\n",
    "\n",
    "p.start()\n",
    "\n",
    "# q.join()\n",
    "# p.join()\n",
    "\n",
    "df1 = Q.get()"
   ]
  },
  {
   "cell_type": "code",
   "execution_count": 146,
   "id": "residential-turner",
   "metadata": {},
   "outputs": [
    {
     "data": {
      "image/png": "[encoded data removed]",
      "text/plain": [
       "<Figure size 432x288 with 1 Axes>"
      ]
     },
     "metadata": {
      "needs_background": "light"
     },
     "output_type": "display_data"
    }
   ],
   "source": [
    "import matplotlib.pyplot as plt\n",
    "\n",
    "plt.scatter(df1['Time'], df1['Voltage'])\n",
    "plt.ylabel('Voltage [V]')\n",
    "plt.xlabel('Time [s]')\n",
    "#plt.ylim(-1,1)\n",
    "#plt.yscale('log')\n",
    "plt.show()"
   ]
  },
  {
   "cell_type": "code",
   "execution_count": null,
   "id": "clinical-charter",
   "metadata": {},
   "outputs": [],
   "source": []
  }
 ],
 "metadata": {
  "kernelspec": {
   "display_name": "Python 3",
   "language": "python",
   "name": "python3"
  },
  "language_info": {
   "codemirror_mode": {
    "name": "ipython",
    "version": 3
   },
   "file_extension": ".py",
   "mimetype": "text/x-python",
   "name": "python",
   "nbconvert_exporter": "python",
   "pygments_lexer": "ipython3",
   "version": "3.7.3"
  }
 },
 "nbformat": 4,
 "nbformat_minor": 5
}
