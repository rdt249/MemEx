{
 "cells": [
  {
   "cell_type": "code",
   "execution_count": 1,
   "id": "unexpected-correction",
   "metadata": {},
   "outputs": [
    {
     "data": {
      "text/plain": [
       "[75]"
      ]
     },
     "execution_count": 1,
     "metadata": {},
     "output_type": "execute_result"
    }
   ],
   "source": [
    "from memex import sram\n",
    "import board\n",
    "import busio\n",
    "\n",
    "spi = busio.SPI(board.SCLK,MOSI=board.MOSI,MISO=board.MISO)\n",
    "spi.try_lock()\n",
    "spi.configure(baudrate=5000000)\n",
    "spi.unlock()\n",
    "\n",
    "m1 = sram(spi,cs=board.D25,name=\"M1\") # init m1\n",
    "\n",
    "m1.write(3,75)\n",
    "m1.read(3)"
   ]
  },
  {
   "cell_type": "code",
   "execution_count": null,
   "id": "according-prime",
   "metadata": {},
   "outputs": [],
   "source": []
  }
 ],
 "metadata": {
  "kernelspec": {
   "display_name": "Python 3",
   "language": "python",
   "name": "python3"
  },
  "language_info": {
   "codemirror_mode": {
    "name": "ipython",
    "version": 3
   },
   "file_extension": ".py",
   "mimetype": "text/x-python",
   "name": "python",
   "nbconvert_exporter": "python",
   "pygments_lexer": "ipython3",
   "version": "3.7.3"
  }
 },
 "nbformat": 4,
 "nbformat_minor": 5
}
