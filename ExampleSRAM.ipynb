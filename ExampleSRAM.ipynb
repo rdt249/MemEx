{
 "cells": [
  {
   "cell_type": "markdown",
   "id": "sharp-louisville",
   "metadata": {},
   "source": [
    "## MemEx SRAM Tutorial\n",
    "How to use the SRAM class in the MemEx package: Import memex (of course) and spidev packages. Spidev makes it easy to talk directly to SPI devices like our serial SRAMs. To initialize a device, you need to specify the SPI port like this:\n",
    "```\n",
    "dut = memex.sram(spidev.SpiDev())\n",
    "```\n",
    "If you're using more than one device on the SPI bus, it makes sense to declare the SPI bus first before initializing the SRAMs:\n",
    "```\n",
    "spi = spidev.SpiDev()\n",
    "dut0 = memex.sram(spi,cs = 0)\n",
    "dut1 = memex.sram(spi,cs = 1)\n",
    "```\n",
    "With multiple devices on the SPI bus, you'll need to differentiate the chip select (or CS) pins, hence the \"cs = x\" inputs. You can also use different SPI busses:\n",
    "```\n",
    "spi = spidev.SpiDev()\n",
    "dut0 = memex.sram(spi)\n",
    "dut1 = memex.sram(spi,cs=1)\n",
    "dut2 = memex.sram(spi,bus=1)\n",
    "```\n",
    "The above lines would initialize 3 SRAMs, on spi0.0, spi0.1, and spi1.0 (these are the 3 available SPI ports on the Raspberry Pi GPIO).\n",
    "\n",
    "The SRAM class in the MemEx package has some useful functions: <br>\n",
    "`data = read(address,n=1)` : read n bytes starting from address <br>\n",
    "`write(address,data,n=1)` : write n copies of data starting at address (data can be a list) <br>\n",
    "`fill(pattern)` : fill entire memory (based on sram.size) <br>\n",
    "`faults = check(pattern)` : compare entire memory to given pattern, return count of mismatched bits <br>\n",
    "`save(file = \"data/sram/save.csv\")` : save state of entire memory as a single-row csv with given file path <br>\n",
    "\n",
    "In case you didn't know, function inputs that have a `=` are optional, and if nothing is assigned the function will default the value after the `=`. Functions that don't have a return listed above return 0 on success, and all functions return -1 if an error is detected.\n",
    "\n",
    "One last thing:\n",
    "\n",
    "You're welcome to talk directly to the devices with SPI. Here are the four basic steps to do so:\n",
    "```\n",
    "sram.spi.open(sram.bus,sram.cs) # open spi comms\n",
    "sram.spi.max_speed_hz = sram.spi_hz # apply SPI speed limit\n",
    "miso = sram.spi.xfer(mosi) # transmit MOSI data and receive MISO data\n",
    "sram.spi.close() # close SPI comms\n",
    "```\n",
    "For formatting your MOSI messages, refer to the datasheet: <https://ww1.microchip.com/downloads/en/DeviceDoc/20005142C.pdf>"
   ]
  },
  {
   "cell_type": "code",
   "execution_count": 1,
   "id": "certain-disability",
   "metadata": {
    "scrolled": true
   },
   "outputs": [
    {
     "ename": "TypeError",
     "evalue": "__init__() got an unexpected keyword argument 'bus'",
     "output_type": "error",
     "traceback": [
      "\u001b[0;31m---------------------------------------------------------------------------\u001b[0m",
      "\u001b[0;31mTypeError\u001b[0m                                 Traceback (most recent call last)",
      "\u001b[0;32m<ipython-input-1-a7ed65c49fcf>\u001b[0m in \u001b[0;36m<module>\u001b[0;34m\u001b[0m\n\u001b[1;32m      9\u001b[0m \u001b[0;34m\u001b[0m\u001b[0m\n\u001b[1;32m     10\u001b[0m \u001b[0;31m# init device\u001b[0m\u001b[0;34m\u001b[0m\u001b[0;34m\u001b[0m\u001b[0;34m\u001b[0m\u001b[0m\n\u001b[0;32m---> 11\u001b[0;31m \u001b[0msram\u001b[0m \u001b[0;34m=\u001b[0m \u001b[0mmemex\u001b[0m\u001b[0;34m.\u001b[0m\u001b[0msram\u001b[0m\u001b[0;34m(\u001b[0m\u001b[0mspi\u001b[0m\u001b[0;34m,\u001b[0m\u001b[0mbus\u001b[0m\u001b[0;34m=\u001b[0m\u001b[0;36m0\u001b[0m\u001b[0;34m,\u001b[0m\u001b[0mcs\u001b[0m\u001b[0;34m=\u001b[0m\u001b[0;36m0\u001b[0m\u001b[0;34m,\u001b[0m\u001b[0mdebug\u001b[0m\u001b[0;34m=\u001b[0m\u001b[0;32mFalse\u001b[0m\u001b[0;34m)\u001b[0m \u001b[0;31m# init SRAM on SPI bus 0 and chip select 0 (spi0.0)\u001b[0m\u001b[0;34m\u001b[0m\u001b[0;34m\u001b[0m\u001b[0m\n\u001b[0m\u001b[1;32m     12\u001b[0m \u001b[0;31m# hint: try turning on debug mode\u001b[0m\u001b[0;34m\u001b[0m\u001b[0;34m\u001b[0m\u001b[0;34m\u001b[0m\u001b[0m\n\u001b[1;32m     13\u001b[0m \u001b[0;34m\u001b[0m\u001b[0m\n",
      "\u001b[0;31mTypeError\u001b[0m: __init__() got an unexpected keyword argument 'bus'"
     ]
    }
   ],
   "source": [
    "# MemEx library SRAM object tutorial\n",
    "\n",
    "import memex\n",
    "import spidev\n",
    "import time\n",
    "\n",
    "# set up comms\n",
    "spi = spidev.SpiDev()\n",
    "\n",
    "# init device\n",
    "sram = memex.sram(spi,bus=0,cs=0,debug=False) # init SRAM on SPI bus 0 and chip select 0 (spi0.0)\n",
    "# hint: try turning on debug mode\n",
    "\n",
    "# write and read a single byte\n",
    "sram.write(0,85) # write 85 (0x55) to address 0\n",
    "data = sram.read(0) # read from address 0\n",
    "print(\" data:\",data)\n",
    "\n",
    "# write and read a list of data\n",
    "sram.write(1,[2,4,6,8]) # write a list of data starting at address 4\n",
    "data = sram.read(1,n=4) # read 4 bytes starting at address 0\n",
    "print(\" data:\",data)\n",
    "\n",
    "# multi-byte write and read with iteration\n",
    "sram.write(5,170,n=4) # write 170 (0xaa) to 4 bytes starting at address 0\n",
    "data = sram.read(5,n=4) # read 4 bytes starting at address 0\n",
    "print(\" data:\",data)"
   ]
  },
  {
   "cell_type": "code",
   "execution_count": 2,
   "id": "english-motion",
   "metadata": {
    "scrolled": false
   },
   "outputs": [
    {
     "ename": "TypeError",
     "evalue": "__init__() got an unexpected keyword argument 'bus'",
     "output_type": "error",
     "traceback": [
      "\u001b[0;31m---------------------------------------------------------------------------\u001b[0m",
      "\u001b[0;31mTypeError\u001b[0m                                 Traceback (most recent call last)",
      "\u001b[0;32m<ipython-input-2-76aaccd2f3da>\u001b[0m in \u001b[0;36m<module>\u001b[0;34m\u001b[0m\n\u001b[1;32m      7\u001b[0m \u001b[0;34m\u001b[0m\u001b[0m\n\u001b[1;32m      8\u001b[0m \u001b[0;31m# init device\u001b[0m\u001b[0;34m\u001b[0m\u001b[0;34m\u001b[0m\u001b[0;34m\u001b[0m\u001b[0m\n\u001b[0;32m----> 9\u001b[0;31m \u001b[0msram\u001b[0m \u001b[0;34m=\u001b[0m \u001b[0mmemex\u001b[0m\u001b[0;34m.\u001b[0m\u001b[0msram\u001b[0m\u001b[0;34m(\u001b[0m\u001b[0mspi\u001b[0m\u001b[0;34m,\u001b[0m\u001b[0mbus\u001b[0m\u001b[0;34m=\u001b[0m\u001b[0;36m0\u001b[0m\u001b[0;34m,\u001b[0m\u001b[0mcs\u001b[0m\u001b[0;34m=\u001b[0m\u001b[0;36m0\u001b[0m\u001b[0;34m,\u001b[0m\u001b[0mdebug\u001b[0m\u001b[0;34m=\u001b[0m\u001b[0;32mFalse\u001b[0m\u001b[0;34m)\u001b[0m \u001b[0;31m# init SRAM on SPI bus 0 and chip select 0 (spi0.0)\u001b[0m\u001b[0;34m\u001b[0m\u001b[0;34m\u001b[0m\u001b[0m\n\u001b[0m\u001b[1;32m     10\u001b[0m \u001b[0;34m\u001b[0m\u001b[0m\n\u001b[1;32m     11\u001b[0m \u001b[0;31m# script setup\u001b[0m\u001b[0;34m\u001b[0m\u001b[0;34m\u001b[0m\u001b[0;34m\u001b[0m\u001b[0m\n",
      "\u001b[0;31mTypeError\u001b[0m: __init__() got an unexpected keyword argument 'bus'"
     ]
    }
   ],
   "source": [
    "import memex\n",
    "import spidev\n",
    "import time\n",
    "\n",
    "# set up comms\n",
    "spi = spidev.SpiDev()\n",
    "\n",
    "# init device\n",
    "sram = memex.sram(spi,bus=0,cs=0,debug=False) # init SRAM on SPI bus 0 and chip select 0 (spi0.0)\n",
    "\n",
    "# script setup\n",
    "data_pattern = 0\n",
    "rewrite_data = True\n",
    "\n",
    "# count faults\n",
    "faults = sram.check(data_pattern) # count mismatched bits\n",
    "if rewrite_data:\n",
    "    sram.fill(data_pattern) # fill memory with data pattern\n",
    "print(\"faults:\",faults)"
   ]
  },
  {
   "cell_type": "code",
   "execution_count": 17,
   "id": "abandoned-market",
   "metadata": {},
   "outputs": [
    {
     "data": {
      "text/plain": [
       "0"
      ]
     },
     "execution_count": 17,
     "metadata": {},
     "output_type": "execute_result"
    }
   ],
   "source": [
    "sram.fill(0)"
   ]
  },
  {
   "cell_type": "code",
   "execution_count": 48,
   "id": "signal-tiger",
   "metadata": {},
   "outputs": [
    {
     "data": {
      "text/plain": [
       "0"
      ]
     },
     "execution_count": 48,
     "metadata": {},
     "output_type": "execute_result"
    }
   ],
   "source": [
    "import memex\n",
    "sram = memex.sram(spidev.SpiDev())\n",
    "sram.save(file = \"data/sram/puf.csv\")"
   ]
  },
  {
   "cell_type": "code",
   "execution_count": 46,
   "id": "fewer-recognition",
   "metadata": {},
   "outputs": [
    {
     "name": "stdout",
     "output_type": "stream",
     "text": [
      "max spi: 19993551 Hz\n",
      "\n",
      "read speed: 118.9 kB/s\n",
      "read current: 2.7733389402859547 mA\n",
      "read power: 8.738435660218672 mW\n",
      "\n",
      "write speed: 118.2 kB/s\n",
      "write current: 2.81831641285956 mA\n",
      "write power: 8.646362098138749 mW\n",
      "\n",
      "idle current: 2.7963818321785987 mA\n",
      "idle power: 8.783679753656658 mW\n"
     ]
    }
   ],
   "source": [
    "# find read/write speed, read/write current, and idle current\n",
    "\n",
    "import memex\n",
    "import spidev\n",
    "import adafruit_ina260\n",
    "import busio\n",
    "import board\n",
    "import time\n",
    "import gpiozero\n",
    "from colorzero import Color\n",
    "\n",
    "# script setup\n",
    "pattern = 0\n",
    "default_hz = 5000000\n",
    "time_limit = 10\n",
    "\n",
    "i2c = busio.I2C(board.SCL, board.SDA) # init i2c bus\n",
    "spi = spidev.SpiDev() # init spi bus\n",
    "sram = memex.sram(spi,spi_hz = default_hz)\n",
    "sensor = adafruit_ina260.INA260(i2c, address=0x41) # init power meter (ina260) for sram power\n",
    "led = gpiozero.RGBLED(red = 22, green = 27, blue = 17, pwm = True)\n",
    "\n",
    "resolution = 1000000 # starting resolution\n",
    "led.color = (0.2,0,0.5)\n",
    "while resolution > 0:\n",
    "    sram.fill(pattern)\n",
    "    faults = sram.check(pattern)\n",
    "    if faults == 0:\n",
    "        sram.spi_hz += resolution\n",
    "    elif faults > 0:\n",
    "        sram.spi_hz -= resolution\n",
    "        resolution = int(resolution/10)\n",
    "led.off()\n",
    "print(\"max spi:\",sram.spi_hz,\"Hz\")\n",
    "\n",
    "start = time.time()\n",
    "read_current = []\n",
    "read_power = []\n",
    "kb_read = 0\n",
    "led.pulse(on_color = Color(\"red\"))\n",
    "while time.time() - start < time_limit: \n",
    "    sram.read(0,n=1024) # read a kilobyte\n",
    "    kb_read += 1\n",
    "    read_current += [-sensor.current]\n",
    "    read_power += [sensor.power]\n",
    "led.off()\n",
    "read_speed = kb_read / time_limit # kB/s\n",
    "read_current = sum(read_current)/len(read_current) # mA\n",
    "read_power = sum(read_power)/len(read_power) # mW\n",
    "\n",
    "print(\"\\nread speed:\",read_speed,\"kB/s\")\n",
    "print(\"read current:\",read_current,\"mA\")\n",
    "print(\"read power:\",read_power,\"mW\")\n",
    "\n",
    "start = time.time()\n",
    "write_current = []\n",
    "write_power = []\n",
    "kb_written = 0\n",
    "led.pulse(on_color=Color(\"green\"))\n",
    "while time.time() - start < time_limit: \n",
    "    sram.write(0,pattern,n=1024) # write a kilobyte\n",
    "    kb_written += 1\n",
    "    write_current += [-sensor.current]\n",
    "    write_power += [sensor.power]\n",
    "led.off()\n",
    "write_speed = kb_written / time_limit # kB/s\n",
    "write_current = sum(write_current)/len(write_current) # mA\n",
    "write_power = sum(write_power)/len(write_power) # mW\n",
    "\n",
    "print(\"\\nwrite speed:\",write_speed,\"kB/s\")\n",
    "print(\"write current:\",write_current,\"mA\")\n",
    "print(\"write power:\",write_power,\"mW\")\n",
    "\n",
    "start = time.time()\n",
    "idle_current = []\n",
    "idle_power = []\n",
    "led.pulse(on_color=Color(\"blue\"))\n",
    "while time.time() - start < time_limit:\n",
    "    time.sleep(0.001) # wait 1 ms\n",
    "    idle_current += [-sensor.current]\n",
    "    idle_power += [sensor.power]\n",
    "led.off()\n",
    "idle_current = sum(idle_current)/len(idle_current) # mA\n",
    "idle_power = sum(idle_power)/len(idle_power) # mW\n",
    "\n",
    "print(\"\\nidle current:\",idle_current,\"mA\")\n",
    "print(\"idle power:\",idle_power,\"mW\")\n",
    "\n",
    "sram.spi_hz = default_hz # reset spi max\n",
    "led.close()"
   ]
  },
  {
   "cell_type": "code",
   "execution_count": 28,
   "id": "computational-bahrain",
   "metadata": {},
   "outputs": [
    {
     "name": "stdout",
     "output_type": "stream",
     "text": [
      "voltage: 1.9937500000000001\n",
      "current: -3.75\n",
      "power: 10\n"
     ]
    }
   ],
   "source": [
    "import memex\n",
    "import time\n",
    "import spidev\n",
    "import board\n",
    "import busio\n",
    "import digitalio\n",
    "import adafruit_ina260\n",
    "\n",
    "spi_disable = digitalio.DigitalInOut(board.D25) # init spi_disable pin\n",
    "spi_disable.direction = digitalio.Direction.OUTPUT # set to output\n",
    "spi_disable.value = True # init as false\n",
    "\n",
    "\n",
    "time.sleep(2)\n",
    "\n",
    "i2c = busio.I2C(board.SCL, board.SDA) # init i2c bus\n",
    "sd = adafruit_ina260.INA260(i2c, address=0x41) # init power meter (ina260) for sd power\n",
    "print(\"voltage:\",sd.voltage)\n",
    "print(\"current:\",sd.current)\n",
    "print(\"power:\",sd.power)\n",
    "\n",
    "time.sleep(1)\n",
    "\n",
    "spi_disable.value = False"
   ]
  },
  {
   "cell_type": "code",
   "execution_count": 29,
   "id": "cardiovascular-penalty",
   "metadata": {
    "scrolled": false
   },
   "outputs": [
    {
     "name": "stdout",
     "output_type": "stream",
     "text": [
      "32768\n",
      "262144\n"
     ]
    }
   ],
   "source": [
    "import memex\n",
    "import digitalio\n",
    "import board\n",
    "import spidev\n",
    "\n",
    "spi_disable = digitalio.DigitalInOut(board.D25) # init spi_disable pin\n",
    "spi_disable.direction = digitalio.Direction.OUTPUT # set to output\n",
    "spi_disable.value = False # init as false\n",
    "\n",
    "sram0 = memex.sram(spi=spidev.SpiDev(),debug=False)\n",
    "sram1 = memex.sram(spi=spidev.SpiDev(),cs=1,debug=False)\n",
    "\n",
    "sram0.fill(1)\n",
    "print(sram0.check(0))\n",
    "\n",
    "sram1.fill(0)\n",
    "print(sram1.check(255))"
   ]
  },
  {
   "cell_type": "code",
   "execution_count": 1,
   "id": "fleet-compensation",
   "metadata": {},
   "outputs": [
    {
     "name": "stdout",
     "output_type": "stream",
     "text": [
      "faults: 32768\n",
      "time: 1.9165842533111572\n"
     ]
    }
   ],
   "source": [
    "import memex\n",
    "import digitalio\n",
    "import board\n",
    "import busio\n",
    "import time\n",
    "\n",
    "sram = memex.sram()\n",
    "\n",
    "start = time.time()\n",
    "sram.fill(0)\n",
    "print(\"faults:\",sram.check(1))\n",
    "print(\"time:\",time.time()-start)"
   ]
  },
  {
   "cell_type": "code",
   "execution_count": 28,
   "id": "elementary-madrid",
   "metadata": {},
   "outputs": [
    {
     "name": "stdout",
     "output_type": "stream",
     "text": [
      "pre: 4.096 2.779584826197089 2.779584826197089 | 2.7825 12.5 40\n",
      "none: 0.0026250801110873747 0.006625202185125278 0.006500198370311594 | 0.005 -2.5 0\n",
      "half: 0.4996402478102969 0.49814020203253273 0.497640186773278 | 0.4975 1.25 0\n",
      "full: 4.096 2.7995854365672783 2.8002104556413463 | 2.805 12.5 40\n"
     ]
    }
   ],
   "source": [
    "import memex\n",
    "import digitalio\n",
    "import board\n",
    "import busio\n",
    "import adafruit_mcp4725\n",
    "import adafruit_ads1x15\n",
    "import adafruit_ina260\n",
    "\n",
    "spi_disable = digitalio.DigitalInOut(board.D25) # init spi_disable pin\n",
    "spi_disable.direction = digitalio.Direction.OUTPUT # set to output\n",
    "spi_disable.value = True # initial value\n",
    "\n",
    "cs0 = digitalio.DigitalInOut(board.D8)\n",
    "cs0.direction = digitalio.Direction.OUTPUT # set to output\n",
    "cs0.value = False\n",
    "\n",
    "cs1 = digitalio.DigitalInOut(board.D7)\n",
    "cs1.direction = digitalio.Direction.OUTPUT # set to output\n",
    "cs1.value = False\n",
    "\n",
    "i2c = busio.I2C(board.SCL, board.SDA)\n",
    "\n",
    "dac = adafruit_mcp4725.MCP4725(i2c)\n",
    "\n",
    "adc = adafruit_ads1x15.ads1115.ADS1115(i2c)\n",
    "a0 = adafruit_ads1x15.analog_in.AnalogIn(adc, adafruit_ads1x15.ads1115.P0)\n",
    "a1 = adafruit_ads1x15.analog_in.AnalogIn(adc, adafruit_ads1x15.ads1115.P1)\n",
    "a2 = adafruit_ads1x15.analog_in.AnalogIn(adc, adafruit_ads1x15.ads1115.P2)\n",
    "\n",
    "sensor = adafruit_ina260.INA260(i2c, address=0x41)\n",
    "\n",
    "print(\"pre:\",a0.voltage,a1.voltage,a2.voltage,\"|\",sensor.voltage,sensor.current,sensor.power)\n",
    "dac.value = 0\n",
    "time.sleep(1)\n",
    "print(\"none:\",a0.voltage,a1.voltage,a2.voltage,\"|\",sensor.voltage,sensor.current,sensor.power)\n",
    "dac.raw_value = 420\n",
    "time.sleep(1)\n",
    "print(\"half:\",a0.voltage,a1.voltage,a2.voltage,\"|\",sensor.voltage,sensor.current,sensor.power)\n",
    "dac.raw_value = 4095\n",
    "time.sleep(1)\n",
    "print(\"full:\",a0.voltage,a1.voltage,a2.voltage,\"|\",sensor.voltage,sensor.current,sensor.power)\n"
   ]
  },
  {
   "cell_type": "code",
   "execution_count": 6,
   "id": "romantic-logan",
   "metadata": {},
   "outputs": [
    {
     "name": "stdout",
     "output_type": "stream",
     "text": [
      "V_HOLD (V): 0.31\n",
      "T_HOLD (s): 1\n",
      "Error in memex.set_voltage(): timed out\n",
      "v_actual: 0.31025946836756496\n",
      "AbsTime(s)\tHoldTime(s)\tHoldVolts(V)\tDataPattern\tSRAMFaults(#)\tSRAMFaults(#)\n",
      "1617908711\t1\t0.31025946836756496\t0\t1024\t0\n"
     ]
    }
   ],
   "source": [
    "# hold at voltage\n",
    "\n",
    "import memex\n",
    "import time\n",
    "import digitalio\n",
    "import board\n",
    "import busio\n",
    "import adafruit_mcp4725\n",
    "import adafruit_ads1x15.ads1115 as ADS\n",
    "from adafruit_ads1x15.analog_in import AnalogIn\n",
    "import adafruit_ina260\n",
    "import gpiozero\n",
    "\n",
    "# script setup\n",
    "pattern = 0\n",
    "v_hold = float(input(\"V_HOLD (V): \"))\n",
    "t_hold = input(\"T_HOLD (s): \")\n",
    "\n",
    "i2c = busio.I2C(board.SCL, board.SDA)\n",
    "spi = busio.SPI(board.SCLK,MOSI=board.MOSI,MISO=board.MISO)\n",
    "\n",
    "spi_disable = digitalio.DigitalInOut(board.D25) # init spi_disable pin\n",
    "spi_disable.direction = digitalio.Direction.OUTPUT # set to output\n",
    "spi_disable.value = False # initial value\n",
    "\n",
    "sram0 = memex.sram(spi,cs=board.D8) # init sram0\n",
    "sram1 = memex.sram(spi,cs=board.D7) # init sram1\n",
    "\n",
    "dac = adafruit_mcp4725.MCP4725(i2c) # init dac\n",
    "\n",
    "adc = ADS.ADS1115(i2c) # init adc\n",
    "a0 = AnalogIn(adc, ADS.P0)\n",
    "a1 = AnalogIn(adc, ADS.P1)\n",
    "a2 = AnalogIn(adc, ADS.P2)\n",
    "\n",
    "try:\n",
    "    led = gpiozero.RGBLED(red=17,green=27,blue=22,pwm=True) # init led\n",
    "except:\n",
    "    led.close()\n",
    "    led = gpiozero.RGBLED(red=17,green=27,blue=22,pwm=True) # init led\n",
    "\n",
    "# fill with pattern\n",
    "sram0.fill(pattern)\n",
    "sram1.fill(pattern)\n",
    "\n",
    "# set voltage\n",
    "led.color = (0,0,1) # blue\n",
    "spi_disable.value = True\n",
    "sram0.cs.value = False\n",
    "sram1.cs.value = False\n",
    "v_actual = memex.set_voltage(v_hold)\n",
    "print(\"v_actual:\",v_actual)\n",
    "\n",
    "# wait for time\n",
    "led.color = (0,1,0) # green\n",
    "if t_hold is \"\":\n",
    "    start = time.time()\n",
    "    input(\"Press Enter to reset VDD and count faults\")\n",
    "    t_hold = time.time() - start\n",
    "else:\n",
    "    time.sleep(float(t_hold))\n",
    "    \n",
    "# reset voltage\n",
    "led.color = (0,0,1) # blue\n",
    "spi_disable.value = False\n",
    "sram0.cs.value = True\n",
    "sram1.cs.value = True\n",
    "memex.set_voltage(3.3)\n",
    "time.sleep(1) # let voltage settle\n",
    "\n",
    "# save data\n",
    "led.color = (0,0,0) # off\n",
    "data = [memex.timestamp(),\n",
    "        t_hold,\n",
    "        v_actual,\n",
    "        pattern,\n",
    "        sram0.check(pattern),\n",
    "        sram1.check(pattern)]\n",
    "header = [\"AbsTime(s)\",\n",
    "          \"HoldTime(s)\",\n",
    "          \"HoldVolts(V)\",\n",
    "          \"DataPattern\",\n",
    "          sram0.name + \"Faults(#)\",\n",
    "          sram1.name + \"Faults(#)\"]\n",
    "print(*header,sep='\\t')\n",
    "print(*data,sep='\\t')\n",
    "memex.log(data,header,file=\"data/sram/check.csv\")"
   ]
  },
  {
   "cell_type": "code",
   "execution_count": null,
   "id": "composite-mercury",
   "metadata": {},
   "outputs": [],
   "source": []
  }
 ],
 "metadata": {
  "kernelspec": {
   "display_name": "Python 3",
   "language": "python",
   "name": "python3"
  },
  "language_info": {
   "codemirror_mode": {
    "name": "ipython",
    "version": 3
   },
   "file_extension": ".py",
   "mimetype": "text/x-python",
   "name": "python",
   "nbconvert_exporter": "python",
   "pygments_lexer": "ipython3",
   "version": "3.7.3"
  }
 },
 "nbformat": 4,
 "nbformat_minor": 5
}
