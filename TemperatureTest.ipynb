{
 "cells": [
  {
   "cell_type": "markdown",
   "id": "sharp-louisville",
   "metadata": {},
   "source": [
    "## Pseudocode\n",
    "<ul>\n",
    "    <li> Initialize sensors </li>\n",
    "    <li> Initialize SD card </li>\n",
    "    <li> Read sensors </li>\n",
    "    <li> Write operation for 10 seconds </li>\n",
    "    <ul>\n",
    "        <li> Find average write current (mA) </li>\n",
    "        <li> Find average write speed (MB/s) </li>\n",
    "        <li> Track functional errors (#) </li>\n",
    "    </ul>\n",
    "    <li> Read operation for 10 seconds </li>\n",
    "    <ul>\n",
    "        <li> Find average read current (mA) </li>\n",
    "        <li> Find average read speed (MB/s) </li>\n",
    "        <li> Track bit errors (bits/MB) </li>\n",
    "        <li> Track block errors (bits/MB) </li>\n",
    "        <li> Track functional errors (#) </li>\n",
    "    </ul>\n",
    "    <li> Erase operation for 10 seconds </li>\n",
    "    <ul>\n",
    "        <li> Find average erase current (mA) </li>\n",
    "        <li> Find average erase speed (MB/s) </li>\n",
    "        <li> Track functional errors (#) </li>\n",
    "    </ul>\n",
    "    <li> Standby for 10 seconds to find average idle current (mA) </li>\n",
    "    <li> Read sensors again and find average </li>\n",
    "    <li> Record data in CSV </li>\n",
    "</ul>"
   ]
  },
  {
   "cell_type": "code",
   "execution_count": 2,
   "id": "continental-millennium",
   "metadata": {
    "scrolled": false
   },
   "outputs": [
    {
     "name": "stdout",
     "output_type": "stream",
     "text": [
      "Current: 252.50 mA Voltage: 5.07 V Power:1460.00 mW\n",
      "Current: 242.50 mA Voltage: 5.08 V Power:1240.00 mW\n",
      "Current: 241.25 mA Voltage: 5.08 V Power:1320.00 mW\n",
      "Current: 245.00 mA Voltage: 5.08 V Power:1240.00 mW\n",
      "Current: 236.25 mA Voltage: 5.08 V Power:1290.00 mW\n",
      "Current: 246.25 mA Voltage: 5.07 V Power:1230.00 mW\n",
      "Current: 228.75 mA Voltage: 5.08 V Power:1340.00 mW\n",
      "Current: 256.25 mA Voltage: 5.08 V Power:1220.00 mW\n",
      "Current: 217.50 mA Voltage: 5.08 V Power:1290.00 mW\n",
      "Current: 261.25 mA Voltage: 5.08 V Power:1200.00 mW\n"
     ]
    },
    {
     "ename": "KeyboardInterrupt",
     "evalue": "",
     "output_type": "error",
     "traceback": [
      "\u001b[0;31m---------------------------------------------------------------------------\u001b[0m",
      "\u001b[0;31mKeyboardInterrupt\u001b[0m                         Traceback (most recent call last)",
      "\u001b[0;32m<ipython-input-2-cd226870eb89>\u001b[0m in \u001b[0;36m<module>\u001b[0;34m\u001b[0m\n\u001b[1;32m      8\u001b[0m \u001b[0;32mwhile\u001b[0m \u001b[0;32mTrue\u001b[0m\u001b[0;34m:\u001b[0m\u001b[0;34m\u001b[0m\u001b[0;34m\u001b[0m\u001b[0m\n\u001b[1;32m      9\u001b[0m     \u001b[0mprint\u001b[0m\u001b[0;34m(\u001b[0m\u001b[0;34m\"Current: %.2f mA Voltage: %.2f V Power:%.2f mW\"\u001b[0m \u001b[0;34m%\u001b[0m \u001b[0;34m(\u001b[0m\u001b[0mina260\u001b[0m\u001b[0;34m.\u001b[0m\u001b[0mcurrent\u001b[0m\u001b[0;34m,\u001b[0m \u001b[0mina260\u001b[0m\u001b[0;34m.\u001b[0m\u001b[0mvoltage\u001b[0m\u001b[0;34m,\u001b[0m \u001b[0mina260\u001b[0m\u001b[0;34m.\u001b[0m\u001b[0mpower\u001b[0m\u001b[0;34m)\u001b[0m\u001b[0;34m)\u001b[0m\u001b[0;34m\u001b[0m\u001b[0;34m\u001b[0m\u001b[0m\n\u001b[0;32m---> 10\u001b[0;31m     \u001b[0mtime\u001b[0m\u001b[0;34m.\u001b[0m\u001b[0msleep\u001b[0m\u001b[0;34m(\u001b[0m\u001b[0;36m1\u001b[0m\u001b[0;34m)\u001b[0m\u001b[0;34m\u001b[0m\u001b[0;34m\u001b[0m\u001b[0m\n\u001b[0m",
      "\u001b[0;31mKeyboardInterrupt\u001b[0m: "
     ]
    }
   ],
   "source": [
    "import time\n",
    "import board\n",
    "import adafruit_ina260\n",
    " \n",
    "i2c = board.I2C() # initializes i2c bus\n",
    "ina260 = adafruit_ina260.INA260(i2c, address=0x40) # inits ina260\n",
    "\n",
    "while True:\n",
    "    print(\"Current: %.2f mA Voltage: %.2f V Power:%.2f mW\" % (ina260.current, ina260.voltage, ina260.power))\n",
    "    time.sleep(1)"
   ]
  },
  {
   "cell_type": "code",
   "execution_count": 1,
   "id": "creative-single",
   "metadata": {},
   "outputs": [
    {
     "name": "stdout",
     "output_type": "stream",
     "text": [
      "Current: 3.75 mA Voltage: 5.11 V Power:10.00 mW\n",
      "Current: 3.75 mA Voltage: 5.12 V Power:10.00 mW\n",
      "Current: 2.50 mA Voltage: 5.16 V Power:10.00 mW\n",
      "Current: 3.75 mA Voltage: 5.11 V Power:10.00 mW\n",
      "Current: 5.00 mA Voltage: 5.13 V Power:30.00 mW\n",
      "Current: 3.75 mA Voltage: 5.13 V Power:10.00 mW\n",
      "Current: 3.75 mA Voltage: 5.14 V Power:30.00 mW\n",
      "Current: 3.75 mA Voltage: 5.13 V Power:30.00 mW\n",
      "Current: 3.75 mA Voltage: 5.14 V Power:10.00 mW\n"
     ]
    },
    {
     "ename": "KeyboardInterrupt",
     "evalue": "",
     "output_type": "error",
     "traceback": [
      "\u001b[0;31m---------------------------------------------------------------------------\u001b[0m",
      "\u001b[0;31mKeyboardInterrupt\u001b[0m                         Traceback (most recent call last)",
      "\u001b[0;32m<ipython-input-1-b12d60dd5e32>\u001b[0m in \u001b[0;36m<module>\u001b[0;34m\u001b[0m\n\u001b[1;32m      8\u001b[0m \u001b[0;32mwhile\u001b[0m \u001b[0;32mTrue\u001b[0m\u001b[0;34m:\u001b[0m\u001b[0;34m\u001b[0m\u001b[0;34m\u001b[0m\u001b[0m\n\u001b[1;32m      9\u001b[0m     \u001b[0mprint\u001b[0m\u001b[0;34m(\u001b[0m\u001b[0;34m\"Current: %.2f mA Voltage: %.2f V Power:%.2f mW\"\u001b[0m \u001b[0;34m%\u001b[0m \u001b[0;34m(\u001b[0m\u001b[0mina260\u001b[0m\u001b[0;34m.\u001b[0m\u001b[0mcurrent\u001b[0m\u001b[0;34m,\u001b[0m \u001b[0mina260\u001b[0m\u001b[0;34m.\u001b[0m\u001b[0mvoltage\u001b[0m\u001b[0;34m,\u001b[0m \u001b[0mina260\u001b[0m\u001b[0;34m.\u001b[0m\u001b[0mpower\u001b[0m\u001b[0;34m)\u001b[0m\u001b[0;34m)\u001b[0m\u001b[0;34m\u001b[0m\u001b[0;34m\u001b[0m\u001b[0m\n\u001b[0;32m---> 10\u001b[0;31m     \u001b[0mtime\u001b[0m\u001b[0;34m.\u001b[0m\u001b[0msleep\u001b[0m\u001b[0;34m(\u001b[0m\u001b[0;36m1\u001b[0m\u001b[0;34m)\u001b[0m\u001b[0;34m\u001b[0m\u001b[0;34m\u001b[0m\u001b[0m\n\u001b[0m",
      "\u001b[0;31mKeyboardInterrupt\u001b[0m: "
     ]
    }
   ],
   "source": [
    "import time\n",
    "import board\n",
    "import adafruit_ina260\n",
    " \n",
    "i2c = board.I2C() # initializes i2c bus\n",
    "ina260 = adafruit_ina260.INA260(i2c, address=0x41) # inits ina260\n",
    "\n",
    "while True:\n",
    "    print(\"Current: %.2f mA Voltage: %.2f V Power:%.2f mW\" % (ina260.current, ina260.voltage, ina260.power))\n",
    "    time.sleep(1)"
   ]
  },
  {
   "cell_type": "code",
   "execution_count": 7,
   "id": "unsigned-rates",
   "metadata": {},
   "outputs": [
    {
     "name": "stdout",
     "output_type": "stream",
     "text": [
      "\n",
      "Temperature: 24.1 C\n",
      "Humidity: 35.3 %\n",
      "\n",
      "Temperature: 24.1 C\n",
      "Humidity: 35.3 %\n",
      "\n",
      "Temperature: 24.1 C\n",
      "Humidity: 35.3 %\n"
     ]
    },
    {
     "ename": "KeyboardInterrupt",
     "evalue": "",
     "output_type": "error",
     "traceback": [
      "\u001b[0;31m---------------------------------------------------------------------------\u001b[0m",
      "\u001b[0;31mKeyboardInterrupt\u001b[0m                         Traceback (most recent call last)",
      "\u001b[0;32m<ipython-input-7-67896fc2656b>\u001b[0m in \u001b[0;36m<module>\u001b[0;34m\u001b[0m\n\u001b[1;32m     16\u001b[0m     \u001b[0mprint\u001b[0m\u001b[0;34m(\u001b[0m\u001b[0;34m\"Humidity: %0.1f %%\"\u001b[0m \u001b[0;34m%\u001b[0m \u001b[0msensor\u001b[0m\u001b[0;34m.\u001b[0m\u001b[0mrelative_humidity\u001b[0m\u001b[0;34m)\u001b[0m\u001b[0;34m\u001b[0m\u001b[0;34m\u001b[0m\u001b[0m\n\u001b[1;32m     17\u001b[0m     \u001b[0mloopcount\u001b[0m \u001b[0;34m+=\u001b[0m \u001b[0;36m1\u001b[0m\u001b[0;34m\u001b[0m\u001b[0;34m\u001b[0m\u001b[0m\n\u001b[0;32m---> 18\u001b[0;31m     \u001b[0mtime\u001b[0m\u001b[0;34m.\u001b[0m\u001b[0msleep\u001b[0m\u001b[0;34m(\u001b[0m\u001b[0;36m2\u001b[0m\u001b[0;34m)\u001b[0m\u001b[0;34m\u001b[0m\u001b[0;34m\u001b[0m\u001b[0m\n\u001b[0m\u001b[1;32m     19\u001b[0m     \u001b[0;31m# every 10 passes turn on the heater for 1 second\u001b[0m\u001b[0;34m\u001b[0m\u001b[0;34m\u001b[0m\u001b[0;34m\u001b[0m\u001b[0m\n\u001b[1;32m     20\u001b[0m     \u001b[0;32mif\u001b[0m \u001b[0mloopcount\u001b[0m \u001b[0;34m==\u001b[0m \u001b[0;36m10\u001b[0m\u001b[0;34m:\u001b[0m\u001b[0;34m\u001b[0m\u001b[0;34m\u001b[0m\u001b[0m\n",
      "\u001b[0;31mKeyboardInterrupt\u001b[0m: "
     ]
    }
   ],
   "source": [
    "# SPDX-FileCopyrightText: 2021 ladyada for Adafruit Industries\n",
    "# SPDX-License-Identifier: MIT\n",
    " \n",
    "import time\n",
    "import board\n",
    "import busio\n",
    "import adafruit_sht31d\n",
    " \n",
    "# Create library object using our Bus I2C port\n",
    "i2c = busio.I2C(board.SCL, board.SDA)\n",
    "sensor = adafruit_sht31d.SHT31D(i2c)\n",
    " \n",
    "loopcount = 0\n",
    "while True:\n",
    "    print(\"\\nTemperature: %0.1f C\" % sensor.temperature)\n",
    "    print(\"Humidity: %0.1f %%\" % sensor.relative_humidity)\n",
    "    loopcount += 1\n",
    "    time.sleep(2)\n",
    "    # every 10 passes turn on the heater for 1 second\n",
    "    if loopcount == 10:\n",
    "        loopcount = 0\n",
    "        sensor.heater = True\n",
    "        print(\"Sensor Heater status =\", sensor.heater)\n",
    "        time.sleep(1)\n",
    "        sensor.heater = False\n",
    "        print(\"Sensor Heater status =\", sensor.heater)"
   ]
  },
  {
   "cell_type": "code",
   "execution_count": 6,
   "id": "manufactured-batman",
   "metadata": {},
   "outputs": [
    {
     "name": "stdout",
     "output_type": "stream",
     "text": [
      "Temperature: 24.0625 C 75.3125 F \n",
      "Temperature: 24.0 C 75.2 F \n",
      "Temperature: 24.0 C 75.2 F \n"
     ]
    },
    {
     "ename": "KeyboardInterrupt",
     "evalue": "",
     "output_type": "error",
     "traceback": [
      "\u001b[0;31m---------------------------------------------------------------------------\u001b[0m",
      "\u001b[0;31mKeyboardInterrupt\u001b[0m                         Traceback (most recent call last)",
      "\u001b[0;32m<ipython-input-6-d5276563d6aa>\u001b[0m in \u001b[0;36m<module>\u001b[0;34m\u001b[0m\n\u001b[1;32m     20\u001b[0m     \u001b[0mtempF\u001b[0m \u001b[0;34m=\u001b[0m \u001b[0mtempC\u001b[0m \u001b[0;34m*\u001b[0m \u001b[0;36m9\u001b[0m \u001b[0;34m/\u001b[0m \u001b[0;36m5\u001b[0m \u001b[0;34m+\u001b[0m \u001b[0;36m32\u001b[0m\u001b[0;34m\u001b[0m\u001b[0;34m\u001b[0m\u001b[0m\n\u001b[1;32m     21\u001b[0m     \u001b[0mprint\u001b[0m\u001b[0;34m(\u001b[0m\u001b[0;34m\"Temperature: {} C {} F \"\u001b[0m\u001b[0;34m.\u001b[0m\u001b[0mformat\u001b[0m\u001b[0;34m(\u001b[0m\u001b[0mtempC\u001b[0m\u001b[0;34m,\u001b[0m \u001b[0mtempF\u001b[0m\u001b[0;34m)\u001b[0m\u001b[0;34m)\u001b[0m\u001b[0;34m\u001b[0m\u001b[0;34m\u001b[0m\u001b[0m\n\u001b[0;32m---> 22\u001b[0;31m     \u001b[0mtime\u001b[0m\u001b[0;34m.\u001b[0m\u001b[0msleep\u001b[0m\u001b[0;34m(\u001b[0m\u001b[0;36m2\u001b[0m\u001b[0;34m)\u001b[0m\u001b[0;34m\u001b[0m\u001b[0;34m\u001b[0m\u001b[0m\n\u001b[0m",
      "\u001b[0;31mKeyboardInterrupt\u001b[0m: "
     ]
    }
   ],
   "source": [
    "# SPDX-FileCopyrightText: 2021 ladyada for Adafruit Industries\n",
    "# SPDX-License-Identifier: MIT\n",
    " \n",
    "import time\n",
    "import board\n",
    "import busio\n",
    "import adafruit_mcp9808\n",
    " \n",
    "i2c_bus = busio.I2C(board.SCL, board.SDA)\n",
    " \n",
    "# To initialise using the default address:\n",
    "mcp = adafruit_mcp9808.MCP9808(i2c_bus)\n",
    " \n",
    "# To initialise using a specified address:\n",
    "# Necessary when, for example, connecting A0 to VDD to make address=0x19\n",
    "# mcp = adafruit_mcp9808.MCP9808(i2c_bus, address=0x19)\n",
    " \n",
    "while True:\n",
    "    tempC = mcp.temperature\n",
    "    tempF = tempC * 9 / 5 + 32\n",
    "    print(\"Temperature: {} C {} F \".format(tempC, tempF))\n",
    "    time.sleep(2)"
   ]
  },
  {
   "cell_type": "markdown",
   "id": "developmental-connecticut",
   "metadata": {},
   "source": [
    "<html><head>\n",
    "\n",
    "\n",
    "<!-- Load require.js. Delete this if your page already loads require.js -->\n",
    "<script src=\"https://cdnjs.cloudflare.com/ajax/libs/require.js/2.3.4/require.min.js\" integrity=\"sha256-Ae2Vz/4ePdIu6ZyI/5ZGsYnb+m0JlOmKPjt6XZ9JJkA=\" crossorigin=\"anonymous\"></script>\n",
    "<script src=\"https://unpkg.com/@jupyter-widgets/html-manager@*/dist/embed-amd.js\" crossorigin=\"anonymous\"></script>\n",
    "<script type=\"application/vnd.jupyter.widget-state+json\">\n",
    "{\n",
    "    \"version_major\": 2,\n",
    "    \"version_minor\": 0,\n",
    "    \"state\": {}\n",
    "}\n",
    "</script>\n",
    "</head>\n",
    "<body>\n",
    "\n",
    "\n",
    "</body>\n",
    "</html>\n"
   ]
  },
  {
   "cell_type": "code",
   "execution_count": 4,
   "id": "direct-government",
   "metadata": {
    "scrolled": true
   },
   "outputs": [
    {
     "ename": "AttributeError",
     "evalue": "module 'storage' has no attribute 'VfsFat'",
     "output_type": "error",
     "traceback": [
      "\u001b[0;31m---------------------------------------------------------------------------\u001b[0m",
      "\u001b[0;31mAttributeError\u001b[0m                            Traceback (most recent call last)",
      "\u001b[0;32m<ipython-input-4-c1000c6636b1>\u001b[0m in \u001b[0;36m<module>\u001b[0;34m\u001b[0m\n\u001b[1;32m     18\u001b[0m \u001b[0mcs\u001b[0m \u001b[0;34m=\u001b[0m \u001b[0mdigitalio\u001b[0m\u001b[0;34m.\u001b[0m\u001b[0mDigitalInOut\u001b[0m\u001b[0;34m(\u001b[0m\u001b[0mboard\u001b[0m\u001b[0;34m.\u001b[0m\u001b[0mD8\u001b[0m\u001b[0;34m)\u001b[0m\u001b[0;34m\u001b[0m\u001b[0;34m\u001b[0m\u001b[0m\n\u001b[1;32m     19\u001b[0m \u001b[0msdcard\u001b[0m \u001b[0;34m=\u001b[0m \u001b[0madafruit_sdcard\u001b[0m\u001b[0;34m.\u001b[0m\u001b[0mSDCard\u001b[0m\u001b[0;34m(\u001b[0m\u001b[0mspi\u001b[0m\u001b[0;34m,\u001b[0m \u001b[0mcs\u001b[0m\u001b[0;34m)\u001b[0m\u001b[0;34m\u001b[0m\u001b[0;34m\u001b[0m\u001b[0m\n\u001b[0;32m---> 20\u001b[0;31m \u001b[0mvfs\u001b[0m \u001b[0;34m=\u001b[0m \u001b[0mstorage\u001b[0m\u001b[0;34m.\u001b[0m\u001b[0mVfsFat\u001b[0m\u001b[0;34m(\u001b[0m\u001b[0msdcard\u001b[0m\u001b[0;34m)\u001b[0m\u001b[0;34m\u001b[0m\u001b[0;34m\u001b[0m\u001b[0m\n\u001b[0m\u001b[1;32m     21\u001b[0m \u001b[0mstorage\u001b[0m\u001b[0;34m.\u001b[0m\u001b[0mmount\u001b[0m\u001b[0;34m(\u001b[0m\u001b[0mvfs\u001b[0m\u001b[0;34m,\u001b[0m \u001b[0;34m\"/sd\"\u001b[0m\u001b[0;34m)\u001b[0m\u001b[0;34m\u001b[0m\u001b[0;34m\u001b[0m\u001b[0m\n\u001b[1;32m     22\u001b[0m \u001b[0;34m\u001b[0m\u001b[0m\n",
      "\u001b[0;31mAttributeError\u001b[0m: module 'storage' has no attribute 'VfsFat'"
     ]
    }
   ],
   "source": [
    "# write (find write speed and current, averaged over 10 seconds)\n",
    "\n",
    "import board\n",
    "import busio\n",
    "import digitalio\n",
    "import adafruit_sdcard\n",
    "import storage\n",
    "import gpiozero\n",
    "import time\n",
    "import memex\n",
    "\n",
    "# script setup\n",
    "period = 10 # length of test in seconds\n",
    "pattern = '01234567'\n",
    "\n",
    "# initialize and mount sd card\n",
    "spi = busio.SPI(board.SCK, MOSI=board.MOSI, MISO=board.MISO)\n",
    "cs = digitalio.DigitalInOut(board.D8)\n",
    "sdcard = adafruit_sdcard.SDCard(spi, cs)\n",
    "vfs = storage.VfsFat(sdcard)\n",
    "storage.mount(vfs, \"/sd\")\n",
    "\n",
    "# initialize led\n",
    "red = gpiozero.LED(17)\n",
    "green = gpiozero.LED(27)\n",
    "blue = gpiozero.LED(22)\n",
    "red.off()\n",
    "blue.off()\n",
    "green.on()\n",
    "time.sleep(0.5)\n",
    "green.off()\n",
    "\n",
    "# write to sd card for 10 s\n",
    "bytes_written = 0\n",
    "with open(\"/sd/test.txt\", \"w\") as f:\n",
    "    \n",
    "    elapsed_time = 0\n",
    "    while elapsed_time < period:\n",
    "        elapsed_time += memex.sd_write()\n",
    "        bytes_written += len(pattern)\n",
    "print(bytes_written)"
   ]
  },
  {
   "cell_type": "code",
   "execution_count": 1,
   "id": "certain-disability",
   "metadata": {
    "scrolled": true
   },
   "outputs": [
    {
     "name": "stdout",
     "output_type": "stream",
     "text": [
      "reset: 1\n",
      "version: 1\n",
      "read_ocr: [255, 255, 255, 255, 1]\n",
      "init: 0\n"
     ]
    }
   ],
   "source": [
    "import memex\n",
    "import spidev\n",
    "\n",
    "spi = spidev.SpiDev()\n",
    "\n",
    "mlc = memex.sd_card(spi)"
   ]
  },
  {
   "cell_type": "code",
   "execution_count": null,
   "id": "loose-python",
   "metadata": {},
   "outputs": [],
   "source": []
  }
 ],
 "metadata": {
  "kernelspec": {
   "display_name": "Python 3",
   "language": "python",
   "name": "python3"
  },
  "language_info": {
   "codemirror_mode": {
    "name": "ipython",
    "version": 3
   },
   "file_extension": ".py",
   "mimetype": "text/x-python",
   "name": "python",
   "nbconvert_exporter": "python",
   "pygments_lexer": "ipython3",
   "version": "3.7.3"
  }
 },
 "nbformat": 4,
 "nbformat_minor": 5
}
