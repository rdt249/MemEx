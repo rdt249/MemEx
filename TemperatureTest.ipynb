{
 "cells": [
  {
   "cell_type": "markdown",
   "id": "sharp-louisville",
   "metadata": {},
   "source": [
    "## Pseudocode\n",
    "<ul>\n",
    "    <li> Initialize sensors </li>\n",
    "    <li> Initialize SD card </li>\n",
    "    <li> Read sensors </li>\n",
    "    <li> Write operation for 10 seconds </li>\n",
    "    <ul>\n",
    "        <li> Find average write current (mA) </li>\n",
    "        <li> Find average write speed (MB/s) </li>\n",
    "        <li> Track functional errors (#) </li>\n",
    "    </ul>\n",
    "    <li> Read operation for 10 seconds </li>\n",
    "    <ul>\n",
    "        <li> Find average read current (mA) </li>\n",
    "        <li> Find average read speed (MB/s) </li>\n",
    "        <li> Track bit errors (bits/MB) </li>\n",
    "        <li> Track block errors (bits/MB) </li>\n",
    "        <li> Track functional errors (#) </li>\n",
    "    </ul>\n",
    "    <li> Erase operation for 10 seconds </li>\n",
    "    <ul>\n",
    "        <li> Find average erase current (mA) </li>\n",
    "        <li> Find average erase speed (MB/s) </li>\n",
    "        <li> Track functional errors (#) </li>\n",
    "    </ul>\n",
    "    <li> Standby for 10 seconds to find average idle current (mA) </li>\n",
    "    <li> Read sensors again and find average </li>\n",
    "    <li> Record data in CSV </li>\n",
    "</ul>"
   ]
  },
  {
   "cell_type": "code",
   "execution_count": null,
   "id": "continental-millennium",
   "metadata": {},
   "outputs": [],
   "source": []
  }
 ],
 "metadata": {
  "kernelspec": {
   "display_name": "Python 3",
   "language": "python",
   "name": "python3"
  },
  "language_info": {
   "codemirror_mode": {
    "name": "ipython",
    "version": 3
   },
   "file_extension": ".py",
   "mimetype": "text/x-python",
   "name": "python",
   "nbconvert_exporter": "python",
   "pygments_lexer": "ipython3",
   "version": "3.7.3"
  }
 },
 "nbformat": 4,
 "nbformat_minor": 5
}
