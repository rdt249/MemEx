{
 "cells": [
  {
   "cell_type": "markdown",
   "id": "sharp-louisville",
   "metadata": {},
   "source": [
    "## Pseudocode\n",
    "<ul>\n",
    "    <li> list item 1 </li>\n",
    "    <ul>\n",
    "        <li> sub item </li>\n",
    "    </ul>\n",
    "    <li> list item 2 </li>\n",
    "</ul>"
   ]
  },
  {
   "cell_type": "code",
   "execution_count": null,
   "id": "numerical-breakfast",
   "metadata": {},
   "outputs": [],
   "source": [
    "import time\n",
    "import board\n",
    "import busio\n",
    "import adafruit_mcp9808\n",
    "\n",
    "i2c = busio.I2C(board.SCL,board.SDA) # \n"
   ]
  }
 ],
 "metadata": {
  "kernelspec": {
   "display_name": "Python 3",
   "language": "python",
   "name": "python3"
  },
  "language_info": {
   "codemirror_mode": {
    "name": "ipython",
    "version": 3
   },
   "file_extension": ".py",
   "mimetype": "text/x-python",
   "name": "python",
   "nbconvert_exporter": "python",
   "pygments_lexer": "ipython3",
   "version": "3.7.3"
  }
 },
 "nbformat": 4,
 "nbformat_minor": 5
}
