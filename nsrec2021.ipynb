{
 "cells": [
  {
   "cell_type": "code",
   "execution_count": null,
   "id": "enabling-audio",
   "metadata": {},
   "outputs": [],
   "source": [
    "import csv\n",
    "import pandas as pd\n",
    "import matplotlib.pyplot as plt\n",
    "\n",
    "puf_bytes = 32\n",
    "puf_layers = 11\n",
    "\n",
    "folder = \"data/sram/puf/\"\n",
    "file = \"M1_puf_1617998905.csv\"\n",
    "\n",
    "data = [0] * puf_layers\n",
    "with open(folder + file) as csvfile:\n",
    "    for row in csv.reader(csvfile):\n",
    "        for i in range(puf_layers):\n",
    "            data[i] = [[int((int(x)&0x80)/128),\n",
    "                     int((int(x)&0x40)/64),\n",
    "                     int((int(x)&0x20)/32),\n",
    "                     int((int(x)&0x10)/16),\n",
    "                     int((int(x)&0x08)/8),\n",
    "                     int((int(x)&0x04)/4),\n",
    "                     int((int(x)&0x02)/2),\n",
    "                     int((int(x)&0x01))] for x in row[i * puf_bytes : i * puf_bytes + puf_bytes]]\n",
    "            \n",
    "fig, ax = plt.subplots(1,puf_layers,figsize = (4 * puf_layers,12))\n",
    "for i in range(puf_layers):\n",
    "    ax[i].imshow(data[i])\n",
    "plt.show()\n",
    "\n",
    "puf = [0] * puf_bytes\n",
    "for n in range(puf_bytes):\n",
    "    puf[n] = [round((a+b+c+d+e+f+g+h+i+j+k)/11) for a,b,c,d,e,f,g,h,i,j,k in zip(data[0][n],\n",
    "                                                                                 data[1][n],\n",
    "                                                                                 data[2][n],\n",
    "                                                                                 data[3][n],\n",
    "                                                                                 data[4][n],\n",
    "                                                                                 data[5][n],\n",
    "                                                                                 data[6][n],\n",
    "                                                                                 data[7][n],\n",
    "                                                                                data[8][n],\n",
    "                                                                                data[9][n],\n",
    "                                                                                data[10][n])]\n",
    "    \n",
    "print(temp)\n",
    "fig, ax = plt.subplots(figsize = (4,12))\n",
    "ax.imshow(puf)"
   ]
  },
  {
   "cell_type": "code",
   "execution_count": null,
   "id": "premier-radio",
   "metadata": {},
   "outputs": [],
   "source": []
  }
 ],
 "metadata": {
  "kernelspec": {
   "display_name": "Python 3",
   "language": "python",
   "name": "python3"
  },
  "language_info": {
   "codemirror_mode": {
    "name": "ipython",
    "version": 3
   },
   "file_extension": ".py",
   "mimetype": "text/x-python",
   "name": "python",
   "nbconvert_exporter": "python",
   "pygments_lexer": "ipython3",
   "version": "3.7.3"
  }
 },
 "nbformat": 4,
 "nbformat_minor": 5
}
