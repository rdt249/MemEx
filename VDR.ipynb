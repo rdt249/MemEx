{
 "cells": [
  {
   "cell_type": "code",
   "execution_count": 1,
   "id": "cb460433",
   "metadata": {
    "scrolled": false
   },
   "outputs": [
    {
     "name": "stdout",
     "output_type": "stream",
     "text": [
      "(3.298, 3.3, 3.302, 1.8)\n",
      "(-2.5, 0.0, -2.1, 0.1)\n",
      "A1:\tstatus=65\tmode=sequential\thold=disabled\tr/w=pass\taddr=16bit\n",
      "A2:\tstatus=65\tmode=sequential\thold=disabled\tr/w=pass\taddr=16bit\n",
      "A3:\tstatus=255\tmode=unknown\thold=disabled\tr/w=fail\taddr=unknown\n",
      "B1:\tstatus=255\tmode=unknown\thold=disabled\tr/w=fail\taddr=unknown\n",
      "B2:\tstatus=255\tmode=unknown\thold=disabled\tr/w=fail\taddr=unknown\n",
      "B3:\tstatus=255\tmode=unknown\thold=disabled\tr/w=fail\taddr=unknown\n",
      "C1:\tstatus=255\tmode=unknown\thold=disabled\tr/w=fail\taddr=unknown\n",
      "C2:\tstatus=255\tmode=unknown\thold=disabled\tr/w=fail\taddr=unknown\n",
      "C3:\tstatus=255\tmode=unknown\thold=disabled\tr/w=fail\taddr=unknown\n",
      "D1:\tstatus=255\tmode=unknown\thold=disabled\tr/w=fail\taddr=unknown\n",
      "D2:\tstatus=255\tmode=unknown\thold=disabled\tr/w=fail\taddr=unknown\n",
      "D3:\tstatus=255\tmode=unknown\thold=disabled\tr/w=fail\taddr=unknown\n",
      "(0.07575231177709281, 0.07462727744376964, 0.07425226599932859, 0.07512729270302439)\n",
      "(3.298, 3.3, 3.301, 1.801)\n",
      "A1:\tstatus=65\tmode=sequential\thold=disabled\tr/w=pass\taddr=16bit\n",
      "A2:\tstatus=65\tmode=sequential\thold=disabled\tr/w=pass\taddr=16bit\n",
      "A3:\tstatus=255\tmode=unknown\thold=disabled\tr/w=fail\taddr=unknown\n",
      "B1:\tstatus=255\tmode=unknown\thold=disabled\tr/w=fail\taddr=unknown\n",
      "B2:\tstatus=255\tmode=unknown\thold=disabled\tr/w=fail\taddr=unknown\n",
      "B3:\tstatus=255\tmode=unknown\thold=disabled\tr/w=fail\taddr=unknown\n",
      "C1:\tstatus=255\tmode=unknown\thold=disabled\tr/w=fail\taddr=unknown\n",
      "C2:\tstatus=255\tmode=unknown\thold=disabled\tr/w=fail\taddr=unknown\n",
      "C3:\tstatus=255\tmode=unknown\thold=disabled\tr/w=fail\taddr=unknown\n",
      "D1:\tstatus=255\tmode=unknown\thold=disabled\tr/w=fail\taddr=unknown\n",
      "D2:\tstatus=255\tmode=unknown\thold=disabled\tr/w=fail\taddr=unknown\n",
      "D3:\tstatus=255\tmode=unknown\thold=disabled\tr/w=fail\taddr=unknown\n"
     ]
    }
   ],
   "source": [
    "from memex import *\n",
    "set_nominal(va=3.3,vc=3.3)\n",
    "print(read_outs())\n",
    "print(read_currents())\n",
    "awake = rollcall()\n",
    "print(set_outs(0.075,0.075,0.075,0.075))\n",
    "set_nominal()\n",
    "print(read_outs())\n",
    "awake = rollcall()"
   ]
  },
  {
   "cell_type": "markdown",
   "id": "3a618705",
   "metadata": {},
   "source": [
    "# Generate data\n",
    "\n",
    "Generates 2 pandas dataframes, `vdr` and `loss`.\n",
    "`vdr` contains the data retention voltage for each memory cell as a function of address.\n",
    "`loss` contains the percentage data loss of each memory as a function of voltage."
   ]
  },
  {
   "cell_type": "code",
   "execution_count": 2,
   "id": "4bd2e459",
   "metadata": {
    "scrolled": false
   },
   "outputs": [
    {
     "name": "stdout",
     "output_type": "stream",
     "text": [
      "V\tA1\tA2\tA3\tC1\n",
      "0.67\t0.0\t0.0\t0.0\t0.0\t\n",
      "0.669\t0.0\t0.0\t0.0001220703125\t0.0001220703125\t\n",
      "0.668\t0.0\t0.0\t0.000244140625\t0.0001220703125\t\n",
      "0.667\t0.0\t0.0\t0.00146484375\t0.000244140625\t\n",
      "0.666\t0.0\t0.0\t0.00537109375\t0.000244140625\t\n",
      "0.665\t0.0\t0.0001220703125\t0.0208740234375\t0.000244140625\t\n",
      "0.664\t0.0\t0.0001220703125\t0.0933837890625\t0.001708984375\t\n",
      "0.663\t0.0\t0.0010986328125\t0.3175048828125\t0.0028076171875\t\n",
      "0.662\t0.0\t0.0029296875\t0.66162109375\t0.0045166015625\t\n",
      "0.661\t0.0\t0.0106201171875\t0.8724365234375\t0.016357421875\t\n",
      "0.66\t0.0\t0.0419921875\t0.969482421875\t0.0301513671875\t\n",
      "0.659\t0.000244140625\t0.1568603515625\t0.997314453125\t0.2269287109375\t\n",
      "0.658\t0.0006103515625\t0.478515625\t1.0\t0.4248046875\t\n",
      "0.657\t0.001953125\t0.7889404296875\t1.0\t0.8231201171875\t\n",
      "0.656\t0.0067138671875\t0.9283447265625\t1.0\t0.94384765625\t\n",
      "0.655\t0.027587890625\t0.984619140625\t1.0\t0.9566650390625\t\n",
      "0.654\t0.11572265625\t0.9989013671875\t1.0\t0.9971923828125\t\n",
      "0.653\t0.591064453125\t1.0\t1.0\t0.9998779296875\t\n",
      "0.652\t0.75341796875\t1.0\t1.0\t1.0\t\n",
      "0.651\t0.931884765625\t1.0\t0.9998779296875\t1.0\t\n",
      "0.65\t0.9794921875\t0.9998779296875\t1.0\t1.0\t\n",
      "0.649\t0.9942626953125\t1.0\t1.0\t0.9998779296875\t\n",
      "0.648\t1.0\t1.0\t0.9998779296875\t1.0\t\n",
      "0.647\t1.0\t1.0\t1.0\t1.0\t\n",
      "t 655.4538099765778\n"
     ]
    }
   ],
   "source": [
    "from memex import *\n",
    "\n",
    "start = time.time()\n",
    "vdr,loss = find_vdr(n=5,vmax=0.67,inc=0.001,alt=True)\n",
    "print('t',time.time() - start)"
   ]
  },
  {
   "cell_type": "code",
   "execution_count": 3,
   "id": "bd19ff68",
   "metadata": {},
   "outputs": [],
   "source": [
    "vdr.to_csv('data/sram/vdr/H/pre/vdr.csv')\n",
    "loss.to_csv('data/sram/vdr/H/pre/loss.csv')"
   ]
  },
  {
   "cell_type": "code",
   "execution_count": 4,
   "id": "b8a54cf1",
   "metadata": {
    "scrolled": false
   },
   "outputs": [
    {
     "name": "stdout",
     "output_type": "stream",
     "text": [
      "A1    0.652405\n",
      "A2    0.657394\n",
      "A3    0.661941\n",
      "C1    0.657430\n",
      "dtype: float64\n",
      "A1    0.001256\n",
      "A2    0.001276\n",
      "A3    0.001281\n",
      "C1    0.001371\n",
      "dtype: float64\n"
     ]
    },
    {
     "data": {
      "text/plain": [
       "<AxesSubplot:>"
      ]
     },
     "execution_count": 4,
     "metadata": {},
     "output_type": "execute_result"
    },
    {
     "data": {
      "image/png": "[encoded data removed]",
      "text/plain": [
       "<Figure size 432x288 with 1 Axes>"
      ]
     },
     "metadata": {
      "needs_background": "light"
     },
     "output_type": "display_data"
    }
   ],
   "source": [
    "import matplotlib.pyplot as plt\n",
    "#plt.style.use(['science','ieee'])\n",
    "\n",
    "print(vdr.mean())\n",
    "print(vdr.std())\n",
    "vdr.boxplot()"
   ]
  },
  {
   "cell_type": "code",
   "execution_count": 5,
   "id": "f871cedc",
   "metadata": {},
   "outputs": [
    {
     "data": {
      "text/plain": [
       "<AxesSubplot:xlabel='V'>"
      ]
     },
     "execution_count": 5,
     "metadata": {},
     "output_type": "execute_result"
    },
    {
     "data": {
      "image/png": "[encoded data removed]",
      "text/plain": [
       "<Figure size 432x288 with 1 Axes>"
      ]
     },
     "metadata": {
      "needs_background": "light"
     },
     "output_type": "display_data"
    }
   ],
   "source": [
    "import matplotlib.pyplot as plt\n",
    "#plt.style.use(['science','ieee'])\n",
    "\n",
    "loss.plot()"
   ]
  },
  {
   "cell_type": "code",
   "execution_count": null,
   "id": "d481b89f",
   "metadata": {},
   "outputs": [],
   "source": []
  }
 ],
 "metadata": {
  "kernelspec": {
   "display_name": "Python 3 (ipykernel)",
   "language": "python",
   "name": "python3"
  },
  "language_info": {
   "codemirror_mode": {
    "name": "ipython",
    "version": 3
   },
   "file_extension": ".py",
   "mimetype": "text/x-python",
   "name": "python",
   "nbconvert_exporter": "python",
   "pygments_lexer": "ipython3",
   "version": "3.7.3"
  }
 },
 "nbformat": 4,
 "nbformat_minor": 5
}
